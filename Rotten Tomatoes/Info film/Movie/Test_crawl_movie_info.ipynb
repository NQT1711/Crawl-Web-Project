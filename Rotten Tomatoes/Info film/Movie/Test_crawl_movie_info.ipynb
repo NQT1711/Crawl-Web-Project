{
 "cells": [
  {
   "cell_type": "markdown",
   "metadata": {},
   "source": [
    "# Import thư viện"
   ]
  },
  {
   "cell_type": "code",
   "execution_count": 1,
   "metadata": {},
   "outputs": [],
   "source": [
    "from selenium import webdriver\n",
    "from requests import get\n",
    "from bs4 import BeautifulSoup\n",
    "import bs4\n",
    "import pandas as pd\n",
    "import numpy as np\n",
    "from time import sleep\n",
    "from random import randint\n",
    "from time import time\n",
    "from warnings import warn\n",
    "from datetime import datetime\n",
    "from datetime import timedelta\n",
    "from pytz import timezone\n",
    "from IPython.display import clear_output\n",
    "from selenium import webdriver\n",
    "from selenium.webdriver.common.keys import Keys\n",
    "from selenium.webdriver.support.ui import WebDriverWait\n",
    "from selenium.webdriver.support import expected_conditions as EC\n",
    "from selenium.webdriver.common.by import By\n",
    "from selenium.common.exceptions import TimeoutException\n",
    "from selenium.common.exceptions import StaleElementReferenceException\n",
    "import re\n",
    "import os\n",
    "import sys\n",
    "import glob\n",
    "import shutil\n",
    "from pathlib import Path\n",
    "import re"
   ]
  },
  {
   "cell_type": "code",
   "execution_count": 2,
   "metadata": {},
   "outputs": [],
   "source": [
    "# Mở trình duyệt Google Chrome ở trang thái Tab ẩn danh\n",
    "options = webdriver.ChromeOptions()\n",
    "options.add_argument('--ignore-certificate-errors')\n",
    "options.add_argument('--incognito')\n",
    "driver = webdriver.Chrome(executable_path='C:\\chromedriver', options=options)\n",
    "driver.implicitly_wait(0)"
   ]
  },
  {
   "cell_type": "code",
   "execution_count": 3,
   "metadata": {},
   "outputs": [],
   "source": [
    "list_all_url_movie = pd.read_csv('C:/WINDOWS/system32/craw_web/Quản trị cơ sở dữ liệu/Rotten Tomatoes/URL/URL_movie.csv', squeeze=True).tolist()"
   ]
  },
  {
   "cell_type": "markdown",
   "metadata": {},
   "source": [
    "# Thông tin phim"
   ]
  },
  {
   "cell_type": "code",
   "execution_count": 4,
   "metadata": {},
   "outputs": [],
   "source": [
    "# Mở url\n",
    "#url = 'https://www.rottentomatoes.com/m/beg1994'\n",
    "url = 'https://www.rottentomatoes.com/m/antman'\n",
    "driver.get(url)"
   ]
  },
  {
   "cell_type": "code",
   "execution_count": 5,
   "metadata": {},
   "outputs": [],
   "source": [
    "# Đợi cho đến khi url load xong\n",
    "element = WebDriverWait(driver, 30).until(EC.presence_of_element_located((By.CSS_SELECTOR, 'div[id=\"main_container\"]')))\n",
    "html_of_interest = driver.execute_script('return arguments[0].innerHTML',element)\n",
    "soup = BeautifulSoup(html_of_interest, 'lxml')"
   ]
  },
  {
   "cell_type": "code",
   "execution_count": 6,
   "metadata": {},
   "outputs": [
    {
     "data": {
      "text/plain": [
       "'Ant-Man'"
      ]
     },
     "execution_count": 6,
     "metadata": {},
     "output_type": "execute_result"
    }
   ],
   "source": [
    "# Tiêu đề phim\n",
    "title = soup.select('h1[class=\"scoreboard__title\"]')[0].text\n",
    "title"
   ]
  },
  {
   "cell_type": "code",
   "execution_count": 7,
   "metadata": {},
   "outputs": [
    {
     "data": {
      "text/plain": [
       "'83'"
      ]
     },
     "execution_count": 7,
     "metadata": {},
     "output_type": "execute_result"
    }
   ],
   "source": [
    "# Điểm đánh giá của nhà phê bình\n",
    "tomatometer = soup.select('score-board')[0].attrs['tomatometerscore']\n",
    "tomatometer"
   ]
  },
  {
   "cell_type": "code",
   "execution_count": 8,
   "metadata": {},
   "outputs": [
    {
     "data": {
      "text/plain": [
       "'85'"
      ]
     },
     "execution_count": 8,
     "metadata": {},
     "output_type": "execute_result"
    }
   ],
   "source": [
    "# Điểm đánh giá của khán giả\n",
    "audience_score = soup.select('score-board')[0].attrs['audiencescore']\n",
    "audience_score"
   ]
  },
  {
   "cell_type": "code",
   "execution_count": 18,
   "metadata": {},
   "outputs": [
    {
     "data": {
      "text/plain": [
       "'339 Reviews'"
      ]
     },
     "execution_count": 18,
     "metadata": {},
     "output_type": "execute_result"
    }
   ],
   "source": [
    "# Số lượt đánh giá của nhà phê bình\n",
    "num_tomatometer = soup.select('a[slot=\"critics-count\"]')[0].text.strip()\n",
    "num_tomatometer"
   ]
  },
  {
   "cell_type": "code",
   "execution_count": 10,
   "metadata": {},
   "outputs": [
    {
     "data": {
      "text/plain": [
       "'\\n                            100,000+ Ratings'"
      ]
     },
     "execution_count": 10,
     "metadata": {},
     "output_type": "execute_result"
    }
   ],
   "source": [
    "# Số lượt đánh giá của khán giả\n",
    "num_audience_score = soup.select('a[slot=\"audience-count\"]')[0].text.strip()\n",
    "num_audience_score"
   ]
  },
  {
   "cell_type": "code",
   "execution_count": 11,
   "metadata": {},
   "outputs": [
    {
     "data": {
      "text/plain": [
       "'certified-fresh'"
      ]
     },
     "execution_count": 11,
     "metadata": {},
     "output_type": "execute_result"
    }
   ],
   "source": [
    "# The Tomatometer score\n",
    "tomatometer_state = soup.select('score-board')[0].attrs['tomatometerstate']\n",
    "tomatometer_state"
   ]
  },
  {
   "cell_type": "code",
   "execution_count": 12,
   "metadata": {},
   "outputs": [
    {
     "data": {
      "text/plain": [
       "'upright'"
      ]
     },
     "execution_count": 12,
     "metadata": {},
     "output_type": "execute_result"
    }
   ],
   "source": [
    "# The Audience Score\n",
    "audience_state = soup.select('score-board')[0].attrs['audiencestate']\n",
    "audience_state"
   ]
  },
  {
   "cell_type": "code",
   "execution_count": 20,
   "metadata": {},
   "outputs": [
    {
     "name": "stdout",
     "output_type": "stream",
     "text": [
      "RatingPG-13 (Sci-Fi Action Violence)\n",
      "GenreAction, Adventure, Fantasy, Comedy\n",
      "Original LanguageEnglish\n",
      "DirectorPeyton Reed\n",
      "ProducerKevin Feige\n",
      "WriterEdgar Wright, Joe Cornish, Adam McKay, Paul Rudd\n",
      "Release Date (Theaters)Jul 17, 2015 wide\n",
      "Release Date (Streaming)Dec 8, 2015\n",
      "Box Office (Gross USA)$180.2M\n",
      "Runtime1h 57m\n",
      "DistributorWalt Disney\n",
      "Sound MixDolby Atmos, Dolby Digital\n",
      "View the collectionMarvel Cinematic Universe\n"
     ]
    }
   ],
   "source": [
    "# Thông tin phim\n",
    "list_name_info = soup.select('div[class=\"meta-label subtle\"]')\n",
    "list_info = soup.select('div[data-qa=\"movie-info-item-value\"]')\n",
    "\n",
    "for num_info in range(len(list_name_info)):\n",
    "    name_info = list_name_info[num_info].text.replace('  ', '').replace('\\n', '').replace(':', '')\n",
    "    info = list_info[num_info].text.replace('  ', '').replace('\\n', '').replace(':', '')\n",
    "    print(name_info + info)"
   ]
  },
  {
   "cell_type": "code",
   "execution_count": 14,
   "metadata": {},
   "outputs": [
    {
     "data": {
      "text/plain": [
       "'Forced out of his own company by former protégé Darren Cross, Dr. Hank Pym (Michael Douglas) recruits the talents of Scott Lang (Paul Rudd), a master thief just released from prison. Lang becomes Ant-Man, trained by Pym and armed with a suit that allows him to shrink in size, possess superhuman strength and control an army of ants. The miniature hero must use his new skills to prevent Cross, also known as Yellowjacket, from perfecting the same technology and using it as a weapon for evil.'"
      ]
     },
     "execution_count": 14,
     "metadata": {},
     "output_type": "execute_result"
    }
   ],
   "source": [
    "# Tóm tắt nội dụng phim\n",
    "synopsis = soup.select('div[id=\"movieSynopsis\"]')[0].text.strip()\n",
    "synopsis"
   ]
  },
  {
   "cell_type": "code",
   "execution_count": 15,
   "metadata": {},
   "outputs": [
    {
     "data": {
      "text/plain": [
       "\"Paul Rudd, Michael Douglas, Evangeline Lilly, Corey Stoll, Bobby Cannavale, Judy Greer, Abby Ryder Fortson, Michael Peña, David Dastmalchian, T.I., Wood Harris, Hayley Atwell, John Slattery, Martin Donovan, Garrett Morris, Gregg Turkington, Rod Hallett, Joe Chrest, Peyton Reed, Edgar Wright, Joe Cornish, Adam McKay, Paul Rudd, Kevin Feige, Louis D'Esposito, Alan Fine, Victoria Alonso, Michael Grillo, Stan Lee, Edgar Wright, Russell Carpenter, Dan Lebental, Colby Parker Jr., Christophe Beck, Shepherd Frankel, Sammy Sheldon, Sarah Halley Finn\""
      ]
     },
     "execution_count": 15,
     "metadata": {},
     "output_type": "execute_result"
    }
   ],
   "source": [
    "# Diễn viên\n",
    "list_raw_cast = soup.select('span[class=\"characters subtle smaller\"]')\n",
    "list_cast = []\n",
    "\n",
    "for c in list_raw_cast:\n",
    "    list_cast.append(c.attrs['title'])\n",
    "\n",
    "cast = ', '.join(list_cast)\n",
    "cast"
   ]
  },
  {
   "cell_type": "code",
   "execution_count": 16,
   "metadata": {},
   "outputs": [
    {
     "ename": "SyntaxError",
     "evalue": "invalid syntax (<ipython-input-16-a5d5b61aa8a6>, line 1)",
     "output_type": "error",
     "traceback": [
      "\u001b[1;36m  File \u001b[1;32m\"<ipython-input-16-a5d5b61aa8a6>\"\u001b[1;36m, line \u001b[1;32m1\u001b[0m\n\u001b[1;33m    .\u001b[0m\n\u001b[1;37m    ^\u001b[0m\n\u001b[1;31mSyntaxError\u001b[0m\u001b[1;31m:\u001b[0m invalid syntax\n"
     ]
    }
   ],
   "source": [
    "."
   ]
  },
  {
   "cell_type": "markdown",
   "metadata": {},
   "source": [
    "# Reviews phim"
   ]
  },
  {
   "cell_type": "markdown",
   "metadata": {},
   "source": [
    "### Reviews của nhà phê bình"
   ]
  },
  {
   "cell_type": "code",
   "execution_count": null,
   "metadata": {},
   "outputs": [],
   "source": [
    "# Chuyển đến url review\n",
    "driver.get(url + '/reviews')\n",
    "\n",
    "element_critic_review = WebDriverWait(driver, 30).until(EC.presence_of_element_located((By.CSS_SELECTOR, 'div[class=\"layout reviews-page-container\"]')))\n",
    "html_of_interest = driver.execute_script('return arguments[0].innerHTML',element_critic_review)\n",
    "soup_critic_review = BeautifulSoup(html_of_interest, 'lxml')"
   ]
  },
  {
   "cell_type": "code",
   "execution_count": null,
   "metadata": {},
   "outputs": [],
   "source": [
    "# Check có review của nhà phê bình không ?\n",
    "check_critic_review = soup_critic_review.select('div[class=\"review_table\"]')[0].text.strip()\n",
    "\n",
    "if check_critic_review != '':\n",
    "    list_critic_review = []\n",
    "    \n",
    "    for rv in soup_critic_review.select('p[class=\"review-text\"]'):\n",
    "        list_critic_review.append(rv.text)\n",
    "    \n",
    "    while True:\n",
    "        sleep(1)\n",
    "        try:\n",
    "            next_button = driver.find_element_by_css_selector('rt-button[class=\"js-prev-next-paging-next\"]')\n",
    "            driver.execute_script(\"arguments[0].click();\", next_button)\n",
    "            \n",
    "            element_critic_review = WebDriverWait(driver, 30).until(EC.presence_of_element_located((By.CSS_SELECTOR, 'div[class=\"review_table\"]')))\n",
    "            html_of_interest = driver.execute_script('return arguments[0].innerHTML',element_critic_review)\n",
    "            soup_critic_review = BeautifulSoup(html_of_interest, 'lxml')\n",
    "\n",
    "            for rv in soup_critic_review.select('p[class=\"review-text\"]'):\n",
    "                list_critic_review.append(rv.text.replace('  ', ''))\n",
    "            \n",
    "        except:\n",
    "            break\n",
    "    critic_review = '<>'.join(list_critic_review)\n",
    "    print(critic_review)\n",
    "elif check_critic_review == '':\n",
    "    critic_review = 'Không có review của nhà phê bình'\n",
    "    print(critic_review)"
   ]
  },
  {
   "cell_type": "markdown",
   "metadata": {},
   "source": [
    "### Review của khán giả"
   ]
  },
  {
   "cell_type": "code",
   "execution_count": null,
   "metadata": {},
   "outputs": [],
   "source": [
    "# Chuyển đến url review của khán giả\n",
    "driver.get(url + '/reviews?type=user')\n",
    "\n",
    "element_audience_review = WebDriverWait(driver, 30).until(EC.presence_of_element_located((By.CSS_SELECTOR, 'div[data-qa=\"reviews-container\"]')))\n",
    "html_of_interest = driver.execute_script('return arguments[0].innerHTML',element_audience_review)\n",
    "soup_audience_review = BeautifulSoup(html_of_interest, 'lxml')"
   ]
  },
  {
   "cell_type": "code",
   "execution_count": null,
   "metadata": {},
   "outputs": [],
   "source": [
    "# Check có review của khán giả không ?\n",
    "check_audience_review = soup_audience_review.select('div[id=\"movieUserReviewsContent\"]')[0].text.strip()\n",
    "\n",
    "if check_audience_review != '':\n",
    "    list_audience_review = []\n",
    "    \n",
    "    for rv in soup_audience_review.select('p[data-qa=\"review-text\"]'):\n",
    "        list_audience_review.append(rv.text)\n",
    "    \n",
    "    while True:\n",
    "        sleep(1)\n",
    "        try:\n",
    "            next_button = driver.find_element_by_css_selector('rt-button[class=\"js-prev-next-paging-next\"]')\n",
    "            driver.execute_script(\"arguments[0].click();\", next_button)\n",
    "            \n",
    "            element_audience_review = WebDriverWait(driver, 30).until(EC.presence_of_element_located((By.CSS_SELECTOR, 'div[id=\"movieUserReviewsContent\"]')))\n",
    "            html_of_interest = driver.execute_script('return arguments[0].innerHTML',element_audience_review)\n",
    "            soup_audience_review = BeautifulSoup(html_of_interest, 'lxml')\n",
    "\n",
    "            for rv in soup_audience_review.select('p[data-qa=\"review-text\"]'):\n",
    "                list_audience_review.append(rv.text)\n",
    "            \n",
    "        except:\n",
    "            break\n",
    "    audience_review = '<>'.join(list_audience_review)\n",
    "    print(audience_review)\n",
    "elif check_audience_review == '':\n",
    "    audience_review = 'Không có review của khán giả'\n",
    "    print(audience_review)"
   ]
  },
  {
   "cell_type": "code",
   "execution_count": null,
   "metadata": {},
   "outputs": [],
   "source": []
  }
 ],
 "metadata": {
  "kernelspec": {
   "display_name": "Python 3",
   "language": "python",
   "name": "python3"
  },
  "language_info": {
   "codemirror_mode": {
    "name": "ipython",
    "version": 3
   },
   "file_extension": ".py",
   "mimetype": "text/x-python",
   "name": "python",
   "nbconvert_exporter": "python",
   "pygments_lexer": "ipython3",
   "version": "3.8.5"
  }
 },
 "nbformat": 4,
 "nbformat_minor": 4
}
