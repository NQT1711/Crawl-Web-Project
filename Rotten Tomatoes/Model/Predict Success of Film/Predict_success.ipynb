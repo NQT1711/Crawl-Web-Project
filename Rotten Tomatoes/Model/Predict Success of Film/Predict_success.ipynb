{
 "cells": [
  {
   "attachments": {},
   "cell_type": "markdown",
   "metadata": {},
   "source": [
    "# Import thư viện"
   ]
  },
  {
   "cell_type": "code",
   "execution_count": 49,
   "metadata": {},
   "outputs": [],
   "source": [
    "import pandas as pd\n",
    "import numpy as np\n",
    "from sklearn.model_selection import train_test_split\n",
    "from sklearn.pipeline import Pipeline\n",
    "from sklearn.feature_extraction.text import TfidfVectorizer\n",
    "from sklearn.svm import LinearSVC\n",
    "import tensorflow as tf\n",
    "from keras.models import Sequential\n",
    "from keras.layers import Flatten, Dense, Softmax, Dropout\n",
    "from nltk.corpus import stopwords\n",
    "import re\n",
    "from selenium import webdriver\n",
    "from requests import get\n",
    "from bs4 import BeautifulSoup\n",
    "from time import sleep\n",
    "from selenium import webdriver\n",
    "from selenium.webdriver.common.keys import Keys\n",
    "from selenium.webdriver.support.ui import WebDriverWait\n",
    "from selenium.webdriver.support import expected_conditions as EC\n",
    "from selenium.webdriver.common.by import By\n",
    "from selenium.webdriver.common.action_chains import ActionChains\n",
    "from keras.models import model_from_json\n",
    "from keras.models import load_model"
   ]
  },
  {
   "attachments": {},
   "cell_type": "markdown",
   "metadata": {},
   "source": [
    "# Nhập thông tin phim"
   ]
  },
  {
   "cell_type": "code",
   "execution_count": 50,
   "metadata": {},
   "outputs": [],
   "source": [
    "# Tên phim\n",
    "title_film = input('Nhập tên phim')\n",
    "\n",
    "# Thể loại phim\n",
    "genre_film = input('Thể loại phim:')\n",
    "\n",
    "# Rating phim\n",
    "rating_film = input('Rating phim:')\n",
    "\n",
    "\n",
    "# Tóm tắt phim\n",
    "synopsis_film = input('Tóm tắt phim:')"
   ]
  },
  {
   "attachments": {},
   "cell_type": "markdown",
   "metadata": {},
   "source": [
    "# Tính điểm số sentiment"
   ]
  },
  {
   "attachments": {},
   "cell_type": "markdown",
   "metadata": {},
   "source": [
    "## Crawl tweet về phim trên twitter dựa vào tên phim"
   ]
  },
  {
   "cell_type": "code",
   "execution_count": 67,
   "metadata": {},
   "outputs": [
    {
     "name": "stderr",
     "output_type": "stream",
     "text": [
      "C:\\Users\\Nguyen Quang Tu\\AppData\\Local\\Temp\\ipykernel_276\\397742964.py:6: DeprecationWarning: executable_path has been deprecated, please pass in a Service object\n",
      "  driver = webdriver.Chrome(executable_path='C:\\chromedriver', options=options)\n"
     ]
    }
   ],
   "source": [
    "# Mở trình duyệt Google Chrome ở trang thái Tab ẩn danh\n",
    "options = webdriver.ChromeOptions()\n",
    "options.add_argument('--ignore-certificate-errors')\n",
    "# options.add_argument('--incognito')\n",
    "options.add_argument(\"--start-maximized\")\n",
    "driver = webdriver.Chrome(executable_path='C:\\chromedriver', options=options)\n",
    "driver.implicitly_wait(0)\n",
    "actions = ActionChains(driver)"
   ]
  },
  {
   "cell_type": "code",
   "execution_count": 52,
   "metadata": {},
   "outputs": [],
   "source": [
    "url = \"https://twitter.com/login\"\n",
    "driver.get(url)"
   ]
  },
  {
   "cell_type": "code",
   "execution_count": 53,
   "metadata": {},
   "outputs": [],
   "source": [
    "element = WebDriverWait(driver, 600).until(EC.presence_of_element_located((By.CSS_SELECTOR, 'input[autocomplete=\"username\"]')))\n",
    "html_of_interest = driver.execute_script('return arguments[0].innerHTML',element)\n",
    "soup = BeautifulSoup(html_of_interest, 'lxml')\n",
    "\n",
    "sleep(1)\n",
    "driver.find_element(By.CSS_SELECTOR, 'input[autocomplete=\"username\"]').send_keys('cap246k291@gmail.com')\n",
    "actions.send_keys(Keys.ENTER)\n",
    "actions.perform()\n",
    "\n",
    "sleep(5)\n",
    "try:\n",
    "    driver.find_element(By.CSS_SELECTOR, 'input[autocapitalize=\"none\"]').send_keys('@cap246k291')\n",
    "    actions.send_keys(Keys.ENTER)\n",
    "    actions.perform()\n",
    "except:\n",
    "    pass\n",
    "\n",
    "sleep(5)\n",
    "\n",
    "driver.find_element(By.CSS_SELECTOR, 'input[autocomplete=\"current-password\"]').send_keys('cap2@2023')\n",
    "actions.send_keys(Keys.ENTER)\n",
    "actions.perform()\n",
    "\n",
    "sleep(10)"
   ]
  },
  {
   "cell_type": "code",
   "execution_count": 55,
   "metadata": {},
   "outputs": [],
   "source": [
    "driver.find_element(By.CSS_SELECTOR, 'input[aria-label=\"Search query\"]').send_keys('(#%s) lang:en'%title_film)\n",
    "actions.send_keys(Keys.ENTER)\n",
    "actions.perform()\n",
    "\n",
    "sleep(2)\n",
    "driver.find_elements(By.CSS_SELECTOR, 'div[role=\"presentation\"]')[2].click()\n",
    "\n",
    "list_tweet = []\n",
    "\n",
    "while len(list(set(list_tweet))) < 100:\n",
    "    element = WebDriverWait(driver, 600).until(EC.presence_of_element_located((By.CSS_SELECTOR, 'div[aria-label=\"Timeline: Search timeline\"]')))\n",
    "    html_of_interest = driver.execute_script('return arguments[0].innerHTML',element)\n",
    "    soup = BeautifulSoup(html_of_interest, 'lxml')\n",
    "\n",
    "    rv = soup.select('div[data-testid=\"tweetText\"]')\n",
    "    for i in rv:\n",
    "        list_tweet.append(i.text)\n",
    "    \n",
    "    a = driver.find_elements(By.CSS_SELECTOR, 'div[data-testid=\"tweetText\"]')\n",
    "    a[-1].location_once_scrolled_into_view\n",
    "\n",
    "    sleep(3)\n",
    "\n",
    "driver.close()"
   ]
  },
  {
   "cell_type": "code",
   "execution_count": 56,
   "metadata": {},
   "outputs": [],
   "source": [
    "data_tweet = pd.DataFrame(list(set(list_tweet)), columns=['Tweet'])"
   ]
  },
  {
   "cell_type": "code",
   "execution_count": 57,
   "metadata": {},
   "outputs": [],
   "source": [
    "df_imdb = pd.read_csv('..\\Sentiment Reviews Film\\Reviews IMDB Dataset.csv')\n",
    "\n",
    "X_train, X_test, y_train, y_test = train_test_split(df_imdb['review'], df_imdb['sentiment'], test_size=0.2, random_state=42)\n",
    "\n",
    "text_clsf = Pipeline([('tfidf',TfidfVectorizer()),('clf',LinearSVC())])\n",
    "text_clsf.fit(X_train,y_train)\n",
    "\n",
    "# Tính điểm số sentiment\n",
    "sentiment_score = (text_clsf.predict(data_tweet['Tweet'].values).tolist().count('positive')/len(data_tweet['Tweet']))*100"
   ]
  },
  {
   "cell_type": "code",
   "execution_count": 58,
   "metadata": {},
   "outputs": [
    {
     "data": {
      "text/plain": [
       "69.0"
      ]
     },
     "execution_count": 58,
     "metadata": {},
     "output_type": "execute_result"
    }
   ],
   "source": [
    "sentiment_score"
   ]
  },
  {
   "attachments": {},
   "cell_type": "markdown",
   "metadata": {},
   "source": [
    "## Dự đoán điểm số hồi quy"
   ]
  },
  {
   "cell_type": "code",
   "execution_count": 59,
   "metadata": {},
   "outputs": [],
   "source": [
    "# Load model predict Rating đã train\n",
    "json_file = open('predict_score_film.json', 'r')\n",
    "\n",
    "loaded_model_json = json_file.read()\n",
    "json_file.close()\n",
    "loaded_model = model_from_json(loaded_model_json)\n",
    "\n",
    "loaded_model.load_weights(\"predict_score_film.h5\")"
   ]
  },
  {
   "cell_type": "code",
   "execution_count": 60,
   "metadata": {},
   "outputs": [],
   "source": [
    "# Hàm tiền xử lí dữ liệu text\n",
    "def preprocess_text(text):\n",
    "    text = text.lower() # Chuyển văn bản thành chữ thường\n",
    "    text = re.sub(r'[^\\w\\s]',' ',text) # Xóa dấu câu\n",
    "    text = re.sub(\"\\d+\", \" \", text) # Xóa chữ số\n",
    "    stop = stopwords.words('english') # Xóa các từ không có nghĩa (Stop Words)\n",
    "    text = \" \".join(text for text in text.split() if text not in stop)\n",
    "    return text"
   ]
  },
  {
   "cell_type": "code",
   "execution_count": 61,
   "metadata": {},
   "outputs": [
    {
     "name": "stdout",
     "output_type": "stream",
     "text": [
      "1/1 [==============================] - 0s 65ms/step\n"
     ]
    }
   ],
   "source": [
    "data = pd.read_csv('E:\\Crawl_Web\\Rotten Tomatoes\\Preprocessing\\movie_cleaned.csv')[:20000]\n",
    "data['Info'] = data['Genre'] + ' ' + data['Rating'] + ' ' + data['Synopsis']\n",
    "data['Info'] = data['Info'].apply(preprocess_text)\n",
    "\n",
    "vectorizer = TfidfVectorizer()\n",
    "vectorizer.fit(data['Info'])\n",
    "\n",
    "info_film = genre_film + ' ' + rating_film + ' ' + synopsis_film\n",
    "\n",
    "vector_info_film = vectorizer.transform([preprocess_text(info_film)])\n",
    "\n",
    "reg_score = loaded_model.predict(vector_info_film.todense())[0][0]"
   ]
  },
  {
   "cell_type": "code",
   "execution_count": 62,
   "metadata": {},
   "outputs": [
    {
     "data": {
      "text/plain": [
       "9.088625"
      ]
     },
     "execution_count": 62,
     "metadata": {},
     "output_type": "execute_result"
    }
   ],
   "source": [
    "reg_score"
   ]
  },
  {
   "attachments": {},
   "cell_type": "markdown",
   "metadata": {},
   "source": [
    "## Tính điểm số trung bình"
   ]
  },
  {
   "cell_type": "code",
   "execution_count": 63,
   "metadata": {},
   "outputs": [],
   "source": [
    "avg_score = round((sentiment_score/10 + reg_score)/2, 1)"
   ]
  },
  {
   "cell_type": "code",
   "execution_count": 64,
   "metadata": {},
   "outputs": [
    {
     "data": {
      "text/plain": [
       "8.0"
      ]
     },
     "execution_count": 64,
     "metadata": {},
     "output_type": "execute_result"
    }
   ],
   "source": [
    "avg_score"
   ]
  },
  {
   "cell_type": "code",
   "execution_count": 65,
   "metadata": {},
   "outputs": [],
   "source": [
    "if avg_score < 5:\n",
    "    success = 'Flop'\n",
    "elif 5 <= avg_score < 7:\n",
    "    success = 'Average'\n",
    "elif 7 <= avg_score < 9:\n",
    "    success = 'Hit'\n",
    "else:\n",
    "    success = 'Super hit'"
   ]
  },
  {
   "cell_type": "code",
   "execution_count": 66,
   "metadata": {},
   "outputs": [
    {
     "name": "stdout",
     "output_type": "stream",
     "text": [
      "Mức độ thành công của phim là: Hit\n"
     ]
    }
   ],
   "source": [
    "print('Mức độ thành công của phim là:', success)"
   ]
  },
  {
   "cell_type": "code",
   "execution_count": null,
   "metadata": {},
   "outputs": [],
   "source": []
  }
 ],
 "metadata": {
  "kernelspec": {
   "display_name": "Python 3",
   "language": "python",
   "name": "python3"
  },
  "language_info": {
   "codemirror_mode": {
    "name": "ipython",
    "version": 3
   },
   "file_extension": ".py",
   "mimetype": "text/x-python",
   "name": "python",
   "nbconvert_exporter": "python",
   "pygments_lexer": "ipython3",
   "version": "3.9.0"
  },
  "orig_nbformat": 4
 },
 "nbformat": 4,
 "nbformat_minor": 2
}
