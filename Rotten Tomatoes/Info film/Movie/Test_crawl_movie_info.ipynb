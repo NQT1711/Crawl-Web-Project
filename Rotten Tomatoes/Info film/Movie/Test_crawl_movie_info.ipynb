{
 "cells": [
  {
   "cell_type": "markdown",
   "metadata": {},
   "source": [
    "# Import thư viện"
   ]
  },
  {
   "cell_type": "code",
   "execution_count": 293,
   "metadata": {},
   "outputs": [],
   "source": [
    "from selenium import webdriver\n",
    "from selenium.webdriver.chrome.service import Service\n",
    "from bs4 import BeautifulSoup\n",
    "import pandas as pd\n",
    "from time import sleep\n",
    "from selenium import webdriver\n",
    "from selenium.webdriver.support.ui import WebDriverWait\n",
    "from selenium.webdriver.support import expected_conditions as EC\n",
    "from selenium.webdriver.common.by import By\n",
    "import traceback"
   ]
  },
  {
   "cell_type": "code",
   "execution_count": 294,
   "metadata": {},
   "outputs": [],
   "source": [
    "# Mở trình duyệt Google Chrome ở trang thái Tab ẩn danh\n",
    "options = webdriver.ChromeOptions()\n",
    "options.add_argument('--ignore-certificate-errors')\n",
    "options.add_argument('--incognito')\n",
    "options.add_argument(\"--start-maximized\")\n",
    "s = Service('C:\\chromedriver')\n",
    "driver = webdriver.Chrome(service=s, options=options)\n",
    "driver.implicitly_wait(0)"
   ]
  },
  {
   "cell_type": "code",
   "execution_count": 295,
   "metadata": {},
   "outputs": [],
   "source": [
    "# List tất cả url movie\n",
    "list_all_url_movie = pd.read_csv('E:/Crawl_Web/Rotten Tomatoes/Crawl URL/URL_movie.csv').squeeze('columns').tolist()"
   ]
  },
  {
   "cell_type": "markdown",
   "metadata": {},
   "source": [
    "# Thông tin phim"
   ]
  },
  {
   "cell_type": "code",
   "execution_count": 296,
   "metadata": {},
   "outputs": [],
   "source": [
    "# Mở url\n",
    "# url = 'https://www.rottentomatoes.com/m/operation_fortune_ruse_de_guerre'\n",
    "# url = 'https://www.rottentomatoes.com/m/bunker_2022'\n",
    "url = 'https://www.rottentomatoes.com/m/beg1994'\n",
    "# url = 'https://www.rottentomatoes.com/m/antman'\n",
    "driver.get(url)"
   ]
  },
  {
   "cell_type": "code",
   "execution_count": 297,
   "metadata": {},
   "outputs": [],
   "source": [
    "# Đợi cho đến khi url load xong\n",
    "element = WebDriverWait(driver, 30).until(EC.presence_of_element_located((By.CSS_SELECTOR, 'div[id=\"main_container\"]')))\n",
    "html_of_interest = driver.execute_script('return arguments[0].innerHTML',element)\n",
    "soup = BeautifulSoup(html_of_interest, 'lxml')"
   ]
  },
  {
   "cell_type": "code",
   "execution_count": 298,
   "metadata": {},
   "outputs": [
    {
     "data": {
      "text/plain": [
       "'Beg!'"
      ]
     },
     "execution_count": 298,
     "metadata": {},
     "output_type": "execute_result"
    }
   ],
   "source": [
    "# Tiêu đề phim\n",
    "title = soup.select('h1[class=\"scoreboard__title\"]')[0].text\n",
    "title"
   ]
  },
  {
   "cell_type": "code",
   "execution_count": 299,
   "metadata": {},
   "outputs": [
    {
     "data": {
      "text/plain": [
       "''"
      ]
     },
     "execution_count": 299,
     "metadata": {},
     "output_type": "execute_result"
    }
   ],
   "source": [
    "# Điểm đánh giá của nhà phê bình\n",
    "tomatometer = soup.select('score-board')[0].attrs['tomatometerscore']\n",
    "tomatometer"
   ]
  },
  {
   "cell_type": "code",
   "execution_count": 300,
   "metadata": {},
   "outputs": [
    {
     "data": {
      "text/plain": [
       "''"
      ]
     },
     "execution_count": 300,
     "metadata": {},
     "output_type": "execute_result"
    }
   ],
   "source": [
    "# Điểm đánh giá của khán giả\n",
    "audience_score = soup.select('score-board')[0].attrs['audiencescore']\n",
    "audience_score"
   ]
  },
  {
   "cell_type": "code",
   "execution_count": 301,
   "metadata": {},
   "outputs": [
    {
     "data": {
      "text/plain": [
       "'0 Reviews'"
      ]
     },
     "execution_count": 301,
     "metadata": {},
     "output_type": "execute_result"
    }
   ],
   "source": [
    "# Số lượt đánh giá của nhà phê bình\n",
    "num_tomatometer = soup.select('a[slot=\"critics-count\"]')[0].text.strip()\n",
    "num_tomatometer"
   ]
  },
  {
   "cell_type": "code",
   "execution_count": 302,
   "metadata": {},
   "outputs": [
    {
     "data": {
      "text/plain": [
       "'50+ Ratings'"
      ]
     },
     "execution_count": 302,
     "metadata": {},
     "output_type": "execute_result"
    }
   ],
   "source": [
    "# Số lượt đánh giá của khán giả\n",
    "num_audience_score = soup.select('a[slot=\"audience-count\"]')[0].text.strip()\n",
    "num_audience_score"
   ]
  },
  {
   "cell_type": "code",
   "execution_count": 303,
   "metadata": {},
   "outputs": [
    {
     "data": {
      "text/plain": [
       "''"
      ]
     },
     "execution_count": 303,
     "metadata": {},
     "output_type": "execute_result"
    }
   ],
   "source": [
    "# The Tomatometer score\n",
    "tomatometer_state = soup.select('score-board')[0].attrs['tomatometerstate']\n",
    "tomatometer_state"
   ]
  },
  {
   "cell_type": "code",
   "execution_count": 304,
   "metadata": {},
   "outputs": [
    {
     "data": {
      "text/plain": [
       "''"
      ]
     },
     "execution_count": 304,
     "metadata": {},
     "output_type": "execute_result"
    }
   ],
   "source": [
    "# The Audience Score\n",
    "audience_state = soup.select('score-board')[0].attrs['audiencestate']\n",
    "audience_state"
   ]
  },
  {
   "cell_type": "code",
   "execution_count": 305,
   "metadata": {},
   "outputs": [
    {
     "name": "stdout",
     "output_type": "stream",
     "text": [
      "GenreHorror\n",
      "Original LanguageEnglish\n",
      "DirectorRobert Golden\n",
      "WriterPeta Lily, David Glass, Robert Golden\n",
      "Release Date (Streaming)Oct 4, 2005\n",
      "Runtime1h 48m\n"
     ]
    }
   ],
   "source": [
    "# Thông tin phim\n",
    "list_name_info = soup.select('div[class=\"meta-label subtle\"]')\n",
    "list_info = soup.select('div[data-qa=\"movie-info-item-value\"]')\n",
    "\n",
    "for num_info in range(len(list_name_info)):\n",
    "    name_info = list_name_info[num_info].text.replace('  ', '').replace('\\n', '').replace(':', '')\n",
    "    info = list_info[num_info].text.replace('  ', '').replace('\\n', '').replace(':', '')\n",
    "    print(name_info + info)"
   ]
  },
  {
   "cell_type": "code",
   "execution_count": 306,
   "metadata": {},
   "outputs": [
    {
     "data": {
      "text/plain": [
       "'Murder and mayhem unfold as two rivals jockey for position at a decrepit British hospital.'"
      ]
     },
     "execution_count": 306,
     "metadata": {},
     "output_type": "execute_result"
    }
   ],
   "source": [
    "# Tóm tắt nội dụng phim\n",
    "synopsis = soup.select('div[id=\"movieSynopsis\"]')[0].text.strip()\n",
    "synopsis"
   ]
  },
  {
   "cell_type": "code",
   "execution_count": 307,
   "metadata": {},
   "outputs": [
    {
     "data": {
      "text/plain": [
       "'Peta Lily, Philip Pellew, Julian Bleach, Olegar Fedoro, Chris Banks, Jeremy Wilkin, Robert Golden, Peta Lily, David Glass, Robert Golden'"
      ]
     },
     "execution_count": 307,
     "metadata": {},
     "output_type": "execute_result"
    }
   ],
   "source": [
    "# Diễn viên\n",
    "list_raw_cast = soup.select('span[class=\"characters subtle smaller\"]')\n",
    "list_cast = []\n",
    "\n",
    "for c in list_raw_cast:\n",
    "    list_cast.append(c.attrs['title'])\n",
    "\n",
    "cast = ', '.join(list_cast)\n",
    "cast"
   ]
  },
  {
   "attachments": {},
   "cell_type": "markdown",
   "metadata": {},
   "source": [
    "# Reviews"
   ]
  },
  {
   "attachments": {},
   "cell_type": "markdown",
   "metadata": {},
   "source": [
    "### Critic and Top critic reviews"
   ]
  },
  {
   "cell_type": "code",
   "execution_count": 308,
   "metadata": {},
   "outputs": [],
   "source": [
    "# Chuyển đến url critic reviews\n",
    "driver.get(url + '/reviews')\n",
    "\n",
    "element_critic_review = WebDriverWait(driver, 30).until(EC.presence_of_element_located((By.CSS_SELECTOR, 'div[class=\"layout reviews-page-container\"]')))\n",
    "html_of_interest = driver.execute_script('return arguments[0].innerHTML',element_critic_review)\n",
    "soup_critic_review = BeautifulSoup(html_of_interest, 'lxml')"
   ]
  },
  {
   "cell_type": "code",
   "execution_count": 309,
   "metadata": {},
   "outputs": [
    {
     "name": "stdout",
     "output_type": "stream",
     "text": [
      "No critic reviews\n"
     ]
    }
   ],
   "source": [
    "# Check có review của nhà phê bình không ?\n",
    "check_critic_review = soup_critic_review.select('div[class=\"review_table\"]')[0].text.strip()\n",
    "\n",
    "if check_critic_review != '':\n",
    "    list_critic_review = []\n",
    "    list_top_critic_review = []\n",
    "    \n",
    "    # Số lượng review trong 1 trang\n",
    "    num_rv = len(soup_critic_review.select('div[class=\"review-row\"]'))\n",
    "\n",
    "    for num in range(num_rv):\n",
    "        rv = soup_critic_review.select('div[class=\"review-row\"]')[num].find_all('p', {'class': 'review-text'})[0].text\n",
    "        list_critic_review.append(rv)\n",
    "\n",
    "        # Check top critic reviews\n",
    "        check_top_critic = soup_critic_review.select('div[class=\"review-row\"]')[num].find_all('rt-icon-top-critic')\n",
    "\n",
    "        if check_top_critic != []:\n",
    "            list_top_critic_review.append(rv)\n",
    "    \n",
    "    while True:\n",
    "        sleep(1)\n",
    "        try:\n",
    "            next_button = driver.find_element(By.CSS_SELECTOR, 'rt-button[class=\"js-prev-next-paging-next\"]')\n",
    "            driver.execute_script(\"arguments[0].click();\", next_button)\n",
    "            \n",
    "            element_critic_review = WebDriverWait(driver, 30).until(EC.presence_of_element_located((By.CSS_SELECTOR, 'div[class=\"review_table\"]')))\n",
    "            html_of_interest = driver.execute_script('return arguments[0].innerHTML',element_critic_review)\n",
    "            soup_critic_review = BeautifulSoup(html_of_interest, 'lxml')\n",
    "\n",
    "            num_rv = len(soup_critic_review.select('div[class=\"review-row\"]'))\n",
    "\n",
    "            for num in range(num_rv):\n",
    "                rv = soup_critic_review.select('div[class=\"review-row\"]')[num].find_all('p', {'class': 'review-text'})[0].text.strip()\n",
    "                list_critic_review.append(rv)\n",
    "\n",
    "                check_top_critic = soup_critic_review.select('div[class=\"review-row\"]')[num].find_all('rt-icon-top-critic')\n",
    "\n",
    "                if check_top_critic != []:\n",
    "                    list_top_critic_review.append(rv)\n",
    "            \n",
    "        except Exception:\n",
    "            # traceback.print_exc()\n",
    "            break\n",
    "\n",
    "    critic_review = '<>'.join(list_critic_review)\n",
    "    if list_top_critic_review != []:\n",
    "        top_critic_review = '<>'.join(list_top_critic_review)\n",
    "    else:\n",
    "        top_critic_review = 'No top critic reviews'\n",
    "    \n",
    "    print(critic_review)\n",
    "    print(top_critic_review)\n",
    "else:\n",
    "    critic_review = 'No critic reviews'\n",
    "    print(critic_review)"
   ]
  },
  {
   "attachments": {},
   "cell_type": "markdown",
   "metadata": {},
   "source": [
    "### Audience and Verified audience reviews"
   ]
  },
  {
   "cell_type": "code",
   "execution_count": 310,
   "metadata": {},
   "outputs": [],
   "source": [
    "# Chuyển đến url review của khán giả\n",
    "driver.get(url + '/reviews?type=user')\n",
    "\n",
    "element_audience_review = WebDriverWait(driver, 30).until(EC.presence_of_element_located((By.CSS_SELECTOR, 'div[data-qa=\"reviews-container\"]')))\n",
    "html_of_interest = driver.execute_script('return arguments[0].innerHTML',element_audience_review)\n",
    "soup_audience_review = BeautifulSoup(html_of_interest, 'lxml')"
   ]
  },
  {
   "cell_type": "code",
   "execution_count": 311,
   "metadata": {},
   "outputs": [
    {
     "name": "stdout",
     "output_type": "stream",
     "text": [
      "I'm not really sure what to say about this.  It was like watching someone else's nightmare, starring a woman who looks like Helen Hunt and a bunch of really nutty 80s-British-sitcom music and really dramatic 90s-soap-opera music.\n",
      "Also dogs.  Also a lot of gross eating.  Also weird sex scenes.  Also cartoon-inspired comedy scenes.\n",
      "It really makes almost zero sense.  Especially the whole hospital/jazz bar/bum park/wharf thing.  And the remote-control cop thing.  And then the live dogs sewn into live humans thing.  And the \"dogfish\" thing.  And the monster-in-the-rose-garden thing.  Oh man.  There was nothing that didn't boggle my mind.  \n",
      "Except the reveal of the murderer.  I knew who the murderer was pretty much the whole time.  I'm not sure if that was the point or not.  Was there a point?\n",
      "WTF?\n"
     ]
    }
   ],
   "source": [
    "# Check có review của khán giả không ?\n",
    "check_audience_review = soup_audience_review.select('div[id=\"movieUserReviewsContent\"]')\n",
    "\n",
    "if len(check_audience_review) != 0:\n",
    "    list_audience_review = []\n",
    "    \n",
    "    for rv in soup_audience_review.select('p[data-qa=\"review-text\"]'):\n",
    "        list_audience_review.append(rv.text)\n",
    "    \n",
    "    while True:\n",
    "        sleep(1)\n",
    "        try:\n",
    "            next_button = driver.find_element(By.CSS_SELECTOR, 'rt-button[class=\"js-prev-next-paging-next\"]')\n",
    "            driver.execute_script(\"arguments[0].click();\", next_button)\n",
    "            \n",
    "            element_audience_review = WebDriverWait(driver, 30).until(EC.presence_of_element_located((By.CSS_SELECTOR, 'div[id=\"movieUserReviewsContent\"]')))\n",
    "            html_of_interest = driver.execute_script('return arguments[0].innerHTML', element_audience_review)\n",
    "            soup_audience_review = BeautifulSoup(html_of_interest, 'lxml')\n",
    "\n",
    "            for rv in soup_audience_review.select('p[data-qa=\"review-text\"]'):\n",
    "                list_audience_review.append(rv.text)\n",
    "            \n",
    "        except:\n",
    "            break\n",
    "    audience_review = '<>'.join(list_audience_review)\n",
    "    print(audience_review)\n",
    "else:\n",
    "    audience_review = 'Không có review của khán giả'\n",
    "    print(audience_review)"
   ]
  },
  {
   "cell_type": "code",
   "execution_count": null,
   "metadata": {},
   "outputs": [],
   "source": []
  }
 ],
 "metadata": {
  "kernelspec": {
   "display_name": "Python 3",
   "language": "python",
   "name": "python3"
  },
  "language_info": {
   "codemirror_mode": {
    "name": "ipython",
    "version": 3
   },
   "file_extension": ".py",
   "mimetype": "text/x-python",
   "name": "python",
   "nbconvert_exporter": "python",
   "pygments_lexer": "ipython3",
   "version": "3.9.0"
  }
 },
 "nbformat": 4,
 "nbformat_minor": 4
}
