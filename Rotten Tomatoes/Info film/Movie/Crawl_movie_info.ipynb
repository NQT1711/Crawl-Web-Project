{
 "cells": [
  {
   "cell_type": "markdown",
   "metadata": {},
   "source": [
    "# Import thư viện"
   ]
  },
  {
   "cell_type": "code",
   "execution_count": 1,
   "metadata": {},
   "outputs": [],
   "source": [
    "from selenium import webdriver\n",
    "from requests import get\n",
    "from bs4 import BeautifulSoup\n",
    "import bs4\n",
    "import pandas as pd\n",
    "import numpy as np\n",
    "from time import sleep\n",
    "from random import randint\n",
    "from time import time\n",
    "from warnings import warn\n",
    "from datetime import datetime\n",
    "from datetime import timedelta\n",
    "from pytz import timezone\n",
    "from IPython.display import clear_output\n",
    "from selenium import webdriver\n",
    "from selenium.webdriver.common.keys import Keys\n",
    "from selenium.webdriver.support.ui import WebDriverWait\n",
    "from selenium.webdriver.support import expected_conditions as EC\n",
    "from selenium.webdriver.common.by import By\n",
    "from selenium.common.exceptions import TimeoutException\n",
    "from selenium.common.exceptions import StaleElementReferenceException\n",
    "import re\n",
    "import os\n",
    "import sys\n",
    "import glob\n",
    "import shutil\n",
    "from pathlib import Path\n",
    "import re"
   ]
  },
  {
   "cell_type": "code",
   "execution_count": 2,
   "metadata": {},
   "outputs": [],
   "source": [
    "# Mở trình duyệt Google Chrome ở trang thái Tab ẩn danh\n",
    "options = webdriver.ChromeOptions()\n",
    "options.add_argument('--ignore-certificate-errors')\n",
    "options.add_argument('--incognito')\n",
    "driver = webdriver.Chrome(executable_path='C:\\chromedriver', options=options)\n",
    "driver.implicitly_wait(0)"
   ]
  },
  {
   "cell_type": "code",
   "execution_count": 3,
   "metadata": {},
   "outputs": [],
   "source": [
    "# List tất cả url movie\n",
    "list_all_url_movie = pd.read_csv('C:/WINDOWS/system32/craw_web/Quản trị cơ sở dữ liệu/Rotten Tomatoes/URL/URL_movie.csv', squeeze=True).tolist()"
   ]
  },
  {
   "cell_type": "code",
   "execution_count": 4,
   "metadata": {},
   "outputs": [
    {
     "name": "stdout",
     "output_type": "stream",
     "text": [
      "https://www.rottentomatoes.com/m/f9ab9165-598c-3ac9-bc3e-a5fb2ac517e5\n",
      "https://www.rottentomatoes.com/m/video-blues\n",
      "https://www.rottentomatoes.com/m/exhibition_on_screen_the_artists_garden_american_impressionism_2017\n",
      "https://www.rottentomatoes.com/m/made_in_bangkok\n"
     ]
    }
   ],
   "source": [
    "df_movie = []\n",
    "\n",
    "for url_movie in list_all_url_movie[:1000]:\n",
    "    # Mở url phim\n",
    "    driver.get(url_movie)\n",
    "    \n",
    "    try:\n",
    "        # Đợi cho đến khi url load xong\n",
    "        element = WebDriverWait(driver, 30).until(EC.presence_of_element_located((By.CSS_SELECTOR, 'div[id=\"main_container\"]')))\n",
    "        html_of_interest = driver.execute_script('return arguments[0].innerHTML',element)\n",
    "        soup = BeautifulSoup(html_of_interest, 'lxml')\n",
    "\n",
    "        sleep(2)\n",
    "\n",
    "        ## Tạo Dict chứa thông tin về phim\n",
    "        dict_info_movie = {}\n",
    "\n",
    "        # Tiêu đề phim\n",
    "        dict_info_movie['Title'] = soup.select('h1[class=\"scoreboard__title\"]')[0].text\n",
    "\n",
    "        # Điểm đánh giá của nhà phê bình\n",
    "        dict_info_movie['Tomatometer score'] = soup.select('score-board')[0].attrs['tomatometerscore']\n",
    "\n",
    "        # Điểm đánh giá của khán giả\n",
    "        dict_info_movie['Audience score'] = soup.select('score-board')[0].attrs['audiencescore']\n",
    "\n",
    "        # Số lượt đánh giá của nhà phê bình\n",
    "        dict_info_movie['Tomatometer count'] = soup.select('a[slot=\"critics-count\"]')[0].text.strip()\n",
    "\n",
    "        # Số lượt đánh giá của khán giả\n",
    "        dict_info_movie['Audience count'] = soup.select('a[slot=\"audience-count\"]')[0].text.strip()\n",
    "\n",
    "        # Trạng thái đánh giá phim của nhà phê bình\n",
    "        dict_info_movie['Tomatometer state'] = soup.select('score-board')[0].attrs['tomatometerstate']\n",
    "\n",
    "        # Trạng thái đánh giá phim của khán giả\n",
    "        dict_info_movie['Audience state'] = soup.select('score-board')[0].attrs['audiencestate']\n",
    "\n",
    "        # Thông tin phim\n",
    "        list_name_info = soup.select('div[class=\"meta-label subtle\"]')\n",
    "        list_info = soup.select('div[data-qa=\"movie-info-item-value\"]')\n",
    "\n",
    "        for num_info in range(len(list_name_info)):\n",
    "            name_info = list_name_info[num_info].text.replace('  ', '').replace('\\n', '').replace(':', '')\n",
    "            info = list_info[num_info].text.replace('  ', '').replace('\\n', '').replace(':', '')\n",
    "            dict_info_movie[name_info] = info\n",
    "\n",
    "        # Tóm tắt nội dụng phim\n",
    "        dict_info_movie['Synopsis'] = soup.select('div[id=\"movieSynopsis\"]')[0].text.strip()\n",
    "\n",
    "        # Diễn viên\n",
    "        list_raw_cast = soup.select('span[class=\"characters subtle smaller\"]')\n",
    "        list_cast = []\n",
    "\n",
    "        for c in list_raw_cast:\n",
    "            list_cast.append(c.attrs['title'])\n",
    "\n",
    "        dict_info_movie['Cast'] = ', '.join(list_cast)\n",
    "\n",
    "        df_movie.append(dict_info_movie)\n",
    "    except:\n",
    "        print(url_movie)\n",
    "        continue\n",
    "    \n",
    "df_movie = pd.DataFrame(df_movie)"
   ]
  },
  {
   "cell_type": "code",
   "execution_count": 6,
   "metadata": {},
   "outputs": [
    {
     "data": {
      "text/plain": [
       "23"
      ]
     },
     "execution_count": 6,
     "metadata": {},
     "output_type": "execute_result"
    }
   ],
   "source": [
    "len(df_movie.columns)"
   ]
  },
  {
   "cell_type": "code",
   "execution_count": 8,
   "metadata": {},
   "outputs": [],
   "source": [
    "df_movie.to_csv('Crawl_test_1000_movie.csv', index=False)"
   ]
  },
  {
   "cell_type": "code",
   "execution_count": null,
   "metadata": {},
   "outputs": [],
   "source": []
  }
 ],
 "metadata": {
  "kernelspec": {
   "display_name": "Python 3",
   "language": "python",
   "name": "python3"
  },
  "language_info": {
   "codemirror_mode": {
    "name": "ipython",
    "version": 3
   },
   "file_extension": ".py",
   "mimetype": "text/x-python",
   "name": "python",
   "nbconvert_exporter": "python",
   "pygments_lexer": "ipython3",
   "version": "3.8.5"
  }
 },
 "nbformat": 4,
 "nbformat_minor": 4
}
