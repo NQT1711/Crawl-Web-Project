{
 "cells": [
  {
   "cell_type": "markdown",
   "metadata": {},
   "source": [
    "# Import thư viện"
   ]
  },
  {
   "cell_type": "code",
   "execution_count": 101,
   "metadata": {},
   "outputs": [],
   "source": [
    "from selenium import webdriver\n",
    "from selenium.webdriver.chrome.service import Service\n",
    "from requests import get\n",
    "from bs4 import BeautifulSoup\n",
    "import bs4\n",
    "import pandas as pd\n",
    "import numpy as np\n",
    "from time import sleep\n",
    "from random import randint\n",
    "from time import time\n",
    "from warnings import warn\n",
    "from datetime import datetime\n",
    "from datetime import timedelta\n",
    "from pytz import timezone\n",
    "from IPython.display import clear_output\n",
    "from selenium import webdriver\n",
    "from selenium.webdriver.common.keys import Keys\n",
    "from selenium.webdriver.support.ui import WebDriverWait\n",
    "from selenium.webdriver.support import expected_conditions as EC\n",
    "from selenium.webdriver.common.by import By\n",
    "from selenium.common.exceptions import TimeoutException\n",
    "from selenium.common.exceptions import StaleElementReferenceException\n",
    "import re\n",
    "import os\n",
    "import sys\n",
    "import glob\n",
    "import shutil\n",
    "from pathlib import Path\n",
    "import re"
   ]
  },
  {
   "cell_type": "code",
   "execution_count": 102,
   "metadata": {},
   "outputs": [],
   "source": [
    "# Mở trình duyệt Google Chrome ở trang thái Tab ẩn danh\n",
    "options = webdriver.ChromeOptions()\n",
    "options.add_argument('--ignore-certificate-errors')\n",
    "options.add_argument('--incognito')\n",
    "s = Service('C:\\chromedriver')\n",
    "driver = webdriver.Chrome(service=s, options=options)\n",
    "driver.implicitly_wait(0)"
   ]
  },
  {
   "cell_type": "code",
   "execution_count": 103,
   "metadata": {},
   "outputs": [],
   "source": [
    "# List tất cả url movie\n",
    "list_all_url_movie = pd.read_csv('E:/Crawl_Web/Rotten Tomatoes/Crawl URL/URL_movie.csv').squeeze('columns').tolist()"
   ]
  },
  {
   "cell_type": "markdown",
   "metadata": {},
   "source": [
    "# Thông tin phim"
   ]
  },
  {
   "cell_type": "code",
   "execution_count": 104,
   "metadata": {},
   "outputs": [],
   "source": [
    "# Mở url\n",
    "url = 'https://www.rottentomatoes.com/m/limo'\n",
    "# url = 'https://www.rottentomatoes.com/m/beg1994'\n",
    "# url = 'https://www.rottentomatoes.com/m/antman'\n",
    "driver.get(url)"
   ]
  },
  {
   "cell_type": "code",
   "execution_count": 105,
   "metadata": {},
   "outputs": [],
   "source": [
    "# Đợi cho đến khi url load xong\n",
    "element = WebDriverWait(driver, 30).until(EC.presence_of_element_located((By.CSS_SELECTOR, 'div[id=\"main_container\"]')))\n",
    "html_of_interest = driver.execute_script('return arguments[0].innerHTML',element)\n",
    "soup = BeautifulSoup(html_of_interest, 'lxml')"
   ]
  },
  {
   "cell_type": "code",
   "execution_count": 106,
   "metadata": {},
   "outputs": [
    {
     "data": {
      "text/plain": [
       "'Limo'"
      ]
     },
     "execution_count": 106,
     "metadata": {},
     "output_type": "execute_result"
    }
   ],
   "source": [
    "# Tiêu đề phim\n",
    "title = soup.select('h1[class=\"scoreboard__title\"]')[0].text\n",
    "title"
   ]
  },
  {
   "cell_type": "code",
   "execution_count": 107,
   "metadata": {},
   "outputs": [
    {
     "data": {
      "text/plain": [
       "''"
      ]
     },
     "execution_count": 107,
     "metadata": {},
     "output_type": "execute_result"
    }
   ],
   "source": [
    "# Điểm đánh giá của nhà phê bình\n",
    "tomatometer = soup.select('score-board')[0].attrs['tomatometerscore']\n",
    "tomatometer"
   ]
  },
  {
   "cell_type": "code",
   "execution_count": 108,
   "metadata": {},
   "outputs": [
    {
     "data": {
      "text/plain": [
       "''"
      ]
     },
     "execution_count": 108,
     "metadata": {},
     "output_type": "execute_result"
    }
   ],
   "source": [
    "# Điểm đánh giá của khán giả\n",
    "audience_score = soup.select('score-board')[0].attrs['audiencescore']\n",
    "audience_score"
   ]
  },
  {
   "cell_type": "code",
   "execution_count": 109,
   "metadata": {},
   "outputs": [
    {
     "data": {
      "text/plain": [
       "'0 Reviews'"
      ]
     },
     "execution_count": 109,
     "metadata": {},
     "output_type": "execute_result"
    }
   ],
   "source": [
    "# Số lượt đánh giá của nhà phê bình\n",
    "num_tomatometer = soup.select('a[slot=\"critics-count\"]')[0].text.strip()\n",
    "num_tomatometer"
   ]
  },
  {
   "cell_type": "code",
   "execution_count": 110,
   "metadata": {},
   "outputs": [
    {
     "data": {
      "text/plain": [
       "'0 Ratings'"
      ]
     },
     "execution_count": 110,
     "metadata": {},
     "output_type": "execute_result"
    }
   ],
   "source": [
    "# Số lượt đánh giá của khán giả\n",
    "num_audience_score = soup.select('a[slot=\"audience-count\"]')[0].text.strip()\n",
    "num_audience_score"
   ]
  },
  {
   "cell_type": "code",
   "execution_count": 111,
   "metadata": {},
   "outputs": [
    {
     "data": {
      "text/plain": [
       "''"
      ]
     },
     "execution_count": 111,
     "metadata": {},
     "output_type": "execute_result"
    }
   ],
   "source": [
    "# The Tomatometer score\n",
    "tomatometer_state = soup.select('score-board')[0].attrs['tomatometerstate']\n",
    "tomatometer_state"
   ]
  },
  {
   "cell_type": "code",
   "execution_count": 112,
   "metadata": {},
   "outputs": [
    {
     "data": {
      "text/plain": [
       "''"
      ]
     },
     "execution_count": 112,
     "metadata": {},
     "output_type": "execute_result"
    }
   ],
   "source": [
    "# The Audience Score\n",
    "audience_state = soup.select('score-board')[0].attrs['audiencestate']\n",
    "audience_state"
   ]
  },
  {
   "cell_type": "code",
   "execution_count": 113,
   "metadata": {},
   "outputs": [
    {
     "name": "stdout",
     "output_type": "stream",
     "text": [
      "GenreAdventure\n",
      "Original LanguageDutch\n",
      "DirectorGuy Goossens\n",
      "ProducerGuy Goossens, Mark Punt\n",
      "WriterMark Punt\n",
      "Runtime1h 36m\n"
     ]
    }
   ],
   "source": [
    "# Thông tin phim\n",
    "list_name_info = soup.select('div[class=\"meta-label subtle\"]')\n",
    "list_info = soup.select('div[data-qa=\"movie-info-item-value\"]')\n",
    "\n",
    "for num_info in range(len(list_name_info)):\n",
    "    name_info = list_name_info[num_info].text.replace('  ', '').replace('\\n', '').replace(':', '')\n",
    "    info = list_info[num_info].text.replace('  ', '').replace('\\n', '').replace(':', '')\n",
    "    print(name_info + info)"
   ]
  },
  {
   "cell_type": "code",
   "execution_count": 114,
   "metadata": {},
   "outputs": [
    {
     "data": {
      "text/plain": [
       "'Four girls visit a mysterious village.'"
      ]
     },
     "execution_count": 114,
     "metadata": {},
     "output_type": "execute_result"
    }
   ],
   "source": [
    "# Tóm tắt nội dụng phim\n",
    "synopsis = soup.select('div[id=\"movieSynopsis\"]')[0].text.strip()\n",
    "synopsis"
   ]
  },
  {
   "cell_type": "code",
   "execution_count": 115,
   "metadata": {},
   "outputs": [
    {
     "data": {
      "text/plain": [
       "'Jan Decleir, Jack Wouterse, Jaap Spijkers, Inge Ipenburg, Meike Hurts, Fleur Minjon, Anouk van Schie, Monique de Waal, Manuel Broekman, Guy Goossens, Mark Punt, Guy Goossens, Mark Punt, Tuomas Kantelinen, Gerd Schelfhout, Alain Dessauvage, Philippe Ravoet, Janusz Gosschalk, Saida van der Reijd, Kes Bonnet, Vyarka Sirkova'"
      ]
     },
     "execution_count": 115,
     "metadata": {},
     "output_type": "execute_result"
    }
   ],
   "source": [
    "# Diễn viên\n",
    "list_raw_cast = soup.select('span[class=\"characters subtle smaller\"]')\n",
    "list_cast = []\n",
    "\n",
    "for c in list_raw_cast:\n",
    "    list_cast.append(c.attrs['title'])\n",
    "\n",
    "cast = ', '.join(list_cast)\n",
    "cast"
   ]
  },
  {
   "cell_type": "markdown",
   "metadata": {},
   "source": [
    "# Reviews phim"
   ]
  },
  {
   "cell_type": "markdown",
   "metadata": {},
   "source": [
    "### Reviews của nhà phê bình"
   ]
  },
  {
   "cell_type": "code",
   "execution_count": 116,
   "metadata": {},
   "outputs": [],
   "source": [
    "# Chuyển đến url review\n",
    "driver.get(url + '/reviews')\n",
    "\n",
    "element_critic_review = WebDriverWait(driver, 30).until(EC.presence_of_element_located((By.CSS_SELECTOR, 'div[class=\"layout reviews-page-container\"]')))\n",
    "html_of_interest = driver.execute_script('return arguments[0].innerHTML',element_critic_review)\n",
    "soup_critic_review = BeautifulSoup(html_of_interest, 'lxml')"
   ]
  },
  {
   "cell_type": "code",
   "execution_count": 117,
   "metadata": {},
   "outputs": [
    {
     "name": "stdout",
     "output_type": "stream",
     "text": [
      "Không có review của nhà phê bình\n"
     ]
    }
   ],
   "source": [
    "# Check có review của nhà phê bình không ?\n",
    "check_critic_review = soup_critic_review.select('div[class=\"review_table\"]')[0].text.strip()\n",
    "\n",
    "if check_critic_review != '':\n",
    "    list_critic_review = []\n",
    "    \n",
    "    for rv in soup_critic_review.select('p[class=\"review-text\"]'):\n",
    "        list_critic_review.append(rv.text)\n",
    "    \n",
    "    while True:\n",
    "        sleep(1)\n",
    "        try:\n",
    "            next_button = driver.find_element_by_css_selector('rt-button[class=\"js-prev-next-paging-next\"]')\n",
    "            driver.execute_script(\"arguments[0].click();\", next_button)\n",
    "            \n",
    "            element_critic_review = WebDriverWait(driver, 30).until(EC.presence_of_element_located((By.CSS_SELECTOR, 'div[class=\"review_table\"]')))\n",
    "            html_of_interest = driver.execute_script('return arguments[0].innerHTML',element_critic_review)\n",
    "            soup_critic_review = BeautifulSoup(html_of_interest, 'lxml')\n",
    "\n",
    "            for rv in soup_critic_review.select('p[class=\"review-text\"]'):\n",
    "                list_critic_review.append(rv.text.replace('  ', ''))\n",
    "            \n",
    "        except:\n",
    "            break\n",
    "    critic_review = '<>'.join(list_critic_review)\n",
    "    print(critic_review)\n",
    "elif check_critic_review == '':\n",
    "    critic_review = 'Không có review của nhà phê bình'\n",
    "    print(critic_review)"
   ]
  },
  {
   "cell_type": "markdown",
   "metadata": {},
   "source": [
    "### Review của khán giả"
   ]
  },
  {
   "cell_type": "code",
   "execution_count": 118,
   "metadata": {},
   "outputs": [],
   "source": [
    "# Chuyển đến url review của khán giả\n",
    "driver.get(url + '/reviews?type=user')\n",
    "\n",
    "element_audience_review = WebDriverWait(driver, 30).until(EC.presence_of_element_located((By.CSS_SELECTOR, 'div[data-qa=\"reviews-container\"]')))\n",
    "html_of_interest = driver.execute_script('return arguments[0].innerHTML',element_audience_review)\n",
    "soup_audience_review = BeautifulSoup(html_of_interest, 'lxml')"
   ]
  },
  {
   "cell_type": "code",
   "execution_count": 119,
   "metadata": {},
   "outputs": [
    {
     "name": "stdout",
     "output_type": "stream",
     "text": [
      "Không có review của khán giả\n"
     ]
    }
   ],
   "source": [
    "# Check có review của khán giả không ?\n",
    "check_audience_review = soup_audience_review.select('div[id=\"movieUserReviewsContent\"]')\n",
    "\n",
    "if len(check_audience_review) != 0:\n",
    "    list_audience_review = []\n",
    "    \n",
    "    for rv in soup_audience_review.select('p[data-qa=\"review-text\"]'):\n",
    "        list_audience_review.append(rv.text)\n",
    "    \n",
    "    while True:\n",
    "        sleep(1)\n",
    "        try:\n",
    "            next_button = driver.find_element_by_css_selector('rt-button[class=\"js-prev-next-paging-next\"]')\n",
    "            driver.execute_script(\"arguments[0].click();\", next_button)\n",
    "            \n",
    "            element_audience_review = WebDriverWait(driver, 30).until(EC.presence_of_element_located((By.CSS_SELECTOR, 'div[id=\"movieUserReviewsContent\"]')))\n",
    "            html_of_interest = driver.execute_script('return arguments[0].innerHTML',element_audience_review)\n",
    "            soup_audience_review = BeautifulSoup(html_of_interest, 'lxml')\n",
    "\n",
    "            for rv in soup_audience_review.select('p[data-qa=\"review-text\"]'):\n",
    "                list_audience_review.append(rv.text)\n",
    "            \n",
    "        except:\n",
    "            break\n",
    "    audience_review = '<>'.join(list_audience_review)\n",
    "    print(audience_review)\n",
    "else:\n",
    "    audience_review = 'Không có review của khán giả'\n",
    "    print(audience_review)"
   ]
  },
  {
   "cell_type": "code",
   "execution_count": null,
   "metadata": {},
   "outputs": [],
   "source": []
  }
 ],
 "metadata": {
  "kernelspec": {
   "display_name": "Python 3",
   "language": "python",
   "name": "python3"
  },
  "language_info": {
   "codemirror_mode": {
    "name": "ipython",
    "version": 3
   },
   "file_extension": ".py",
   "mimetype": "text/x-python",
   "name": "python",
   "nbconvert_exporter": "python",
   "pygments_lexer": "ipython3",
   "version": "3.9.0"
  }
 },
 "nbformat": 4,
 "nbformat_minor": 4
}
