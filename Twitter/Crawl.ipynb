{
 "cells": [
  {
   "cell_type": "code",
   "execution_count": 13,
   "metadata": {},
   "outputs": [],
   "source": [
    "from selenium import webdriver\n",
    "from requests import get\n",
    "from bs4 import BeautifulSoup\n",
    "import bs4\n",
    "import pandas as pd\n",
    "import numpy as np\n",
    "from time import sleep\n",
    "from random import randint\n",
    "from time import time\n",
    "from warnings import warn\n",
    "from datetime import datetime\n",
    "from datetime import timedelta\n",
    "from pytz import timezone\n",
    "from IPython.display import clear_output\n",
    "from selenium import webdriver\n",
    "from selenium.webdriver.common.keys import Keys\n",
    "from selenium.webdriver.support.ui import WebDriverWait\n",
    "from selenium.webdriver.support import expected_conditions as EC\n",
    "from selenium.webdriver.common.by import By\n",
    "from selenium.common.exceptions import TimeoutException\n",
    "from selenium.common.exceptions import StaleElementReferenceException\n",
    "from selenium.webdriver.common.action_chains import ActionChains\n",
    "import re\n",
    "import os\n",
    "import sys\n",
    "import glob\n",
    "import shutil\n",
    "from pathlib import Path\n",
    "import re"
   ]
  },
  {
   "cell_type": "code",
   "execution_count": 14,
   "metadata": {},
   "outputs": [
    {
     "name": "stderr",
     "output_type": "stream",
     "text": [
      "C:\\Users\\Nguyen Quang Tu\\AppData\\Local\\Temp\\ipykernel_7092\\397742964.py:6: DeprecationWarning: executable_path has been deprecated, please pass in a Service object\n",
      "  driver = webdriver.Chrome(executable_path='C:\\chromedriver', options=options)\n"
     ]
    }
   ],
   "source": [
    "# Mở trình duyệt Google Chrome ở trang thái Tab ẩn danh\n",
    "options = webdriver.ChromeOptions()\n",
    "options.add_argument('--ignore-certificate-errors')\n",
    "# options.add_argument('--incognito')\n",
    "options.add_argument(\"--start-maximized\")\n",
    "driver = webdriver.Chrome(executable_path='C:\\chromedriver', options=options)\n",
    "driver.implicitly_wait(0)\n",
    "actions = ActionChains(driver)"
   ]
  },
  {
   "cell_type": "code",
   "execution_count": 15,
   "metadata": {},
   "outputs": [],
   "source": [
    "url = \"https://twitter.com/login\"\n",
    "driver.get(url)"
   ]
  },
  {
   "cell_type": "code",
   "execution_count": 16,
   "metadata": {},
   "outputs": [
    {
     "ename": "NoSuchElementException",
     "evalue": "Message: no such element: Unable to locate element: {\"method\":\"css selector\",\"selector\":\"input[aria-label=\"Search query\"]\"}\n  (Session info: chrome=112.0.5615.138)\nStacktrace:\nBacktrace:\n\tGetHandleVerifier [0x0056DCE3+50899]\n\t(No symbol) [0x004FE111]\n\t(No symbol) [0x00405588]\n\t(No symbol) [0x004308F9]\n\t(No symbol) [0x00430AFB]\n\t(No symbol) [0x0045F902]\n\t(No symbol) [0x0044B944]\n\t(No symbol) [0x0045E01C]\n\t(No symbol) [0x0044B6F6]\n\t(No symbol) [0x00427708]\n\t(No symbol) [0x0042886D]\n\tGetHandleVerifier [0x007D3EAE+2566302]\n\tGetHandleVerifier [0x008092B1+2784417]\n\tGetHandleVerifier [0x0080327C+2759788]\n\tGetHandleVerifier [0x00605740+672048]\n\t(No symbol) [0x00508872]\n\t(No symbol) [0x005041C8]\n\t(No symbol) [0x005042AB]\n\t(No symbol) [0x004F71B7]\n\tBaseThreadInitThunk [0x768DFEF9+25]\n\tRtlGetAppContainerNamedObjectPath [0x77E47BBE+286]\n\tRtlGetAppContainerNamedObjectPath [0x77E47B8E+238]\n",
     "output_type": "error",
     "traceback": [
      "\u001b[1;31m---------------------------------------------------------------------------\u001b[0m",
      "\u001b[1;31mNoSuchElementException\u001b[0m                    Traceback (most recent call last)",
      "Cell \u001b[1;32mIn[16], line 26\u001b[0m\n\u001b[0;32m     22\u001b[0m actions\u001b[39m.\u001b[39mperform()\n\u001b[0;32m     24\u001b[0m sleep(\u001b[39m5\u001b[39m)\n\u001b[1;32m---> 26\u001b[0m driver\u001b[39m.\u001b[39;49mfind_element(By\u001b[39m.\u001b[39;49mCSS_SELECTOR, \u001b[39m'\u001b[39;49m\u001b[39minput[aria-label=\u001b[39;49m\u001b[39m\"\u001b[39;49m\u001b[39mSearch query\u001b[39;49m\u001b[39m\"\u001b[39;49m\u001b[39m]\u001b[39;49m\u001b[39m'\u001b[39;49m)\u001b[39m.\u001b[39msend_keys(\u001b[39m'\u001b[39m\u001b[39m(#johnwick4) lang:en\u001b[39m\u001b[39m'\u001b[39m)\n\u001b[0;32m     27\u001b[0m actions\u001b[39m.\u001b[39msend_keys(Keys\u001b[39m.\u001b[39mENTER)\n\u001b[0;32m     28\u001b[0m actions\u001b[39m.\u001b[39mperform()\n",
      "File \u001b[1;32mc:\\Users\\Nguyen Quang Tu\\AppData\\Local\\Programs\\Python\\Python39\\lib\\site-packages\\selenium\\webdriver\\remote\\webdriver.py:830\u001b[0m, in \u001b[0;36mWebDriver.find_element\u001b[1;34m(self, by, value)\u001b[0m\n\u001b[0;32m    827\u001b[0m     by \u001b[39m=\u001b[39m By\u001b[39m.\u001b[39mCSS_SELECTOR\n\u001b[0;32m    828\u001b[0m     value \u001b[39m=\u001b[39m \u001b[39mf\u001b[39m\u001b[39m'\u001b[39m\u001b[39m[name=\u001b[39m\u001b[39m\"\u001b[39m\u001b[39m{\u001b[39;00mvalue\u001b[39m}\u001b[39;00m\u001b[39m\"\u001b[39m\u001b[39m]\u001b[39m\u001b[39m'\u001b[39m\n\u001b[1;32m--> 830\u001b[0m \u001b[39mreturn\u001b[39;00m \u001b[39mself\u001b[39;49m\u001b[39m.\u001b[39;49mexecute(Command\u001b[39m.\u001b[39;49mFIND_ELEMENT, {\u001b[39m\"\u001b[39;49m\u001b[39musing\u001b[39;49m\u001b[39m\"\u001b[39;49m: by, \u001b[39m\"\u001b[39;49m\u001b[39mvalue\u001b[39;49m\u001b[39m\"\u001b[39;49m: value})[\u001b[39m\"\u001b[39m\u001b[39mvalue\u001b[39m\u001b[39m\"\u001b[39m]\n",
      "File \u001b[1;32mc:\\Users\\Nguyen Quang Tu\\AppData\\Local\\Programs\\Python\\Python39\\lib\\site-packages\\selenium\\webdriver\\remote\\webdriver.py:440\u001b[0m, in \u001b[0;36mWebDriver.execute\u001b[1;34m(self, driver_command, params)\u001b[0m\n\u001b[0;32m    438\u001b[0m response \u001b[39m=\u001b[39m \u001b[39mself\u001b[39m\u001b[39m.\u001b[39mcommand_executor\u001b[39m.\u001b[39mexecute(driver_command, params)\n\u001b[0;32m    439\u001b[0m \u001b[39mif\u001b[39;00m response:\n\u001b[1;32m--> 440\u001b[0m     \u001b[39mself\u001b[39;49m\u001b[39m.\u001b[39;49merror_handler\u001b[39m.\u001b[39;49mcheck_response(response)\n\u001b[0;32m    441\u001b[0m     response[\u001b[39m\"\u001b[39m\u001b[39mvalue\u001b[39m\u001b[39m\"\u001b[39m] \u001b[39m=\u001b[39m \u001b[39mself\u001b[39m\u001b[39m.\u001b[39m_unwrap_value(response\u001b[39m.\u001b[39mget(\u001b[39m\"\u001b[39m\u001b[39mvalue\u001b[39m\u001b[39m\"\u001b[39m, \u001b[39mNone\u001b[39;00m))\n\u001b[0;32m    442\u001b[0m     \u001b[39mreturn\u001b[39;00m response\n",
      "File \u001b[1;32mc:\\Users\\Nguyen Quang Tu\\AppData\\Local\\Programs\\Python\\Python39\\lib\\site-packages\\selenium\\webdriver\\remote\\errorhandler.py:245\u001b[0m, in \u001b[0;36mErrorHandler.check_response\u001b[1;34m(self, response)\u001b[0m\n\u001b[0;32m    243\u001b[0m         alert_text \u001b[39m=\u001b[39m value[\u001b[39m\"\u001b[39m\u001b[39malert\u001b[39m\u001b[39m\"\u001b[39m]\u001b[39m.\u001b[39mget(\u001b[39m\"\u001b[39m\u001b[39mtext\u001b[39m\u001b[39m\"\u001b[39m)\n\u001b[0;32m    244\u001b[0m     \u001b[39mraise\u001b[39;00m exception_class(message, screen, stacktrace, alert_text)  \u001b[39m# type: ignore[call-arg]  # mypy is not smart enough here\u001b[39;00m\n\u001b[1;32m--> 245\u001b[0m \u001b[39mraise\u001b[39;00m exception_class(message, screen, stacktrace)\n",
      "\u001b[1;31mNoSuchElementException\u001b[0m: Message: no such element: Unable to locate element: {\"method\":\"css selector\",\"selector\":\"input[aria-label=\"Search query\"]\"}\n  (Session info: chrome=112.0.5615.138)\nStacktrace:\nBacktrace:\n\tGetHandleVerifier [0x0056DCE3+50899]\n\t(No symbol) [0x004FE111]\n\t(No symbol) [0x00405588]\n\t(No symbol) [0x004308F9]\n\t(No symbol) [0x00430AFB]\n\t(No symbol) [0x0045F902]\n\t(No symbol) [0x0044B944]\n\t(No symbol) [0x0045E01C]\n\t(No symbol) [0x0044B6F6]\n\t(No symbol) [0x00427708]\n\t(No symbol) [0x0042886D]\n\tGetHandleVerifier [0x007D3EAE+2566302]\n\tGetHandleVerifier [0x008092B1+2784417]\n\tGetHandleVerifier [0x0080327C+2759788]\n\tGetHandleVerifier [0x00605740+672048]\n\t(No symbol) [0x00508872]\n\t(No symbol) [0x005041C8]\n\t(No symbol) [0x005042AB]\n\t(No symbol) [0x004F71B7]\n\tBaseThreadInitThunk [0x768DFEF9+25]\n\tRtlGetAppContainerNamedObjectPath [0x77E47BBE+286]\n\tRtlGetAppContainerNamedObjectPath [0x77E47B8E+238]\n"
     ]
    }
   ],
   "source": [
    "element = WebDriverWait(driver, 600).until(EC.presence_of_element_located((By.CSS_SELECTOR, 'input[autocomplete=\"username\"]')))\n",
    "html_of_interest = driver.execute_script('return arguments[0].innerHTML',element)\n",
    "soup = BeautifulSoup(html_of_interest, 'lxml')\n",
    "\n",
    "sleep(1)\n",
    "driver.find_element(By.CSS_SELECTOR, 'input[autocomplete=\"username\"]').send_keys('cap246k@gmail.com')\n",
    "actions.send_keys(Keys.ENTER)\n",
    "actions.perform()\n",
    "\n",
    "sleep(5)\n",
    "try:\n",
    "    driver.find_element(By.CSS_SELECTOR, 'input[autocapitalize=\"none\"]').send_keys('@Cap2Hp55919')\n",
    "    actions.send_keys(Keys.ENTER)\n",
    "    actions.perform()\n",
    "except:\n",
    "    pass\n",
    "\n",
    "sleep(5)\n",
    "\n",
    "driver.find_element(By.CSS_SELECTOR, 'input[autocomplete=\"current-password\"]').send_keys('Cap2@2023')\n",
    "actions.send_keys(Keys.ENTER)\n",
    "actions.perform()\n",
    "\n",
    "sleep(5)\n",
    "\n",
    "driver.find_element(By.CSS_SELECTOR, 'input[aria-label=\"Search query\"]').send_keys('(#johnwick4) lang:en')\n",
    "actions.send_keys(Keys.ENTER)\n",
    "actions.perform()"
   ]
  },
  {
   "cell_type": "code",
   "execution_count": null,
   "metadata": {},
   "outputs": [],
   "source": [
    "element = WebDriverWait(driver, 600).until(EC.presence_of_element_located((By.CSS_SELECTOR, 'input[autocomplete=\"username\"]')))\n",
    "html_of_interest = driver.execute_script('return arguments[0].innerHTML',element)\n",
    "soup = BeautifulSoup(html_of_interest, 'lxml')"
   ]
  }
 ],
 "metadata": {
  "kernelspec": {
   "display_name": "Python 3",
   "language": "python",
   "name": "python3"
  },
  "language_info": {
   "codemirror_mode": {
    "name": "ipython",
    "version": 3
   },
   "file_extension": ".py",
   "mimetype": "text/x-python",
   "name": "python",
   "nbconvert_exporter": "python",
   "pygments_lexer": "ipython3",
   "version": "3.9.0"
  },
  "orig_nbformat": 4
 },
 "nbformat": 4,
 "nbformat_minor": 2
}
