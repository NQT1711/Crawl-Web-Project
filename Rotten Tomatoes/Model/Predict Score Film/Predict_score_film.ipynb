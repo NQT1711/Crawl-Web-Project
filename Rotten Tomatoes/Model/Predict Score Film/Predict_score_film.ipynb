{
 "cells": [
  {
   "cell_type": "code",
   "execution_count": 1,
   "id": "52bb5825",
   "metadata": {},
   "outputs": [],
   "source": [
    "# Read dataset\n",
    "import pandas as pd\n",
    "import numpy as np\n",
    "import matplotlib.pyplot as plt\n",
    "# Scale data\n",
    "from sklearn.preprocessing import StandardScaler\n",
    "# Train test split\n",
    "from sklearn.model_selection import train_test_split\n",
    "# Build model\n",
    "from sklearn.feature_extraction.text import TfidfVectorizer\n",
    "from sklearn.feature_extraction.text import CountVectorizer\n",
    "import tensorflow as tf\n",
    "from keras.models import Sequential\n",
    "from keras.layers import Flatten, Dense, Softmax, Dropout\n",
    "from nltk.corpus import stopwords\n",
    "import re"
   ]
  },
  {
   "cell_type": "markdown",
   "id": "e70b6c84",
   "metadata": {},
   "source": [
    "# Đọc dữ liệu"
   ]
  },
  {
   "cell_type": "code",
   "execution_count": 2,
   "id": "0eb03a0c",
   "metadata": {},
   "outputs": [],
   "source": [
    "data = pd.read_csv('E:\\Crawl_Web\\Rotten Tomatoes\\Preprocessing\\movie_preprocessing4.csv')"
   ]
  },
  {
   "cell_type": "code",
   "execution_count": 3,
   "id": "804e5a86",
   "metadata": {},
   "outputs": [
    {
     "data": {
      "text/html": [
       "<div>\n",
       "<style scoped>\n",
       "    .dataframe tbody tr th:only-of-type {\n",
       "        vertical-align: middle;\n",
       "    }\n",
       "\n",
       "    .dataframe tbody tr th {\n",
       "        vertical-align: top;\n",
       "    }\n",
       "\n",
       "    .dataframe thead th {\n",
       "        text-align: right;\n",
       "    }\n",
       "</style>\n",
       "<table border=\"1\" class=\"dataframe\">\n",
       "  <thead>\n",
       "    <tr style=\"text-align: right;\">\n",
       "      <th></th>\n",
       "      <th>Title</th>\n",
       "      <th>Tomatometer state</th>\n",
       "      <th>Audience state</th>\n",
       "      <th>Genre</th>\n",
       "      <th>Original Language</th>\n",
       "      <th>Director</th>\n",
       "      <th>Producer</th>\n",
       "      <th>Writer</th>\n",
       "      <th>Release Date (Theaters)</th>\n",
       "      <th>Box Office (Gross USA)</th>\n",
       "      <th>...</th>\n",
       "      <th>Distributor</th>\n",
       "      <th>Synopsis</th>\n",
       "      <th>Cast</th>\n",
       "      <th>Release Date (Streaming)</th>\n",
       "      <th>Rating</th>\n",
       "      <th>Aspect Ratio</th>\n",
       "      <th>Sound Mix</th>\n",
       "      <th>View the collection</th>\n",
       "      <th>Score</th>\n",
       "      <th>Review count</th>\n",
       "    </tr>\n",
       "  </thead>\n",
       "  <tbody>\n",
       "    <tr>\n",
       "      <th>0</th>\n",
       "      <td>Paa</td>\n",
       "      <td>rotten</td>\n",
       "      <td>upright</td>\n",
       "      <td>Drama</td>\n",
       "      <td>Hindi</td>\n",
       "      <td>R. Balki</td>\n",
       "      <td>Sunil Manchanda</td>\n",
       "      <td>R. Balki</td>\n",
       "      <td>Dec 4, 2009 limited</td>\n",
       "      <td>$199.2K</td>\n",
       "      <td>...</td>\n",
       "      <td>Big Pictures</td>\n",
       "      <td>A politician's 13-year-old son has a rare diso...</td>\n",
       "      <td>Amitabh Bachchan, Abhishek Bachchan, Vidya Bal...</td>\n",
       "      <td>NaN</td>\n",
       "      <td>PG-13</td>\n",
       "      <td>NaN</td>\n",
       "      <td>NaN</td>\n",
       "      <td>NaN</td>\n",
       "      <td>58.5</td>\n",
       "      <td>1008</td>\n",
       "    </tr>\n",
       "    <tr>\n",
       "      <th>1</th>\n",
       "      <td>Small Town Wisconsin</td>\n",
       "      <td>fresh</td>\n",
       "      <td>upright</td>\n",
       "      <td>Drama, Comedy</td>\n",
       "      <td>English</td>\n",
       "      <td>Niels Mueller</td>\n",
       "      <td>Scott K. Foley, Hongtao Liu, Niels Mueller, Jo...</td>\n",
       "      <td>Jason Naczek</td>\n",
       "      <td>Jun 3, 2022 limited</td>\n",
       "      <td>NaN</td>\n",
       "      <td>...</td>\n",
       "      <td>Quiver Distribution</td>\n",
       "      <td>After losing a custody battle, perpetual teena...</td>\n",
       "      <td>David Sullivan, Bill Heck, Kristen Johnston, T...</td>\n",
       "      <td>Jun 10, 2022</td>\n",
       "      <td>PG-13</td>\n",
       "      <td>NaN</td>\n",
       "      <td>NaN</td>\n",
       "      <td>NaN</td>\n",
       "      <td>85.5</td>\n",
       "      <td>62</td>\n",
       "    </tr>\n",
       "    <tr>\n",
       "      <th>2</th>\n",
       "      <td>The 100-Year-Old Man Who Climbed Out the Windo...</td>\n",
       "      <td>fresh</td>\n",
       "      <td>upright</td>\n",
       "      <td>Comedy, Adventure</td>\n",
       "      <td>Swedish</td>\n",
       "      <td>Felix Herngren</td>\n",
       "      <td>Malte Forssell, Felix Herngren, Henrik Jansson...</td>\n",
       "      <td>Felix Herngren, Hans Ingemansson</td>\n",
       "      <td>May 1, 2015 limited</td>\n",
       "      <td>$923.9K</td>\n",
       "      <td>...</td>\n",
       "      <td>Music Box Films</td>\n",
       "      <td>Allan Karlsson, a 100-year-old explosives expe...</td>\n",
       "      <td>Robert Gustafsson, Iwar Wiklander, David Wiber...</td>\n",
       "      <td>Aug 18, 2015</td>\n",
       "      <td>R</td>\n",
       "      <td>NaN</td>\n",
       "      <td>NaN</td>\n",
       "      <td>NaN</td>\n",
       "      <td>68.5</td>\n",
       "      <td>2581</td>\n",
       "    </tr>\n",
       "  </tbody>\n",
       "</table>\n",
       "<p>3 rows × 21 columns</p>\n",
       "</div>"
      ],
      "text/plain": [
       "                                               Title Tomatometer state  \\\n",
       "0                                                Paa            rotten   \n",
       "1                               Small Town Wisconsin             fresh   \n",
       "2  The 100-Year-Old Man Who Climbed Out the Windo...             fresh   \n",
       "\n",
       "  Audience state              Genre Original Language        Director  \\\n",
       "0        upright              Drama             Hindi        R. Balki   \n",
       "1        upright      Drama, Comedy           English   Niels Mueller   \n",
       "2        upright  Comedy, Adventure           Swedish  Felix Herngren   \n",
       "\n",
       "                                            Producer  \\\n",
       "0                                    Sunil Manchanda   \n",
       "1  Scott K. Foley, Hongtao Liu, Niels Mueller, Jo...   \n",
       "2  Malte Forssell, Felix Herngren, Henrik Jansson...   \n",
       "\n",
       "                             Writer Release Date (Theaters)  \\\n",
       "0                          R. Balki     Dec 4, 2009 limited   \n",
       "1                      Jason Naczek     Jun 3, 2022 limited   \n",
       "2  Felix Herngren, Hans Ingemansson     May 1, 2015 limited   \n",
       "\n",
       "  Box Office (Gross USA)  ...          Distributor  \\\n",
       "0                $199.2K  ...         Big Pictures   \n",
       "1                    NaN  ...  Quiver Distribution   \n",
       "2                $923.9K  ...      Music Box Films   \n",
       "\n",
       "                                            Synopsis  \\\n",
       "0  A politician's 13-year-old son has a rare diso...   \n",
       "1  After losing a custody battle, perpetual teena...   \n",
       "2  Allan Karlsson, a 100-year-old explosives expe...   \n",
       "\n",
       "                                                Cast Release Date (Streaming)  \\\n",
       "0  Amitabh Bachchan, Abhishek Bachchan, Vidya Bal...                      NaN   \n",
       "1  David Sullivan, Bill Heck, Kristen Johnston, T...             Jun 10, 2022   \n",
       "2  Robert Gustafsson, Iwar Wiklander, David Wiber...             Aug 18, 2015   \n",
       "\n",
       "  Rating Aspect Ratio Sound Mix View the collection Score  Review count  \n",
       "0  PG-13          NaN       NaN                 NaN  58.5          1008  \n",
       "1  PG-13          NaN       NaN                 NaN  85.5            62  \n",
       "2      R          NaN       NaN                 NaN  68.5          2581  \n",
       "\n",
       "[3 rows x 21 columns]"
      ]
     },
     "execution_count": 3,
     "metadata": {},
     "output_type": "execute_result"
    }
   ],
   "source": [
    "data.head(3)"
   ]
  },
  {
   "attachments": {},
   "cell_type": "markdown",
   "id": "57dcd84d",
   "metadata": {},
   "source": [
    "# Tiền xử lí dữ liệu"
   ]
  },
  {
   "cell_type": "code",
   "execution_count": 4,
   "id": "783fdb52",
   "metadata": {},
   "outputs": [],
   "source": [
    "# Drop các cột không dùng trong model\n",
    "data.drop(columns=['Title', 'Tomatometer state', 'Audience state', 'Original Language', \n",
    "                   'Director', 'Producer', 'Writer', 'Release Date (Theaters)', 'Box Office (Gross USA)',\n",
    "                    'Aspect Ratio', 'Sound Mix', 'View the collection', 'Distributor', 'Cast', 'Release Date (Streaming)', 'Review count'], inplace=True)"
   ]
  },
  {
   "cell_type": "code",
   "execution_count": 5,
   "id": "dfdc2b27",
   "metadata": {},
   "outputs": [
    {
     "data": {
      "text/html": [
       "<div>\n",
       "<style scoped>\n",
       "    .dataframe tbody tr th:only-of-type {\n",
       "        vertical-align: middle;\n",
       "    }\n",
       "\n",
       "    .dataframe tbody tr th {\n",
       "        vertical-align: top;\n",
       "    }\n",
       "\n",
       "    .dataframe thead th {\n",
       "        text-align: right;\n",
       "    }\n",
       "</style>\n",
       "<table border=\"1\" class=\"dataframe\">\n",
       "  <thead>\n",
       "    <tr style=\"text-align: right;\">\n",
       "      <th></th>\n",
       "      <th>Genre</th>\n",
       "      <th>Runtime</th>\n",
       "      <th>Synopsis</th>\n",
       "      <th>Rating</th>\n",
       "      <th>Score</th>\n",
       "    </tr>\n",
       "  </thead>\n",
       "  <tbody>\n",
       "    <tr>\n",
       "      <th>0</th>\n",
       "      <td>Drama</td>\n",
       "      <td>133.0</td>\n",
       "      <td>A politician's 13-year-old son has a rare diso...</td>\n",
       "      <td>PG-13</td>\n",
       "      <td>58.5</td>\n",
       "    </tr>\n",
       "    <tr>\n",
       "      <th>1</th>\n",
       "      <td>Drama, Comedy</td>\n",
       "      <td>109.0</td>\n",
       "      <td>After losing a custody battle, perpetual teena...</td>\n",
       "      <td>PG-13</td>\n",
       "      <td>85.5</td>\n",
       "    </tr>\n",
       "    <tr>\n",
       "      <th>2</th>\n",
       "      <td>Comedy, Adventure</td>\n",
       "      <td>114.0</td>\n",
       "      <td>Allan Karlsson, a 100-year-old explosives expe...</td>\n",
       "      <td>R</td>\n",
       "      <td>68.5</td>\n",
       "    </tr>\n",
       "    <tr>\n",
       "      <th>3</th>\n",
       "      <td>Drama, Mystery &amp; thriller, Action</td>\n",
       "      <td>107.0</td>\n",
       "      <td>Frank Morris (Clint Eastwood), a hardened con ...</td>\n",
       "      <td>PG</td>\n",
       "      <td>91.0</td>\n",
       "    </tr>\n",
       "    <tr>\n",
       "      <th>4</th>\n",
       "      <td>Drama, Adventure, Romance</td>\n",
       "      <td>120.0</td>\n",
       "      <td>Tami Oldham and Richard Sharp couldn't anticip...</td>\n",
       "      <td>PG-13</td>\n",
       "      <td>67.0</td>\n",
       "    </tr>\n",
       "    <tr>\n",
       "      <th>...</th>\n",
       "      <td>...</td>\n",
       "      <td>...</td>\n",
       "      <td>...</td>\n",
       "      <td>...</td>\n",
       "      <td>...</td>\n",
       "    </tr>\n",
       "    <tr>\n",
       "      <th>32551</th>\n",
       "      <td>Drama</td>\n",
       "      <td>136.0</td>\n",
       "      <td>Encouraged by his editor to seek 'sexy stories...</td>\n",
       "      <td>R</td>\n",
       "      <td>42.0</td>\n",
       "    </tr>\n",
       "    <tr>\n",
       "      <th>32552</th>\n",
       "      <td>Drama</td>\n",
       "      <td>89.0</td>\n",
       "      <td>A distraught man (James Coburn) embarks on a c...</td>\n",
       "      <td>R</td>\n",
       "      <td>40.5</td>\n",
       "    </tr>\n",
       "    <tr>\n",
       "      <th>32553</th>\n",
       "      <td>Documentary</td>\n",
       "      <td>80.0</td>\n",
       "      <td>Three brothers discover the late-night scene o...</td>\n",
       "      <td>PG-13</td>\n",
       "      <td>75.5</td>\n",
       "    </tr>\n",
       "    <tr>\n",
       "      <th>32554</th>\n",
       "      <td>Drama, Comedy, Documentary</td>\n",
       "      <td>79.0</td>\n",
       "      <td>Jeb Berrier, a regular American man, makes a p...</td>\n",
       "      <td>PG-13</td>\n",
       "      <td>90.5</td>\n",
       "    </tr>\n",
       "    <tr>\n",
       "      <th>32555</th>\n",
       "      <td>Drama</td>\n",
       "      <td>77.0</td>\n",
       "      <td>Will, an aimless playboy living in Brooklyn, h...</td>\n",
       "      <td>R</td>\n",
       "      <td>18.5</td>\n",
       "    </tr>\n",
       "  </tbody>\n",
       "</table>\n",
       "<p>32556 rows × 5 columns</p>\n",
       "</div>"
      ],
      "text/plain": [
       "                                   Genre  Runtime  \\\n",
       "0                                  Drama    133.0   \n",
       "1                          Drama, Comedy    109.0   \n",
       "2                      Comedy, Adventure    114.0   \n",
       "3      Drama, Mystery & thriller, Action    107.0   \n",
       "4              Drama, Adventure, Romance    120.0   \n",
       "...                                  ...      ...   \n",
       "32551                              Drama    136.0   \n",
       "32552                              Drama     89.0   \n",
       "32553                        Documentary     80.0   \n",
       "32554         Drama, Comedy, Documentary     79.0   \n",
       "32555                              Drama     77.0   \n",
       "\n",
       "                                                Synopsis Rating  Score  \n",
       "0      A politician's 13-year-old son has a rare diso...  PG-13   58.5  \n",
       "1      After losing a custody battle, perpetual teena...  PG-13   85.5  \n",
       "2      Allan Karlsson, a 100-year-old explosives expe...      R   68.5  \n",
       "3      Frank Morris (Clint Eastwood), a hardened con ...     PG   91.0  \n",
       "4      Tami Oldham and Richard Sharp couldn't anticip...  PG-13   67.0  \n",
       "...                                                  ...    ...    ...  \n",
       "32551  Encouraged by his editor to seek 'sexy stories...      R   42.0  \n",
       "32552  A distraught man (James Coburn) embarks on a c...      R   40.5  \n",
       "32553  Three brothers discover the late-night scene o...  PG-13   75.5  \n",
       "32554  Jeb Berrier, a regular American man, makes a p...  PG-13   90.5  \n",
       "32555  Will, an aimless playboy living in Brooklyn, h...      R   18.5  \n",
       "\n",
       "[32556 rows x 5 columns]"
      ]
     },
     "execution_count": 5,
     "metadata": {},
     "output_type": "execute_result"
    }
   ],
   "source": [
    "data"
   ]
  },
  {
   "cell_type": "code",
   "execution_count": 6,
   "id": "8a687584",
   "metadata": {},
   "outputs": [],
   "source": [
    "list_genre = []\n",
    "for g in data['Genre']:\n",
    "    try:\n",
    "        g = g.split(', ')\n",
    "        for sub_g in g:\n",
    "            if sub_g not in list_genre:\n",
    "                list_genre.append(sub_g)\n",
    "    except:\n",
    "        continue"
   ]
  },
  {
   "cell_type": "code",
   "execution_count": 7,
   "id": "883e6bd0",
   "metadata": {},
   "outputs": [
    {
     "name": "stderr",
     "output_type": "stream",
     "text": [
      "C:\\Users\\Nguyen Quang Tu\\AppData\\Local\\Temp\\ipykernel_6784\\2167430104.py:7: SettingWithCopyWarning: \n",
      "A value is trying to be set on a copy of a slice from a DataFrame\n",
      "\n",
      "See the caveats in the documentation: https://pandas.pydata.org/pandas-docs/stable/user_guide/indexing.html#returning-a-view-versus-a-copy\n",
      "  data[g].iloc[i] = 1\n"
     ]
    }
   ],
   "source": [
    "for g in list_genre:\n",
    "    data[g] = 0\n",
    "\n",
    "for i in range(len(data)):\n",
    "    for g in list_genre:\n",
    "        if not pd.isna(data['Genre'].iloc[i]) and g in data['Genre'].iloc[i]:\n",
    "            data[g].iloc[i] = 1\n",
    "            \n",
    "data.drop(columns=['Genre'], inplace=True)"
   ]
  },
  {
   "cell_type": "code",
   "execution_count": 8,
   "id": "ff7329ad",
   "metadata": {},
   "outputs": [],
   "source": [
    "data['Score'] = data['Score']/10"
   ]
  },
  {
   "cell_type": "code",
   "execution_count": 9,
   "id": "df7c46cc",
   "metadata": {},
   "outputs": [],
   "source": [
    "data = data[list_genre + ['Runtime', 'Rating', 'Synopsis',\t'Score']]"
   ]
  },
  {
   "cell_type": "code",
   "execution_count": 10,
   "id": "37485ad4",
   "metadata": {},
   "outputs": [],
   "source": [
    "# Mã hóa cột \"Rating\"\n",
    "data = pd.get_dummies(data, columns=['Rating'], drop_first=True)"
   ]
  },
  {
   "cell_type": "code",
   "execution_count": 11,
   "id": "eca8533b",
   "metadata": {},
   "outputs": [],
   "source": [
    "# Hàm tiền xử lí dữ liệu text\n",
    "def preprocess_text(text):\n",
    "    text = text.lower() # Chuyển văn bản thành chữ thường\n",
    "    text = re.sub(r'[^\\w\\s]',' ',text) # Xóa dấu câu\n",
    "    text = re.sub(\"\\d+\", \" \", text) # Xóa chữ số\n",
    "    stop = stopwords.words('english') # Xóa các từ không có nghĩa (Stop Words)\n",
    "    text = \" \".join(text for text in text.split() if text not in stop)\n",
    "    return text"
   ]
  },
  {
   "cell_type": "code",
   "execution_count": 12,
   "id": "7c7aafbb",
   "metadata": {},
   "outputs": [
    {
     "name": "stderr",
     "output_type": "stream",
     "text": [
      "C:\\Users\\Nguyen Quang Tu\\AppData\\Local\\Temp\\ipykernel_6784\\2625841148.py:2: SettingWithCopyWarning: \n",
      "A value is trying to be set on a copy of a slice from a DataFrame\n",
      "\n",
      "See the caveats in the documentation: https://pandas.pydata.org/pandas-docs/stable/user_guide/indexing.html#returning-a-view-versus-a-copy\n",
      "  data['Synopsis'].iloc[i] = preprocess_text(data['Synopsis'].iloc[i])\n"
     ]
    }
   ],
   "source": [
    "for i in range(len(data)):\n",
    "    data['Synopsis'].iloc[i] = preprocess_text(data['Synopsis'].iloc[i])"
   ]
  },
  {
   "cell_type": "code",
   "execution_count": 13,
   "id": "20c99968",
   "metadata": {},
   "outputs": [],
   "source": [
    "vectorizer = TfidfVectorizer()\n",
    "features = vectorizer.fit_transform(data['Synopsis']) # training vector TF-IDF pada tiap data\n",
    "data.drop(columns=['Synopsis'], inplace=True)"
   ]
  },
  {
   "cell_type": "code",
   "execution_count": 14,
   "id": "322d84c9",
   "metadata": {},
   "outputs": [
    {
     "data": {
      "text/plain": [
       "Index(['Drama', 'Comedy', 'Adventure', 'Mystery & thriller', 'Action',\n",
       "       'Romance', 'Crime', 'Documentary', 'Horror', 'Kids & family', 'Fantasy',\n",
       "       'Biography', 'Western', 'Musical', 'Music', 'Sci-fi', 'History',\n",
       "       'Animation', 'Lgbtq+', 'Anime', 'Holiday', 'War', 'Stand-up', 'Nature',\n",
       "       'Sports & fitness', 'Sports', 'Faith & spirituality', 'Short',\n",
       "       'Variety', 'Foreign', 'Special interest', 'Entertainment', 'News',\n",
       "       'Other', 'Gay & lesbian', 'Health & wellness', 'Runtime', 'Score',\n",
       "       'Rating_NC-17', 'Rating_PG', 'Rating_PG-13', 'Rating_R', 'Rating_TV14',\n",
       "       'Rating_TVG', 'Rating_TVMA', 'Rating_TVPG', 'Rating_TVY7'],\n",
       "      dtype='object')"
      ]
     },
     "execution_count": 14,
     "metadata": {},
     "output_type": "execute_result"
    }
   ],
   "source": [
    "data.columns"
   ]
  },
  {
   "cell_type": "markdown",
   "id": "4711feb7",
   "metadata": {},
   "source": [
    "# Xây dựng mô hình"
   ]
  },
  {
   "cell_type": "code",
   "execution_count": 15,
   "id": "d3bea059",
   "metadata": {},
   "outputs": [],
   "source": [
    "# scaler = StandardScaler()\n",
    "# data_sc = data.copy().drop(columns='Score')\n",
    "# data_y = data['Score']\n",
    "# data_scales = scaler.fit_transform(data_sc)\n",
    "# data = pd.DataFrame(data_scales, index=data_sc.index, columns=data_sc.columns)\n",
    "# data['Score'] = data_y"
   ]
  },
  {
   "cell_type": "markdown",
   "id": "dfafea5a",
   "metadata": {},
   "source": [
    "# Chọn biến X và Y"
   ]
  },
  {
   "cell_type": "code",
   "execution_count": 16,
   "id": "ded1a459",
   "metadata": {},
   "outputs": [],
   "source": [
    "# X = data[feature_selection]\n",
    "X = np.concatenate((data.drop(columns=['Score', 'Runtime']).values, features.toarray()), axis=1)\n",
    "Y = data['Score']"
   ]
  },
  {
   "cell_type": "markdown",
   "id": "32a5e0fb",
   "metadata": {},
   "source": [
    "# Chia tập dữ liệu thành 2 tập train(80%) và test(20%)"
   ]
  },
  {
   "cell_type": "code",
   "execution_count": 17,
   "id": "192c508f",
   "metadata": {},
   "outputs": [],
   "source": [
    "x_train, x_test, y_train, y_test = train_test_split(X, Y, test_size = 0.2, random_state = 42)"
   ]
  },
  {
   "attachments": {},
   "cell_type": "markdown",
   "id": "5a02c796",
   "metadata": {},
   "source": [
    "# Build model"
   ]
  },
  {
   "cell_type": "code",
   "execution_count": 18,
   "id": "b7d3da77",
   "metadata": {},
   "outputs": [],
   "source": [
    "model = Sequential()\n",
    "model.add(Dense(64, input_dim = x_train.shape[1], activation = 'relu'))\n",
    "model.add(Dropout(0.15))\n",
    "model.add(Dense(64, activation = 'relu'))\n",
    "model.add(Dropout(0.2))\n",
    "model.add(Dense(40, activation = 'relu'))\n",
    "model.add(Dropout(0.15))\n",
    "model.add(Dense(54, activation = 'relu'))\n",
    "model.add(Dropout(0.18))\n",
    "model.add(Dense(1))"
   ]
  },
  {
   "cell_type": "code",
   "execution_count": 19,
   "id": "97c8dbeb",
   "metadata": {},
   "outputs": [],
   "source": [
    "model.compile(optimizer = 'adam', loss = 'mean_squared_error', metrics = ['mse', 'mae'])"
   ]
  },
  {
   "cell_type": "code",
   "execution_count": 20,
   "id": "982b91c3",
   "metadata": {},
   "outputs": [
    {
     "name": "stdout",
     "output_type": "stream",
     "text": [
      "Model: \"sequential\"\n",
      "_________________________________________________________________\n",
      " Layer (type)                Output Shape              Param #   \n",
      "=================================================================\n",
      " dense (Dense)               (None, 64)                3765184   \n",
      "                                                                 \n",
      " dropout (Dropout)           (None, 64)                0         \n",
      "                                                                 \n",
      " dense_1 (Dense)             (None, 64)                4160      \n",
      "                                                                 \n",
      " dropout_1 (Dropout)         (None, 64)                0         \n",
      "                                                                 \n",
      " dense_2 (Dense)             (None, 40)                2600      \n",
      "                                                                 \n",
      " dropout_2 (Dropout)         (None, 40)                0         \n",
      "                                                                 \n",
      " dense_3 (Dense)             (None, 54)                2214      \n",
      "                                                                 \n",
      " dropout_3 (Dropout)         (None, 54)                0         \n",
      "                                                                 \n",
      " dense_4 (Dense)             (None, 1)                 55        \n",
      "                                                                 \n",
      "=================================================================\n",
      "Total params: 3,774,213\n",
      "Trainable params: 3,774,213\n",
      "Non-trainable params: 0\n",
      "_________________________________________________________________\n"
     ]
    }
   ],
   "source": [
    "model.summary()"
   ]
  },
  {
   "cell_type": "code",
   "execution_count": 21,
   "id": "84e51a0e",
   "metadata": {},
   "outputs": [
    {
     "name": "stdout",
     "output_type": "stream",
     "text": [
      "Epoch 1/20\n",
      "733/733 [==============================] - 31s 39ms/step - loss: 6.5744 - mse: 6.5744 - mae: 2.0272 - val_loss: 3.8834 - val_mse: 3.8834 - val_mae: 1.6007\n",
      "Epoch 2/20\n",
      "733/733 [==============================] - 24s 33ms/step - loss: 3.4676 - mse: 3.4676 - mae: 1.4968 - val_loss: 4.1491 - val_mse: 4.1491 - val_mae: 1.6192\n",
      "Epoch 3/20\n",
      "733/733 [==============================] - 25s 34ms/step - loss: 2.3311 - mse: 2.3311 - mae: 1.2063 - val_loss: 4.5154 - val_mse: 4.5154 - val_mae: 1.6860\n",
      "Epoch 4/20\n",
      "733/733 [==============================] - 25s 34ms/step - loss: 1.7311 - mse: 1.7311 - mae: 1.0378 - val_loss: 4.7919 - val_mse: 4.7919 - val_mae: 1.7453\n",
      "Epoch 5/20\n",
      "733/733 [==============================] - 24s 33ms/step - loss: 1.3756 - mse: 1.3756 - mae: 0.9243 - val_loss: 4.8611 - val_mse: 4.8611 - val_mae: 1.7505\n",
      "Epoch 6/20\n",
      "733/733 [==============================] - 24s 33ms/step - loss: 1.1238 - mse: 1.1238 - mae: 0.8359 - val_loss: 4.8855 - val_mse: 4.8855 - val_mae: 1.7486\n",
      "Epoch 7/20\n",
      "733/733 [==============================] - 24s 33ms/step - loss: 1.0060 - mse: 1.0060 - mae: 0.7916 - val_loss: 4.7685 - val_mse: 4.7685 - val_mae: 1.7238\n",
      "Epoch 8/20\n",
      "733/733 [==============================] - 24s 33ms/step - loss: 0.9140 - mse: 0.9140 - mae: 0.7542 - val_loss: 4.9499 - val_mse: 4.9499 - val_mae: 1.7506\n",
      "Epoch 9/20\n",
      "733/733 [==============================] - 24s 33ms/step - loss: 0.8386 - mse: 0.8386 - mae: 0.7203 - val_loss: 4.8528 - val_mse: 4.8528 - val_mae: 1.7460\n",
      "Epoch 10/20\n",
      "733/733 [==============================] - 24s 33ms/step - loss: 0.7723 - mse: 0.7723 - mae: 0.6910 - val_loss: 4.7935 - val_mse: 4.7935 - val_mae: 1.7407\n",
      "Epoch 11/20\n",
      "733/733 [==============================] - 24s 33ms/step - loss: 0.7159 - mse: 0.7159 - mae: 0.6639 - val_loss: 4.7601 - val_mse: 4.7601 - val_mae: 1.7352\n",
      "Epoch 12/20\n",
      "733/733 [==============================] - 24s 33ms/step - loss: 0.6941 - mse: 0.6941 - mae: 0.6523 - val_loss: 4.7587 - val_mse: 4.7587 - val_mae: 1.7352\n",
      "Epoch 13/20\n",
      "733/733 [==============================] - 24s 33ms/step - loss: 0.6445 - mse: 0.6445 - mae: 0.6292 - val_loss: 4.8567 - val_mse: 4.8567 - val_mae: 1.7482\n",
      "Epoch 14/20\n",
      "733/733 [==============================] - 24s 33ms/step - loss: 0.6162 - mse: 0.6162 - mae: 0.6172 - val_loss: 4.8760 - val_mse: 4.8760 - val_mae: 1.7588\n",
      "Epoch 15/20\n",
      "733/733 [==============================] - 24s 33ms/step - loss: 0.5823 - mse: 0.5823 - mae: 0.5958 - val_loss: 4.7221 - val_mse: 4.7221 - val_mae: 1.7095\n",
      "Epoch 16/20\n",
      "733/733 [==============================] - 24s 33ms/step - loss: 0.5711 - mse: 0.5711 - mae: 0.5933 - val_loss: 4.6677 - val_mse: 4.6677 - val_mae: 1.7202\n",
      "Epoch 17/20\n",
      "733/733 [==============================] - 24s 33ms/step - loss: 0.5446 - mse: 0.5446 - mae: 0.5756 - val_loss: 4.6985 - val_mse: 4.6985 - val_mae: 1.7258\n",
      "Epoch 18/20\n",
      "733/733 [==============================] - 24s 33ms/step - loss: 0.5050 - mse: 0.5050 - mae: 0.5545 - val_loss: 4.7213 - val_mse: 4.7213 - val_mae: 1.7284\n",
      "Epoch 19/20\n",
      "733/733 [==============================] - 24s 33ms/step - loss: 0.4890 - mse: 0.4890 - mae: 0.5454 - val_loss: 4.8255 - val_mse: 4.8255 - val_mae: 1.7277\n",
      "Epoch 20/20\n",
      "733/733 [==============================] - 24s 33ms/step - loss: 0.4760 - mse: 0.4760 - mae: 0.5343 - val_loss: 4.7608 - val_mse: 4.7608 - val_mae: 1.7361\n"
     ]
    },
    {
     "data": {
      "text/plain": [
       "<keras.callbacks.History at 0x1aae0c02be0>"
      ]
     },
     "execution_count": 21,
     "metadata": {},
     "output_type": "execute_result"
    }
   ],
   "source": [
    "model.fit(x_train, y_train, validation_split=0.1, epochs=20)"
   ]
  },
  {
   "attachments": {},
   "cell_type": "markdown",
   "id": "03b7c6fd",
   "metadata": {},
   "source": [
    "# Dự đoán điểm phim"
   ]
  },
  {
   "cell_type": "code",
   "execution_count": 22,
   "id": "4d98335d",
   "metadata": {},
   "outputs": [
    {
     "data": {
      "text/plain": [
       "Index(['Drama', 'Comedy', 'Adventure', 'Mystery & thriller', 'Action',\n",
       "       'Romance', 'Crime', 'Documentary', 'Horror', 'Kids & family', 'Fantasy',\n",
       "       'Biography', 'Western', 'Musical', 'Music', 'Sci-fi', 'History',\n",
       "       'Animation', 'Lgbtq+', 'Anime', 'Holiday', 'War', 'Stand-up', 'Nature',\n",
       "       'Sports & fitness', 'Sports', 'Faith & spirituality', 'Short',\n",
       "       'Variety', 'Foreign', 'Special interest', 'Entertainment', 'News',\n",
       "       'Other', 'Gay & lesbian', 'Health & wellness', 'Runtime', 'Score',\n",
       "       'Rating_NC-17', 'Rating_PG', 'Rating_PG-13', 'Rating_R', 'Rating_TV14',\n",
       "       'Rating_TVG', 'Rating_TVMA', 'Rating_TVPG', 'Rating_TVY7'],\n",
       "      dtype='object')"
      ]
     },
     "execution_count": 22,
     "metadata": {},
     "output_type": "execute_result"
    }
   ],
   "source": [
    "data.columns"
   ]
  },
  {
   "cell_type": "code",
   "execution_count": 23,
   "id": "2153d9dd",
   "metadata": {},
   "outputs": [],
   "source": [
    "# Thể loại phim\n",
    "genre = input('Thể loại phim:')\n",
    "genre_vector = []\n",
    "\n",
    "for g in list_genre:\n",
    "    if g in genre:\n",
    "        genre_vector.append(1)\n",
    "    else:\n",
    "        genre_vector.append(0)\n",
    "\n",
    "# Thời lượng phim\n",
    "# runtime = int(input('Thời lượng phim:'))\n",
    "\n",
    "# Rating phim\n",
    "rating = input('Rating phim:')\n",
    "list_rating = ['NC-17', 'PG', 'PG-13', 'R', 'TV14', 'TVG', 'TVMA', 'TVPG', 'TVY7']\n",
    "rating_vector = []\n",
    "\n",
    "for r in list_rating:\n",
    "    if r == 'G':\n",
    "        continue\n",
    "    if r == rating:\n",
    "        rating_vector.append(1)\n",
    "    else:\n",
    "        rating_vector.append(0)\n",
    "\n",
    "# Tóm tắt phim\n",
    "synopsis = input('Tóm tắt phim:')\n",
    "\n",
    "synopsis_vector = vectorizer.transform([preprocess_text(synopsis)])"
   ]
  },
  {
   "cell_type": "code",
   "execution_count": 24,
   "id": "fd649564",
   "metadata": {},
   "outputs": [
    {
     "name": "stdout",
     "output_type": "stream",
     "text": [
      "1/1 [==============================] - 0s 132ms/step\n",
      "[[6.12737]]\n"
     ]
    }
   ],
   "source": [
    "# Dự đoán\n",
    "info_vector = genre_vector + rating_vector + list(synopsis_vector.toarray()[0])\n",
    "\n",
    "predict = model.predict([info_vector])\n",
    "print(predict)"
   ]
  },
  {
   "cell_type": "code",
   "execution_count": null,
   "id": "c88f03b4",
   "metadata": {},
   "outputs": [],
   "source": []
  }
 ],
 "metadata": {
  "kernelspec": {
   "display_name": "Python 3 (ipykernel)",
   "language": "python",
   "name": "python3"
  },
  "language_info": {
   "codemirror_mode": {
    "name": "ipython",
    "version": 3
   },
   "file_extension": ".py",
   "mimetype": "text/x-python",
   "name": "python",
   "nbconvert_exporter": "python",
   "pygments_lexer": "ipython3",
   "version": "3.9.0"
  }
 },
 "nbformat": 4,
 "nbformat_minor": 5
}
