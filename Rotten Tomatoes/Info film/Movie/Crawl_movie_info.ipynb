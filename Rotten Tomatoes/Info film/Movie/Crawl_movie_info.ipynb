{
 "cells": [
  {
   "cell_type": "markdown",
   "metadata": {},
   "source": [
    "# Import thư viện"
   ]
  },
  {
   "cell_type": "code",
   "execution_count": 11,
   "metadata": {},
   "outputs": [],
   "source": [
    "from selenium import webdriver\n",
    "from selenium.webdriver.chrome.service import Service\n",
    "from requests import get\n",
    "from bs4 import BeautifulSoup\n",
    "import pandas as pd\n",
    "from time import sleep\n",
    "from selenium import webdriver\n",
    "from selenium.webdriver.support.ui import WebDriverWait\n",
    "from selenium.webdriver.support import expected_conditions as EC\n",
    "from selenium.webdriver.common.by import By\n",
    "import traceback"
   ]
  },
  {
   "cell_type": "code",
   "execution_count": 12,
   "metadata": {},
   "outputs": [],
   "source": [
    "# Mở trình duyệt Google Chrome ở trang thái Tab ẩn danh\n",
    "options = webdriver.ChromeOptions()\n",
    "options.add_argument('--ignore-certificate-errors')\n",
    "options.add_argument('--incognito')\n",
    "options.add_argument(\"--start-maximized\")\n",
    "s = Service('C:\\chromedriver')\n",
    "driver = webdriver.Chrome(service=s, options=options)\n",
    "driver.implicitly_wait(0)"
   ]
  },
  {
   "cell_type": "code",
   "execution_count": 13,
   "metadata": {},
   "outputs": [],
   "source": [
    "# List tất cả url movie\n",
    "list_all_url_movie = pd.read_csv('E:/Crawl_Web/Rotten Tomatoes/Crawl URL/URL_movie.csv').squeeze('columns').tolist()"
   ]
  },
  {
   "cell_type": "code",
   "execution_count": 14,
   "metadata": {},
   "outputs": [
    {
     "name": "stderr",
     "output_type": "stream",
     "text": [
      "Traceback (most recent call last):\n",
      "  File \"C:\\Users\\Nguyen Quang Tu\\AppData\\Local\\Temp\\ipykernel_19676\\3074276906.py\", line 17, in <module>\n",
      "    dict_info_movie['Title'] = soup.select('h1[class=\"scoreboard__title\"]')[0].text\n",
      "IndexError: list index out of range\n"
     ]
    },
    {
     "name": "stdout",
     "output_type": "stream",
     "text": [
      "https://www.rottentomatoes.com/m/1010695-invisible_man\n"
     ]
    },
    {
     "name": "stderr",
     "output_type": "stream",
     "text": [
      "Traceback (most recent call last):\n",
      "  File \"C:\\Users\\Nguyen Quang Tu\\AppData\\Local\\Temp\\ipykernel_19676\\3074276906.py\", line 17, in <module>\n",
      "    dict_info_movie['Title'] = soup.select('h1[class=\"scoreboard__title\"]')[0].text\n",
      "IndexError: list index out of range\n"
     ]
    },
    {
     "name": "stdout",
     "output_type": "stream",
     "text": [
      "https://www.rottentomatoes.com/m/saturday_night_fever_40th_anniversary\n"
     ]
    },
    {
     "name": "stderr",
     "output_type": "stream",
     "text": [
      "Traceback (most recent call last):\n",
      "  File \"C:\\Users\\Nguyen Quang Tu\\AppData\\Local\\Temp\\ipykernel_19676\\3074276906.py\", line 17, in <module>\n",
      "    dict_info_movie['Title'] = soup.select('h1[class=\"scoreboard__title\"]')[0].text\n",
      "IndexError: list index out of range\n"
     ]
    },
    {
     "name": "stdout",
     "output_type": "stream",
     "text": [
      "https://www.rottentomatoes.com/m/10008992-meeting_resistance\n"
     ]
    },
    {
     "name": "stderr",
     "output_type": "stream",
     "text": [
      "Traceback (most recent call last):\n",
      "  File \"C:\\Users\\Nguyen Quang Tu\\AppData\\Local\\Temp\\ipykernel_19676\\3074276906.py\", line 17, in <module>\n",
      "    dict_info_movie['Title'] = soup.select('h1[class=\"scoreboard__title\"]')[0].text\n",
      "IndexError: list index out of range\n"
     ]
    },
    {
     "name": "stdout",
     "output_type": "stream",
     "text": [
      "https://www.rottentomatoes.com/m/through_the_fire_1988\n"
     ]
    },
    {
     "name": "stderr",
     "output_type": "stream",
     "text": [
      "Traceback (most recent call last):\n",
      "  File \"C:\\Users\\Nguyen Quang Tu\\AppData\\Local\\Temp\\ipykernel_19676\\3074276906.py\", line 17, in <module>\n",
      "    dict_info_movie['Title'] = soup.select('h1[class=\"scoreboard__title\"]')[0].text\n",
      "IndexError: list index out of range\n"
     ]
    },
    {
     "name": "stdout",
     "output_type": "stream",
     "text": [
      "https://www.rottentomatoes.com/m/real_jurassic_park\n"
     ]
    },
    {
     "name": "stderr",
     "output_type": "stream",
     "text": [
      "Traceback (most recent call last):\n",
      "  File \"C:\\Users\\Nguyen Quang Tu\\AppData\\Local\\Temp\\ipykernel_19676\\3074276906.py\", line 17, in <module>\n",
      "    dict_info_movie['Title'] = soup.select('h1[class=\"scoreboard__title\"]')[0].text\n",
      "IndexError: list index out of range\n"
     ]
    },
    {
     "name": "stdout",
     "output_type": "stream",
     "text": [
      "https://www.rottentomatoes.com/m/dark_universe_space_show\n"
     ]
    },
    {
     "name": "stderr",
     "output_type": "stream",
     "text": [
      "Traceback (most recent call last):\n",
      "  File \"C:\\Users\\Nguyen Quang Tu\\AppData\\Local\\Temp\\ipykernel_19676\\3074276906.py\", line 17, in <module>\n",
      "    dict_info_movie['Title'] = soup.select('h1[class=\"scoreboard__title\"]')[0].text\n",
      "IndexError: list index out of range\n"
     ]
    },
    {
     "name": "stdout",
     "output_type": "stream",
     "text": [
      "https://www.rottentomatoes.com/m/lost_treasure_of_the_maya\n"
     ]
    },
    {
     "name": "stderr",
     "output_type": "stream",
     "text": [
      "Traceback (most recent call last):\n",
      "  File \"C:\\Users\\Nguyen Quang Tu\\AppData\\Local\\Temp\\ipykernel_19676\\3074276906.py\", line 9, in <module>\n",
      "    element = WebDriverWait(driver, 30).until(EC.presence_of_element_located((By.CSS_SELECTOR, 'main[id=\"main_container\"]')))\n",
      "  File \"c:\\Users\\Nguyen Quang Tu\\AppData\\Local\\Programs\\Python\\Python39\\lib\\site-packages\\selenium\\webdriver\\support\\wait.py\", line 95, in until\n",
      "    raise TimeoutException(message, screen, stacktrace)\n",
      "selenium.common.exceptions.TimeoutException: Message: \n",
      "Stacktrace:\n",
      "Backtrace:\n",
      "\t(No symbol) [0x0096DCE3]\n",
      "\t(No symbol) [0x009039D1]\n",
      "\t(No symbol) [0x00814DA8]\n",
      "\t(No symbol) [0x0084019F]\n",
      "\t(No symbol) [0x008403AB]\n",
      "\t(No symbol) [0x0086EE62]\n",
      "\t(No symbol) [0x0085AF14]\n",
      "\t(No symbol) [0x0086D57C]\n",
      "\t(No symbol) [0x0085ACC6]\n",
      "\t(No symbol) [0x00836F68]\n",
      "\t(No symbol) [0x008380CD]\n",
      "\tGetHandleVerifier [0x00BE3832+2506274]\n",
      "\tGetHandleVerifier [0x00C19794+2727300]\n",
      "\tGetHandleVerifier [0x00C1E36C+2746716]\n",
      "\tGetHandleVerifier [0x00A16690+617600]\n",
      "\t(No symbol) [0x0090C712]\n",
      "\t(No symbol) [0x00911FF8]\n",
      "\t(No symbol) [0x009120DB]\n",
      "\t(No symbol) [0x0091C63B]\n",
      "\tBaseThreadInitThunk [0x7685FEF9+25]\n",
      "\tRtlGetAppContainerNamedObjectPath [0x77D77BBE+286]\n",
      "\tRtlGetAppContainerNamedObjectPath [0x77D77B8E+238]\n",
      "\n"
     ]
    },
    {
     "name": "stdout",
     "output_type": "stream",
     "text": [
      "https://www.rottentomatoes.com/m/the_collector\n"
     ]
    },
    {
     "name": "stderr",
     "output_type": "stream",
     "text": [
      "Traceback (most recent call last):\n",
      "  File \"C:\\Users\\Nguyen Quang Tu\\AppData\\Local\\Temp\\ipykernel_19676\\3074276906.py\", line 9, in <module>\n",
      "    element = WebDriverWait(driver, 30).until(EC.presence_of_element_located((By.CSS_SELECTOR, 'main[id=\"main_container\"]')))\n",
      "  File \"c:\\Users\\Nguyen Quang Tu\\AppData\\Local\\Programs\\Python\\Python39\\lib\\site-packages\\selenium\\webdriver\\support\\wait.py\", line 95, in until\n",
      "    raise TimeoutException(message, screen, stacktrace)\n",
      "selenium.common.exceptions.TimeoutException: Message: \n",
      "Stacktrace:\n",
      "Backtrace:\n",
      "\t(No symbol) [0x0096DCE3]\n",
      "\t(No symbol) [0x009039D1]\n",
      "\t(No symbol) [0x00814DA8]\n",
      "\t(No symbol) [0x0084019F]\n",
      "\t(No symbol) [0x008403AB]\n",
      "\t(No symbol) [0x0086EE62]\n",
      "\t(No symbol) [0x0085AF14]\n",
      "\t(No symbol) [0x0086D57C]\n",
      "\t(No symbol) [0x0085ACC6]\n",
      "\t(No symbol) [0x00836F68]\n",
      "\t(No symbol) [0x008380CD]\n",
      "\tGetHandleVerifier [0x00BE3832+2506274]\n",
      "\tGetHandleVerifier [0x00C19794+2727300]\n",
      "\tGetHandleVerifier [0x00C1E36C+2746716]\n",
      "\tGetHandleVerifier [0x00A16690+617600]\n",
      "\t(No symbol) [0x0090C712]\n",
      "\t(No symbol) [0x00911FF8]\n",
      "\t(No symbol) [0x009120DB]\n",
      "\t(No symbol) [0x0091C63B]\n",
      "\tBaseThreadInitThunk [0x7685FEF9+25]\n",
      "\tRtlGetAppContainerNamedObjectPath [0x77D77BBE+286]\n",
      "\tRtlGetAppContainerNamedObjectPath [0x77D77B8E+238]\n",
      "\n"
     ]
    },
    {
     "name": "stdout",
     "output_type": "stream",
     "text": [
      "https://www.rottentomatoes.com/m/heretiks\n"
     ]
    },
    {
     "name": "stderr",
     "output_type": "stream",
     "text": [
      "Traceback (most recent call last):\n",
      "  File \"C:\\Users\\Nguyen Quang Tu\\AppData\\Local\\Temp\\ipykernel_19676\\3074276906.py\", line 17, in <module>\n",
      "    dict_info_movie['Title'] = soup.select('h1[class=\"scoreboard__title\"]')[0].text\n",
      "IndexError: list index out of range\n"
     ]
    },
    {
     "name": "stdout",
     "output_type": "stream",
     "text": [
      "https://www.rottentomatoes.com/m/green_card\n"
     ]
    },
    {
     "name": "stderr",
     "output_type": "stream",
     "text": [
      "Traceback (most recent call last):\n",
      "  File \"C:\\Users\\Nguyen Quang Tu\\AppData\\Local\\Temp\\ipykernel_19676\\3074276906.py\", line 17, in <module>\n",
      "    dict_info_movie['Title'] = soup.select('h1[class=\"scoreboard__title\"]')[0].text\n",
      "IndexError: list index out of range\n"
     ]
    },
    {
     "name": "stdout",
     "output_type": "stream",
     "text": [
      "https://www.rottentomatoes.com/m/laurel_hardy\n"
     ]
    },
    {
     "name": "stderr",
     "output_type": "stream",
     "text": [
      "Traceback (most recent call last):\n",
      "  File \"C:\\Users\\Nguyen Quang Tu\\AppData\\Local\\Temp\\ipykernel_19676\\3074276906.py\", line 17, in <module>\n",
      "    dict_info_movie['Title'] = soup.select('h1[class=\"scoreboard__title\"]')[0].text\n",
      "IndexError: list index out of range\n"
     ]
    },
    {
     "name": "stdout",
     "output_type": "stream",
     "text": [
      "https://www.rottentomatoes.com/m/for_the_good_of_others_2010\n"
     ]
    },
    {
     "name": "stderr",
     "output_type": "stream",
     "text": [
      "Traceback (most recent call last):\n",
      "  File \"C:\\Users\\Nguyen Quang Tu\\AppData\\Local\\Temp\\ipykernel_19676\\3074276906.py\", line 17, in <module>\n",
      "    dict_info_movie['Title'] = soup.select('h1[class=\"scoreboard__title\"]')[0].text\n",
      "IndexError: list index out of range\n"
     ]
    },
    {
     "name": "stdout",
     "output_type": "stream",
     "text": [
      "https://www.rottentomatoes.com/m/771315332\n"
     ]
    },
    {
     "name": "stderr",
     "output_type": "stream",
     "text": [
      "Traceback (most recent call last):\n",
      "  File \"C:\\Users\\Nguyen Quang Tu\\AppData\\Local\\Temp\\ipykernel_19676\\3074276906.py\", line 17, in <module>\n",
      "    dict_info_movie['Title'] = soup.select('h1[class=\"scoreboard__title\"]')[0].text\n",
      "IndexError: list index out of range\n"
     ]
    },
    {
     "name": "stdout",
     "output_type": "stream",
     "text": [
      "https://www.rottentomatoes.com/m/best_of_everything\n"
     ]
    },
    {
     "name": "stderr",
     "output_type": "stream",
     "text": [
      "Traceback (most recent call last):\n",
      "  File \"C:\\Users\\Nguyen Quang Tu\\AppData\\Local\\Temp\\ipykernel_19676\\3074276906.py\", line 17, in <module>\n",
      "    dict_info_movie['Title'] = soup.select('h1[class=\"scoreboard__title\"]')[0].text\n",
      "IndexError: list index out of range\n"
     ]
    },
    {
     "name": "stdout",
     "output_type": "stream",
     "text": [
      "https://www.rottentomatoes.com/m/luna-e-laltra\n"
     ]
    },
    {
     "name": "stderr",
     "output_type": "stream",
     "text": [
      "Traceback (most recent call last):\n",
      "  File \"C:\\Users\\Nguyen Quang Tu\\AppData\\Local\\Temp\\ipykernel_19676\\3074276906.py\", line 17, in <module>\n",
      "    dict_info_movie['Title'] = soup.select('h1[class=\"scoreboard__title\"]')[0].text\n",
      "IndexError: list index out of range\n"
     ]
    },
    {
     "name": "stdout",
     "output_type": "stream",
     "text": [
      "https://www.rottentomatoes.com/m/neighbours\n"
     ]
    },
    {
     "name": "stderr",
     "output_type": "stream",
     "text": [
      "Traceback (most recent call last):\n",
      "  File \"C:\\Users\\Nguyen Quang Tu\\AppData\\Local\\Temp\\ipykernel_19676\\3074276906.py\", line 17, in <module>\n",
      "    dict_info_movie['Title'] = soup.select('h1[class=\"scoreboard__title\"]')[0].text\n",
      "IndexError: list index out of range\n"
     ]
    },
    {
     "name": "stdout",
     "output_type": "stream",
     "text": [
      "https://www.rottentomatoes.com/m/we_the_people_20\n"
     ]
    },
    {
     "name": "stderr",
     "output_type": "stream",
     "text": [
      "Traceback (most recent call last):\n",
      "  File \"C:\\Users\\Nguyen Quang Tu\\AppData\\Local\\Temp\\ipykernel_19676\\3074276906.py\", line 17, in <module>\n",
      "    dict_info_movie['Title'] = soup.select('h1[class=\"scoreboard__title\"]')[0].text\n",
      "IndexError: list index out of range\n"
     ]
    },
    {
     "name": "stdout",
     "output_type": "stream",
     "text": [
      "https://www.rottentomatoes.com/m/journey_to_the_edge_of_the_universe\n"
     ]
    },
    {
     "name": "stderr",
     "output_type": "stream",
     "text": [
      "Traceback (most recent call last):\n",
      "  File \"C:\\Users\\Nguyen Quang Tu\\AppData\\Local\\Temp\\ipykernel_19676\\3074276906.py\", line 17, in <module>\n",
      "    dict_info_movie['Title'] = soup.select('h1[class=\"scoreboard__title\"]')[0].text\n",
      "IndexError: list index out of range\n"
     ]
    },
    {
     "name": "stdout",
     "output_type": "stream",
     "text": [
      "https://www.rottentomatoes.com/m/michelangelo_love_and_death\n"
     ]
    },
    {
     "name": "stderr",
     "output_type": "stream",
     "text": [
      "Traceback (most recent call last):\n",
      "  File \"C:\\Users\\Nguyen Quang Tu\\AppData\\Local\\Temp\\ipykernel_19676\\3074276906.py\", line 17, in <module>\n",
      "    dict_info_movie['Title'] = soup.select('h1[class=\"scoreboard__title\"]')[0].text\n",
      "IndexError: list index out of range\n"
     ]
    },
    {
     "name": "stdout",
     "output_type": "stream",
     "text": [
      "https://www.rottentomatoes.com/m/my_lesbian_roommate_kissed_me\n"
     ]
    },
    {
     "name": "stderr",
     "output_type": "stream",
     "text": [
      "Traceback (most recent call last):\n",
      "  File \"C:\\Users\\Nguyen Quang Tu\\AppData\\Local\\Temp\\ipykernel_19676\\3074276906.py\", line 17, in <module>\n",
      "    dict_info_movie['Title'] = soup.select('h1[class=\"scoreboard__title\"]')[0].text\n",
      "IndexError: list index out of range\n"
     ]
    },
    {
     "name": "stdout",
     "output_type": "stream",
     "text": [
      "https://www.rottentomatoes.com/m/girl_king\n"
     ]
    },
    {
     "name": "stderr",
     "output_type": "stream",
     "text": [
      "Traceback (most recent call last):\n",
      "  File \"C:\\Users\\Nguyen Quang Tu\\AppData\\Local\\Temp\\ipykernel_19676\\3074276906.py\", line 17, in <module>\n",
      "    dict_info_movie['Title'] = soup.select('h1[class=\"scoreboard__title\"]')[0].text\n",
      "IndexError: list index out of range\n"
     ]
    },
    {
     "name": "stdout",
     "output_type": "stream",
     "text": [
      "https://www.rottentomatoes.com/m/ilegales_2013\n"
     ]
    },
    {
     "name": "stderr",
     "output_type": "stream",
     "text": [
      "Traceback (most recent call last):\n",
      "  File \"C:\\Users\\Nguyen Quang Tu\\AppData\\Local\\Temp\\ipykernel_19676\\3074276906.py\", line 17, in <module>\n",
      "    dict_info_movie['Title'] = soup.select('h1[class=\"scoreboard__title\"]')[0].text\n",
      "IndexError: list index out of range\n"
     ]
    },
    {
     "name": "stdout",
     "output_type": "stream",
     "text": [
      "https://www.rottentomatoes.com/m/the_metropolitan_opera_cavalleria_rusticanapagliacci\n"
     ]
    },
    {
     "name": "stderr",
     "output_type": "stream",
     "text": [
      "Traceback (most recent call last):\n",
      "  File \"C:\\Users\\Nguyen Quang Tu\\AppData\\Local\\Temp\\ipykernel_19676\\3074276906.py\", line 9, in <module>\n",
      "    element = WebDriverWait(driver, 30).until(EC.presence_of_element_located((By.CSS_SELECTOR, 'main[id=\"main_container\"]')))\n",
      "  File \"c:\\Users\\Nguyen Quang Tu\\AppData\\Local\\Programs\\Python\\Python39\\lib\\site-packages\\selenium\\webdriver\\support\\wait.py\", line 95, in until\n",
      "    raise TimeoutException(message, screen, stacktrace)\n",
      "selenium.common.exceptions.TimeoutException: Message: \n",
      "Stacktrace:\n",
      "Backtrace:\n",
      "\t(No symbol) [0x0096DCE3]\n",
      "\t(No symbol) [0x009039D1]\n",
      "\t(No symbol) [0x00814DA8]\n",
      "\t(No symbol) [0x0084019F]\n",
      "\t(No symbol) [0x008403AB]\n",
      "\t(No symbol) [0x0086EE62]\n",
      "\t(No symbol) [0x0085AF14]\n",
      "\t(No symbol) [0x0086D57C]\n",
      "\t(No symbol) [0x0085ACC6]\n",
      "\t(No symbol) [0x00836F68]\n",
      "\t(No symbol) [0x008380CD]\n",
      "\tGetHandleVerifier [0x00BE3832+2506274]\n",
      "\tGetHandleVerifier [0x00C19794+2727300]\n",
      "\tGetHandleVerifier [0x00C1E36C+2746716]\n",
      "\tGetHandleVerifier [0x00A16690+617600]\n",
      "\t(No symbol) [0x0090C712]\n",
      "\t(No symbol) [0x00911FF8]\n",
      "\t(No symbol) [0x009120DB]\n",
      "\t(No symbol) [0x0091C63B]\n",
      "\tBaseThreadInitThunk [0x7685FEF9+25]\n",
      "\tRtlGetAppContainerNamedObjectPath [0x77D77BBE+286]\n",
      "\tRtlGetAppContainerNamedObjectPath [0x77D77B8E+238]\n",
      "\n"
     ]
    },
    {
     "name": "stdout",
     "output_type": "stream",
     "text": [
      "https://www.rottentomatoes.com/m/heavy_metal_2000\n"
     ]
    },
    {
     "name": "stderr",
     "output_type": "stream",
     "text": [
      "Traceback (most recent call last):\n",
      "  File \"C:\\Users\\Nguyen Quang Tu\\AppData\\Local\\Temp\\ipykernel_19676\\3074276906.py\", line 17, in <module>\n",
      "    dict_info_movie['Title'] = soup.select('h1[class=\"scoreboard__title\"]')[0].text\n",
      "IndexError: list index out of range\n"
     ]
    },
    {
     "name": "stdout",
     "output_type": "stream",
     "text": [
      "https://www.rottentomatoes.com/m/midwest_ballet_theatre_peter_pan\n"
     ]
    },
    {
     "name": "stderr",
     "output_type": "stream",
     "text": [
      "Traceback (most recent call last):\n",
      "  File \"C:\\Users\\Nguyen Quang Tu\\AppData\\Local\\Temp\\ipykernel_19676\\3074276906.py\", line 17, in <module>\n",
      "    dict_info_movie['Title'] = soup.select('h1[class=\"scoreboard__title\"]')[0].text\n",
      "IndexError: list index out of range\n"
     ]
    },
    {
     "name": "stdout",
     "output_type": "stream",
     "text": [
      "https://www.rottentomatoes.com/m/jacques-offenbach-les-contes-dhoffmann\n"
     ]
    },
    {
     "name": "stderr",
     "output_type": "stream",
     "text": [
      "Traceback (most recent call last):\n",
      "  File \"C:\\Users\\Nguyen Quang Tu\\AppData\\Local\\Temp\\ipykernel_19676\\3074276906.py\", line 17, in <module>\n",
      "    dict_info_movie['Title'] = soup.select('h1[class=\"scoreboard__title\"]')[0].text\n",
      "IndexError: list index out of range\n"
     ]
    },
    {
     "name": "stdout",
     "output_type": "stream",
     "text": [
      "https://www.rottentomatoes.com/m/scarface_special_event\n"
     ]
    },
    {
     "name": "stderr",
     "output_type": "stream",
     "text": [
      "Traceback (most recent call last):\n",
      "  File \"C:\\Users\\Nguyen Quang Tu\\AppData\\Local\\Temp\\ipykernel_19676\\3074276906.py\", line 17, in <module>\n",
      "    dict_info_movie['Title'] = soup.select('h1[class=\"scoreboard__title\"]')[0].text\n",
      "IndexError: list index out of range\n"
     ]
    },
    {
     "name": "stdout",
     "output_type": "stream",
     "text": [
      "https://www.rottentomatoes.com/m/the_christmas_setup\n"
     ]
    },
    {
     "name": "stderr",
     "output_type": "stream",
     "text": [
      "Traceback (most recent call last):\n",
      "  File \"C:\\Users\\Nguyen Quang Tu\\AppData\\Local\\Temp\\ipykernel_19676\\3074276906.py\", line 9, in <module>\n",
      "    element = WebDriverWait(driver, 30).until(EC.presence_of_element_located((By.CSS_SELECTOR, 'main[id=\"main_container\"]')))\n",
      "  File \"c:\\Users\\Nguyen Quang Tu\\AppData\\Local\\Programs\\Python\\Python39\\lib\\site-packages\\selenium\\webdriver\\support\\wait.py\", line 95, in until\n",
      "    raise TimeoutException(message, screen, stacktrace)\n",
      "selenium.common.exceptions.TimeoutException: Message: \n",
      "Stacktrace:\n",
      "Backtrace:\n",
      "\t(No symbol) [0x0096DCE3]\n",
      "\t(No symbol) [0x009039D1]\n",
      "\t(No symbol) [0x00814DA8]\n",
      "\t(No symbol) [0x0084019F]\n",
      "\t(No symbol) [0x008403AB]\n",
      "\t(No symbol) [0x0086EE62]\n",
      "\t(No symbol) [0x0085AF14]\n",
      "\t(No symbol) [0x0086D57C]\n",
      "\t(No symbol) [0x0085ACC6]\n",
      "\t(No symbol) [0x00836F68]\n",
      "\t(No symbol) [0x008380CD]\n",
      "\tGetHandleVerifier [0x00BE3832+2506274]\n",
      "\tGetHandleVerifier [0x00C19794+2727300]\n",
      "\tGetHandleVerifier [0x00C1E36C+2746716]\n",
      "\tGetHandleVerifier [0x00A16690+617600]\n",
      "\t(No symbol) [0x0090C712]\n",
      "\t(No symbol) [0x00911FF8]\n",
      "\t(No symbol) [0x009120DB]\n",
      "\t(No symbol) [0x0091C63B]\n",
      "\tBaseThreadInitThunk [0x7685FEF9+25]\n",
      "\tRtlGetAppContainerNamedObjectPath [0x77D77BBE+286]\n",
      "\tRtlGetAppContainerNamedObjectPath [0x77D77B8E+238]\n",
      "\n"
     ]
    },
    {
     "name": "stdout",
     "output_type": "stream",
     "text": [
      "https://www.rottentomatoes.com/m/king_arthur_and_the_knights_of_the_round_table\n"
     ]
    },
    {
     "name": "stderr",
     "output_type": "stream",
     "text": [
      "Traceback (most recent call last):\n",
      "  File \"C:\\Users\\Nguyen Quang Tu\\AppData\\Local\\Temp\\ipykernel_19676\\3074276906.py\", line 9, in <module>\n",
      "    element = WebDriverWait(driver, 30).until(EC.presence_of_element_located((By.CSS_SELECTOR, 'main[id=\"main_container\"]')))\n",
      "  File \"c:\\Users\\Nguyen Quang Tu\\AppData\\Local\\Programs\\Python\\Python39\\lib\\site-packages\\selenium\\webdriver\\support\\wait.py\", line 95, in until\n",
      "    raise TimeoutException(message, screen, stacktrace)\n",
      "selenium.common.exceptions.TimeoutException: Message: \n",
      "Stacktrace:\n",
      "Backtrace:\n",
      "\t(No symbol) [0x0096DCE3]\n",
      "\t(No symbol) [0x009039D1]\n",
      "\t(No symbol) [0x00814DA8]\n",
      "\t(No symbol) [0x0084019F]\n",
      "\t(No symbol) [0x008403AB]\n",
      "\t(No symbol) [0x0086EE62]\n",
      "\t(No symbol) [0x0085AF14]\n",
      "\t(No symbol) [0x0086D57C]\n",
      "\t(No symbol) [0x0085ACC6]\n",
      "\t(No symbol) [0x00836F68]\n",
      "\t(No symbol) [0x008380CD]\n",
      "\tGetHandleVerifier [0x00BE3832+2506274]\n",
      "\tGetHandleVerifier [0x00C19794+2727300]\n",
      "\tGetHandleVerifier [0x00C1E36C+2746716]\n",
      "\tGetHandleVerifier [0x00A16690+617600]\n",
      "\t(No symbol) [0x0090C712]\n",
      "\t(No symbol) [0x00911FF8]\n",
      "\t(No symbol) [0x009120DB]\n",
      "\t(No symbol) [0x0091C63B]\n",
      "\tBaseThreadInitThunk [0x7685FEF9+25]\n",
      "\tRtlGetAppContainerNamedObjectPath [0x77D77BBE+286]\n",
      "\tRtlGetAppContainerNamedObjectPath [0x77D77B8E+238]\n",
      "\n"
     ]
    },
    {
     "name": "stdout",
     "output_type": "stream",
     "text": [
      "https://www.rottentomatoes.com/m/primeval\n"
     ]
    },
    {
     "name": "stderr",
     "output_type": "stream",
     "text": [
      "Traceback (most recent call last):\n",
      "  File \"C:\\Users\\Nguyen Quang Tu\\AppData\\Local\\Temp\\ipykernel_19676\\3074276906.py\", line 17, in <module>\n",
      "    dict_info_movie['Title'] = soup.select('h1[class=\"scoreboard__title\"]')[0].text\n",
      "IndexError: list index out of range\n"
     ]
    },
    {
     "name": "stdout",
     "output_type": "stream",
     "text": [
      "https://www.rottentomatoes.com/m/king_of_the_wind-1993\n"
     ]
    },
    {
     "name": "stderr",
     "output_type": "stream",
     "text": [
      "Traceback (most recent call last):\n",
      "  File \"C:\\Users\\Nguyen Quang Tu\\AppData\\Local\\Temp\\ipykernel_19676\\3074276906.py\", line 17, in <module>\n",
      "    dict_info_movie['Title'] = soup.select('h1[class=\"scoreboard__title\"]')[0].text\n",
      "IndexError: list index out of range\n"
     ]
    },
    {
     "name": "stdout",
     "output_type": "stream",
     "text": [
      "https://www.rottentomatoes.com/m/1143027-beach_red\n"
     ]
    },
    {
     "name": "stderr",
     "output_type": "stream",
     "text": [
      "Traceback (most recent call last):\n",
      "  File \"C:\\Users\\Nguyen Quang Tu\\AppData\\Local\\Temp\\ipykernel_19676\\3074276906.py\", line 17, in <module>\n",
      "    dict_info_movie['Title'] = soup.select('h1[class=\"scoreboard__title\"]')[0].text\n",
      "IndexError: list index out of range\n"
     ]
    },
    {
     "name": "stdout",
     "output_type": "stream",
     "text": [
      "https://www.rottentomatoes.com/m/bolshoi_ballet_a_contemporary_evening\n"
     ]
    },
    {
     "name": "stderr",
     "output_type": "stream",
     "text": [
      "Traceback (most recent call last):\n",
      "  File \"C:\\Users\\Nguyen Quang Tu\\AppData\\Local\\Temp\\ipykernel_19676\\3074276906.py\", line 17, in <module>\n",
      "    dict_info_movie['Title'] = soup.select('h1[class=\"scoreboard__title\"]')[0].text\n",
      "IndexError: list index out of range\n"
     ]
    },
    {
     "name": "stdout",
     "output_type": "stream",
     "text": [
      "https://www.rottentomatoes.com/m/wildest_weather_in_the_solar_system\n"
     ]
    },
    {
     "name": "stderr",
     "output_type": "stream",
     "text": [
      "Traceback (most recent call last):\n",
      "  File \"C:\\Users\\Nguyen Quang Tu\\AppData\\Local\\Temp\\ipykernel_19676\\3074276906.py\", line 9, in <module>\n",
      "    element = WebDriverWait(driver, 30).until(EC.presence_of_element_located((By.CSS_SELECTOR, 'main[id=\"main_container\"]')))\n",
      "  File \"c:\\Users\\Nguyen Quang Tu\\AppData\\Local\\Programs\\Python\\Python39\\lib\\site-packages\\selenium\\webdriver\\support\\wait.py\", line 95, in until\n",
      "    raise TimeoutException(message, screen, stacktrace)\n",
      "selenium.common.exceptions.TimeoutException: Message: \n",
      "Stacktrace:\n",
      "Backtrace:\n",
      "\t(No symbol) [0x0096DCE3]\n",
      "\t(No symbol) [0x009039D1]\n",
      "\t(No symbol) [0x00814DA8]\n",
      "\t(No symbol) [0x0084019F]\n",
      "\t(No symbol) [0x008403AB]\n",
      "\t(No symbol) [0x0086EE62]\n",
      "\t(No symbol) [0x0085AF14]\n",
      "\t(No symbol) [0x0086D57C]\n",
      "\t(No symbol) [0x0085ACC6]\n",
      "\t(No symbol) [0x00836F68]\n",
      "\t(No symbol) [0x008380CD]\n",
      "\tGetHandleVerifier [0x00BE3832+2506274]\n",
      "\tGetHandleVerifier [0x00C19794+2727300]\n",
      "\tGetHandleVerifier [0x00C1E36C+2746716]\n",
      "\tGetHandleVerifier [0x00A16690+617600]\n",
      "\t(No symbol) [0x0090C712]\n",
      "\t(No symbol) [0x00911FF8]\n",
      "\t(No symbol) [0x009120DB]\n",
      "\t(No symbol) [0x0091C63B]\n",
      "\tBaseThreadInitThunk [0x7685FEF9+25]\n",
      "\tRtlGetAppContainerNamedObjectPath [0x77D77BBE+286]\n",
      "\tRtlGetAppContainerNamedObjectPath [0x77D77B8E+238]\n",
      "\n"
     ]
    },
    {
     "name": "stdout",
     "output_type": "stream",
     "text": [
      "https://www.rottentomatoes.com/m/national_lampoons_favorite_deadly_sins\n"
     ]
    },
    {
     "name": "stderr",
     "output_type": "stream",
     "text": [
      "Traceback (most recent call last):\n",
      "  File \"C:\\Users\\Nguyen Quang Tu\\AppData\\Local\\Temp\\ipykernel_19676\\3074276906.py\", line 17, in <module>\n",
      "    dict_info_movie['Title'] = soup.select('h1[class=\"scoreboard__title\"]')[0].text\n",
      "IndexError: list index out of range\n"
     ]
    },
    {
     "name": "stdout",
     "output_type": "stream",
     "text": [
      "https://www.rottentomatoes.com/m/satans_wife\n"
     ]
    },
    {
     "name": "stderr",
     "output_type": "stream",
     "text": [
      "Traceback (most recent call last):\n",
      "  File \"C:\\Users\\Nguyen Quang Tu\\AppData\\Local\\Temp\\ipykernel_19676\\3074276906.py\", line 17, in <module>\n",
      "    dict_info_movie['Title'] = soup.select('h1[class=\"scoreboard__title\"]')[0].text\n",
      "IndexError: list index out of range\n"
     ]
    },
    {
     "name": "stdout",
     "output_type": "stream",
     "text": [
      "https://www.rottentomatoes.com/m/mountains_of_the_moon\n"
     ]
    },
    {
     "name": "stderr",
     "output_type": "stream",
     "text": [
      "Traceback (most recent call last):\n",
      "  File \"C:\\Users\\Nguyen Quang Tu\\AppData\\Local\\Temp\\ipykernel_19676\\3074276906.py\", line 9, in <module>\n",
      "    element = WebDriverWait(driver, 30).until(EC.presence_of_element_located((By.CSS_SELECTOR, 'main[id=\"main_container\"]')))\n",
      "  File \"c:\\Users\\Nguyen Quang Tu\\AppData\\Local\\Programs\\Python\\Python39\\lib\\site-packages\\selenium\\webdriver\\support\\wait.py\", line 95, in until\n",
      "    raise TimeoutException(message, screen, stacktrace)\n",
      "selenium.common.exceptions.TimeoutException: Message: \n",
      "Stacktrace:\n",
      "Backtrace:\n",
      "\t(No symbol) [0x0096DCE3]\n",
      "\t(No symbol) [0x009039D1]\n",
      "\t(No symbol) [0x00814DA8]\n",
      "\t(No symbol) [0x0084019F]\n",
      "\t(No symbol) [0x008403AB]\n",
      "\t(No symbol) [0x0086EE62]\n",
      "\t(No symbol) [0x0085AF14]\n",
      "\t(No symbol) [0x0086D57C]\n",
      "\t(No symbol) [0x0085ACC6]\n",
      "\t(No symbol) [0x00836F68]\n",
      "\t(No symbol) [0x008380CD]\n",
      "\tGetHandleVerifier [0x00BE3832+2506274]\n",
      "\tGetHandleVerifier [0x00C19794+2727300]\n",
      "\tGetHandleVerifier [0x00C1E36C+2746716]\n",
      "\tGetHandleVerifier [0x00A16690+617600]\n",
      "\t(No symbol) [0x0090C712]\n",
      "\t(No symbol) [0x00911FF8]\n",
      "\t(No symbol) [0x009120DB]\n",
      "\t(No symbol) [0x0091C63B]\n",
      "\tBaseThreadInitThunk [0x7685FEF9+25]\n",
      "\tRtlGetAppContainerNamedObjectPath [0x77D77BBE+286]\n",
      "\tRtlGetAppContainerNamedObjectPath [0x77D77B8E+238]\n",
      "\n"
     ]
    },
    {
     "name": "stdout",
     "output_type": "stream",
     "text": [
      "https://www.rottentomatoes.com/m/next_three_days\n"
     ]
    },
    {
     "name": "stderr",
     "output_type": "stream",
     "text": [
      "Traceback (most recent call last):\n",
      "  File \"C:\\Users\\Nguyen Quang Tu\\AppData\\Local\\Temp\\ipykernel_19676\\3074276906.py\", line 17, in <module>\n",
      "    dict_info_movie['Title'] = soup.select('h1[class=\"scoreboard__title\"]')[0].text\n",
      "IndexError: list index out of range\n"
     ]
    },
    {
     "name": "stdout",
     "output_type": "stream",
     "text": [
      "https://www.rottentomatoes.com/m/banff_mountain_film_festival_2014\n"
     ]
    },
    {
     "name": "stderr",
     "output_type": "stream",
     "text": [
      "Traceback (most recent call last):\n",
      "  File \"C:\\Users\\Nguyen Quang Tu\\AppData\\Local\\Temp\\ipykernel_19676\\3074276906.py\", line 17, in <module>\n",
      "    dict_info_movie['Title'] = soup.select('h1[class=\"scoreboard__title\"]')[0].text\n",
      "IndexError: list index out of range\n"
     ]
    },
    {
     "name": "stdout",
     "output_type": "stream",
     "text": [
      "https://www.rottentomatoes.com/m/achtung_fertig_wk\n"
     ]
    },
    {
     "name": "stderr",
     "output_type": "stream",
     "text": [
      "Traceback (most recent call last):\n",
      "  File \"C:\\Users\\Nguyen Quang Tu\\AppData\\Local\\Temp\\ipykernel_19676\\3074276906.py\", line 17, in <module>\n",
      "    dict_info_movie['Title'] = soup.select('h1[class=\"scoreboard__title\"]')[0].text\n",
      "IndexError: list index out of range\n"
     ]
    },
    {
     "name": "stdout",
     "output_type": "stream",
     "text": [
      "https://www.rottentomatoes.com/m/kabul_city_in_the_wind\n"
     ]
    },
    {
     "name": "stderr",
     "output_type": "stream",
     "text": [
      "Traceback (most recent call last):\n",
      "  File \"C:\\Users\\Nguyen Quang Tu\\AppData\\Local\\Temp\\ipykernel_19676\\3074276906.py\", line 9, in <module>\n",
      "    element = WebDriverWait(driver, 30).until(EC.presence_of_element_located((By.CSS_SELECTOR, 'main[id=\"main_container\"]')))\n",
      "  File \"c:\\Users\\Nguyen Quang Tu\\AppData\\Local\\Programs\\Python\\Python39\\lib\\site-packages\\selenium\\webdriver\\support\\wait.py\", line 95, in until\n",
      "    raise TimeoutException(message, screen, stacktrace)\n",
      "selenium.common.exceptions.TimeoutException: Message: \n",
      "Stacktrace:\n",
      "Backtrace:\n",
      "\t(No symbol) [0x0096DCE3]\n",
      "\t(No symbol) [0x009039D1]\n",
      "\t(No symbol) [0x00814DA8]\n",
      "\t(No symbol) [0x0084019F]\n",
      "\t(No symbol) [0x008403AB]\n",
      "\t(No symbol) [0x0086EE62]\n",
      "\t(No symbol) [0x0085AF14]\n",
      "\t(No symbol) [0x0086D57C]\n",
      "\t(No symbol) [0x0085ACC6]\n",
      "\t(No symbol) [0x00836F68]\n",
      "\t(No symbol) [0x008380CD]\n",
      "\tGetHandleVerifier [0x00BE3832+2506274]\n",
      "\tGetHandleVerifier [0x00C19794+2727300]\n",
      "\tGetHandleVerifier [0x00C1E36C+2746716]\n",
      "\tGetHandleVerifier [0x00A16690+617600]\n",
      "\t(No symbol) [0x0090C712]\n",
      "\t(No symbol) [0x00911FF8]\n",
      "\t(No symbol) [0x009120DB]\n",
      "\t(No symbol) [0x0091C63B]\n",
      "\tBaseThreadInitThunk [0x7685FEF9+25]\n",
      "\tRtlGetAppContainerNamedObjectPath [0x77D77BBE+286]\n",
      "\tRtlGetAppContainerNamedObjectPath [0x77D77B8E+238]\n",
      "\n"
     ]
    },
    {
     "name": "stdout",
     "output_type": "stream",
     "text": [
      "https://www.rottentomatoes.com/m/tel_aviv_on_fire\n"
     ]
    },
    {
     "name": "stderr",
     "output_type": "stream",
     "text": [
      "Traceback (most recent call last):\n",
      "  File \"C:\\Users\\Nguyen Quang Tu\\AppData\\Local\\Temp\\ipykernel_19676\\3074276906.py\", line 17, in <module>\n",
      "    dict_info_movie['Title'] = soup.select('h1[class=\"scoreboard__title\"]')[0].text\n",
      "IndexError: list index out of range\n"
     ]
    },
    {
     "name": "stdout",
     "output_type": "stream",
     "text": [
      "https://www.rottentomatoes.com/m/annual_ann_arbor_film_festival\n"
     ]
    },
    {
     "name": "stderr",
     "output_type": "stream",
     "text": [
      "Traceback (most recent call last):\n",
      "  File \"C:\\Users\\Nguyen Quang Tu\\AppData\\Local\\Temp\\ipykernel_19676\\3074276906.py\", line 17, in <module>\n",
      "    dict_info_movie['Title'] = soup.select('h1[class=\"scoreboard__title\"]')[0].text\n",
      "IndexError: list index out of range\n"
     ]
    },
    {
     "name": "stdout",
     "output_type": "stream",
     "text": [
      "https://www.rottentomatoes.com/m/sin_muertos_no_hay_carnaval\n"
     ]
    },
    {
     "name": "stderr",
     "output_type": "stream",
     "text": [
      "Traceback (most recent call last):\n",
      "  File \"C:\\Users\\Nguyen Quang Tu\\AppData\\Local\\Temp\\ipykernel_19676\\3074276906.py\", line 17, in <module>\n",
      "    dict_info_movie['Title'] = soup.select('h1[class=\"scoreboard__title\"]')[0].text\n",
      "IndexError: list index out of range\n"
     ]
    },
    {
     "name": "stdout",
     "output_type": "stream",
     "text": [
      "https://www.rottentomatoes.com/m/the_royal_ballet_woolf_works\n"
     ]
    },
    {
     "name": "stderr",
     "output_type": "stream",
     "text": [
      "Traceback (most recent call last):\n",
      "  File \"C:\\Users\\Nguyen Quang Tu\\AppData\\Local\\Temp\\ipykernel_19676\\3074276906.py\", line 17, in <module>\n",
      "    dict_info_movie['Title'] = soup.select('h1[class=\"scoreboard__title\"]')[0].text\n",
      "IndexError: list index out of range\n"
     ]
    },
    {
     "name": "stdout",
     "output_type": "stream",
     "text": [
      "https://www.rottentomatoes.com/m/i-due-foscari\n"
     ]
    },
    {
     "name": "stderr",
     "output_type": "stream",
     "text": [
      "Traceback (most recent call last):\n",
      "  File \"C:\\Users\\Nguyen Quang Tu\\AppData\\Local\\Temp\\ipykernel_19676\\3074276906.py\", line 9, in <module>\n",
      "    element = WebDriverWait(driver, 30).until(EC.presence_of_element_located((By.CSS_SELECTOR, 'main[id=\"main_container\"]')))\n",
      "  File \"c:\\Users\\Nguyen Quang Tu\\AppData\\Local\\Programs\\Python\\Python39\\lib\\site-packages\\selenium\\webdriver\\support\\wait.py\", line 95, in until\n",
      "    raise TimeoutException(message, screen, stacktrace)\n",
      "selenium.common.exceptions.TimeoutException: Message: \n",
      "Stacktrace:\n",
      "Backtrace:\n",
      "\t(No symbol) [0x0096DCE3]\n",
      "\t(No symbol) [0x009039D1]\n",
      "\t(No symbol) [0x00814DA8]\n",
      "\t(No symbol) [0x0084019F]\n",
      "\t(No symbol) [0x008403AB]\n",
      "\t(No symbol) [0x0086EE62]\n",
      "\t(No symbol) [0x0085AF14]\n",
      "\t(No symbol) [0x0086D57C]\n",
      "\t(No symbol) [0x0085ACC6]\n",
      "\t(No symbol) [0x00836F68]\n",
      "\t(No symbol) [0x008380CD]\n",
      "\tGetHandleVerifier [0x00BE3832+2506274]\n",
      "\tGetHandleVerifier [0x00C19794+2727300]\n",
      "\tGetHandleVerifier [0x00C1E36C+2746716]\n",
      "\tGetHandleVerifier [0x00A16690+617600]\n",
      "\t(No symbol) [0x0090C712]\n",
      "\t(No symbol) [0x00911FF8]\n",
      "\t(No symbol) [0x009120DB]\n",
      "\t(No symbol) [0x0091C63B]\n",
      "\tBaseThreadInitThunk [0x7685FEF9+25]\n",
      "\tRtlGetAppContainerNamedObjectPath [0x77D77BBE+286]\n",
      "\tRtlGetAppContainerNamedObjectPath [0x77D77B8E+238]\n",
      "\n"
     ]
    },
    {
     "name": "stdout",
     "output_type": "stream",
     "text": [
      "https://www.rottentomatoes.com/m/born_to_be_wild\n"
     ]
    },
    {
     "name": "stderr",
     "output_type": "stream",
     "text": [
      "Traceback (most recent call last):\n",
      "  File \"C:\\Users\\Nguyen Quang Tu\\AppData\\Local\\Temp\\ipykernel_19676\\3074276906.py\", line 17, in <module>\n",
      "    dict_info_movie['Title'] = soup.select('h1[class=\"scoreboard__title\"]')[0].text\n",
      "IndexError: list index out of range\n"
     ]
    },
    {
     "name": "stdout",
     "output_type": "stream",
     "text": [
      "https://www.rottentomatoes.com/m/sundance_film_festival_shorts\n"
     ]
    },
    {
     "name": "stderr",
     "output_type": "stream",
     "text": [
      "Traceback (most recent call last):\n",
      "  File \"C:\\Users\\Nguyen Quang Tu\\AppData\\Local\\Temp\\ipykernel_19676\\3074276906.py\", line 9, in <module>\n",
      "    element = WebDriverWait(driver, 30).until(EC.presence_of_element_located((By.CSS_SELECTOR, 'main[id=\"main_container\"]')))\n",
      "  File \"c:\\Users\\Nguyen Quang Tu\\AppData\\Local\\Programs\\Python\\Python39\\lib\\site-packages\\selenium\\webdriver\\support\\wait.py\", line 95, in until\n",
      "    raise TimeoutException(message, screen, stacktrace)\n",
      "selenium.common.exceptions.TimeoutException: Message: \n",
      "Stacktrace:\n",
      "Backtrace:\n",
      "\t(No symbol) [0x0096DCE3]\n",
      "\t(No symbol) [0x009039D1]\n",
      "\t(No symbol) [0x00814DA8]\n",
      "\t(No symbol) [0x0084019F]\n",
      "\t(No symbol) [0x008403AB]\n",
      "\t(No symbol) [0x0086EE62]\n",
      "\t(No symbol) [0x0085AF14]\n",
      "\t(No symbol) [0x0086D57C]\n",
      "\t(No symbol) [0x0085ACC6]\n",
      "\t(No symbol) [0x00836F68]\n",
      "\t(No symbol) [0x008380CD]\n",
      "\tGetHandleVerifier [0x00BE3832+2506274]\n",
      "\tGetHandleVerifier [0x00C19794+2727300]\n",
      "\tGetHandleVerifier [0x00C1E36C+2746716]\n",
      "\tGetHandleVerifier [0x00A16690+617600]\n",
      "\t(No symbol) [0x0090C712]\n",
      "\t(No symbol) [0x00911FF8]\n",
      "\t(No symbol) [0x009120DB]\n",
      "\t(No symbol) [0x0091C63B]\n",
      "\tBaseThreadInitThunk [0x7685FEF9+25]\n",
      "\tRtlGetAppContainerNamedObjectPath [0x77D77BBE+286]\n",
      "\tRtlGetAppContainerNamedObjectPath [0x77D77B8E+238]\n",
      "\n"
     ]
    },
    {
     "name": "stdout",
     "output_type": "stream",
     "text": [
      "https://www.rottentomatoes.com/m/the_liar\n"
     ]
    },
    {
     "name": "stderr",
     "output_type": "stream",
     "text": [
      "Traceback (most recent call last):\n",
      "  File \"C:\\Users\\Nguyen Quang Tu\\AppData\\Local\\Temp\\ipykernel_19676\\3074276906.py\", line 17, in <module>\n",
      "    dict_info_movie['Title'] = soup.select('h1[class=\"scoreboard__title\"]')[0].text\n",
      "IndexError: list index out of range\n"
     ]
    },
    {
     "name": "stdout",
     "output_type": "stream",
     "text": [
      "https://www.rottentomatoes.com/m/1159\n"
     ]
    },
    {
     "name": "stderr",
     "output_type": "stream",
     "text": [
      "Traceback (most recent call last):\n",
      "  File \"C:\\Users\\Nguyen Quang Tu\\AppData\\Local\\Temp\\ipykernel_19676\\3074276906.py\", line 17, in <module>\n",
      "    dict_info_movie['Title'] = soup.select('h1[class=\"scoreboard__title\"]')[0].text\n",
      "IndexError: list index out of range\n"
     ]
    },
    {
     "name": "stdout",
     "output_type": "stream",
     "text": [
      "https://www.rottentomatoes.com/m/night_gallery\n"
     ]
    },
    {
     "name": "stderr",
     "output_type": "stream",
     "text": [
      "Traceback (most recent call last):\n",
      "  File \"C:\\Users\\Nguyen Quang Tu\\AppData\\Local\\Temp\\ipykernel_19676\\3074276906.py\", line 17, in <module>\n",
      "    dict_info_movie['Title'] = soup.select('h1[class=\"scoreboard__title\"]')[0].text\n",
      "IndexError: list index out of range\n"
     ]
    },
    {
     "name": "stdout",
     "output_type": "stream",
     "text": [
      "https://www.rottentomatoes.com/m/english_national_opera_la_traviata\n"
     ]
    },
    {
     "name": "stderr",
     "output_type": "stream",
     "text": [
      "Traceback (most recent call last):\n",
      "  File \"C:\\Users\\Nguyen Quang Tu\\AppData\\Local\\Temp\\ipykernel_19676\\3074276906.py\", line 17, in <module>\n",
      "    dict_info_movie['Title'] = soup.select('h1[class=\"scoreboard__title\"]')[0].text\n",
      "IndexError: list index out of range\n"
     ]
    },
    {
     "name": "stdout",
     "output_type": "stream",
     "text": [
      "https://www.rottentomatoes.com/m/panama\n"
     ]
    },
    {
     "name": "stderr",
     "output_type": "stream",
     "text": [
      "Traceback (most recent call last):\n",
      "  File \"C:\\Users\\Nguyen Quang Tu\\AppData\\Local\\Temp\\ipykernel_19676\\3074276906.py\", line 9, in <module>\n",
      "    element = WebDriverWait(driver, 30).until(EC.presence_of_element_located((By.CSS_SELECTOR, 'main[id=\"main_container\"]')))\n",
      "  File \"c:\\Users\\Nguyen Quang Tu\\AppData\\Local\\Programs\\Python\\Python39\\lib\\site-packages\\selenium\\webdriver\\support\\wait.py\", line 95, in until\n",
      "    raise TimeoutException(message, screen, stacktrace)\n",
      "selenium.common.exceptions.TimeoutException: Message: \n",
      "Stacktrace:\n",
      "Backtrace:\n",
      "\t(No symbol) [0x0096DCE3]\n",
      "\t(No symbol) [0x009039D1]\n",
      "\t(No symbol) [0x00814DA8]\n",
      "\t(No symbol) [0x0084019F]\n",
      "\t(No symbol) [0x008403AB]\n",
      "\t(No symbol) [0x0086EE62]\n",
      "\t(No symbol) [0x0085AF14]\n",
      "\t(No symbol) [0x0086D57C]\n",
      "\t(No symbol) [0x0085ACC6]\n",
      "\t(No symbol) [0x00836F68]\n",
      "\t(No symbol) [0x008380CD]\n",
      "\tGetHandleVerifier [0x00BE3832+2506274]\n",
      "\tGetHandleVerifier [0x00C19794+2727300]\n",
      "\tGetHandleVerifier [0x00C1E36C+2746716]\n",
      "\tGetHandleVerifier [0x00A16690+617600]\n",
      "\t(No symbol) [0x0090C712]\n",
      "\t(No symbol) [0x00911FF8]\n",
      "\t(No symbol) [0x009120DB]\n",
      "\t(No symbol) [0x0091C63B]\n",
      "\tBaseThreadInitThunk [0x7685FEF9+25]\n",
      "\tRtlGetAppContainerNamedObjectPath [0x77D77BBE+286]\n",
      "\tRtlGetAppContainerNamedObjectPath [0x77D77B8E+238]\n",
      "\n"
     ]
    },
    {
     "name": "stdout",
     "output_type": "stream",
     "text": [
      "https://www.rottentomatoes.com/m/how_do_i_love_thee\n"
     ]
    },
    {
     "name": "stderr",
     "output_type": "stream",
     "text": [
      "Traceback (most recent call last):\n",
      "  File \"C:\\Users\\Nguyen Quang Tu\\AppData\\Local\\Temp\\ipykernel_19676\\3074276906.py\", line 17, in <module>\n",
      "    dict_info_movie['Title'] = soup.select('h1[class=\"scoreboard__title\"]')[0].text\n",
      "IndexError: list index out of range\n"
     ]
    },
    {
     "name": "stdout",
     "output_type": "stream",
     "text": [
      "https://www.rottentomatoes.com/m/le_gaya_saddam\n"
     ]
    },
    {
     "name": "stderr",
     "output_type": "stream",
     "text": [
      "Traceback (most recent call last):\n",
      "  File \"C:\\Users\\Nguyen Quang Tu\\AppData\\Local\\Temp\\ipykernel_19676\\3074276906.py\", line 9, in <module>\n",
      "    element = WebDriverWait(driver, 30).until(EC.presence_of_element_located((By.CSS_SELECTOR, 'main[id=\"main_container\"]')))\n",
      "  File \"c:\\Users\\Nguyen Quang Tu\\AppData\\Local\\Programs\\Python\\Python39\\lib\\site-packages\\selenium\\webdriver\\support\\wait.py\", line 95, in until\n",
      "    raise TimeoutException(message, screen, stacktrace)\n",
      "selenium.common.exceptions.TimeoutException: Message: \n",
      "Stacktrace:\n",
      "Backtrace:\n",
      "\t(No symbol) [0x0096DCE3]\n",
      "\t(No symbol) [0x009039D1]\n",
      "\t(No symbol) [0x00814DA8]\n",
      "\t(No symbol) [0x0084019F]\n",
      "\t(No symbol) [0x008403AB]\n",
      "\t(No symbol) [0x0086EE62]\n",
      "\t(No symbol) [0x0085AF14]\n",
      "\t(No symbol) [0x0086D57C]\n",
      "\t(No symbol) [0x0085ACC6]\n",
      "\t(No symbol) [0x00836F68]\n",
      "\t(No symbol) [0x008380CD]\n",
      "\tGetHandleVerifier [0x00BE3832+2506274]\n",
      "\tGetHandleVerifier [0x00C19794+2727300]\n",
      "\tGetHandleVerifier [0x00C1E36C+2746716]\n",
      "\tGetHandleVerifier [0x00A16690+617600]\n",
      "\t(No symbol) [0x0090C712]\n",
      "\t(No symbol) [0x00911FF8]\n",
      "\t(No symbol) [0x009120DB]\n",
      "\t(No symbol) [0x0091C63B]\n",
      "\tBaseThreadInitThunk [0x7685FEF9+25]\n",
      "\tRtlGetAppContainerNamedObjectPath [0x77D77BBE+286]\n",
      "\tRtlGetAppContainerNamedObjectPath [0x77D77B8E+238]\n",
      "\n"
     ]
    },
    {
     "name": "stdout",
     "output_type": "stream",
     "text": [
      "https://www.rottentomatoes.com/m/1019777-stage_fright\n"
     ]
    },
    {
     "name": "stderr",
     "output_type": "stream",
     "text": [
      "Traceback (most recent call last):\n",
      "  File \"C:\\Users\\Nguyen Quang Tu\\AppData\\Local\\Temp\\ipykernel_19676\\3074276906.py\", line 17, in <module>\n",
      "    dict_info_movie['Title'] = soup.select('h1[class=\"scoreboard__title\"]')[0].text\n",
      "IndexError: list index out of range\n"
     ]
    },
    {
     "name": "stdout",
     "output_type": "stream",
     "text": [
      "https://www.rottentomatoes.com/m/policas_vs_milfs_quin_ganar\n"
     ]
    },
    {
     "name": "stderr",
     "output_type": "stream",
     "text": [
      "Traceback (most recent call last):\n",
      "  File \"C:\\Users\\Nguyen Quang Tu\\AppData\\Local\\Temp\\ipykernel_19676\\3074276906.py\", line 17, in <module>\n",
      "    dict_info_movie['Title'] = soup.select('h1[class=\"scoreboard__title\"]')[0].text\n",
      "IndexError: list index out of range\n"
     ]
    },
    {
     "name": "stdout",
     "output_type": "stream",
     "text": [
      "https://www.rottentomatoes.com/m/treintona_soltera_y_fantastica\n"
     ]
    },
    {
     "name": "stderr",
     "output_type": "stream",
     "text": [
      "Traceback (most recent call last):\n",
      "  File \"C:\\Users\\Nguyen Quang Tu\\AppData\\Local\\Temp\\ipykernel_19676\\3074276906.py\", line 17, in <module>\n",
      "    dict_info_movie['Title'] = soup.select('h1[class=\"scoreboard__title\"]')[0].text\n",
      "IndexError: list index out of range\n"
     ]
    },
    {
     "name": "stdout",
     "output_type": "stream",
     "text": [
      "https://www.rottentomatoes.com/m/rifftrax_live_christmas_shorts_stravaganza\n"
     ]
    },
    {
     "name": "stderr",
     "output_type": "stream",
     "text": [
      "Traceback (most recent call last):\n",
      "  File \"C:\\Users\\Nguyen Quang Tu\\AppData\\Local\\Temp\\ipykernel_19676\\3074276906.py\", line 17, in <module>\n",
      "    dict_info_movie['Title'] = soup.select('h1[class=\"scoreboard__title\"]')[0].text\n",
      "IndexError: list index out of range\n"
     ]
    },
    {
     "name": "stdout",
     "output_type": "stream",
     "text": [
      "https://www.rottentomatoes.com/m/shoot_the_sun_down\n"
     ]
    },
    {
     "name": "stderr",
     "output_type": "stream",
     "text": [
      "Traceback (most recent call last):\n",
      "  File \"C:\\Users\\Nguyen Quang Tu\\AppData\\Local\\Temp\\ipykernel_19676\\3074276906.py\", line 17, in <module>\n",
      "    dict_info_movie['Title'] = soup.select('h1[class=\"scoreboard__title\"]')[0].text\n",
      "IndexError: list index out of range\n"
     ]
    },
    {
     "name": "stdout",
     "output_type": "stream",
     "text": [
      "https://www.rottentomatoes.com/m/an_american_in_paris_the_musical\n"
     ]
    },
    {
     "name": "stderr",
     "output_type": "stream",
     "text": [
      "Traceback (most recent call last):\n",
      "  File \"C:\\Users\\Nguyen Quang Tu\\AppData\\Local\\Temp\\ipykernel_19676\\3074276906.py\", line 17, in <module>\n",
      "    dict_info_movie['Title'] = soup.select('h1[class=\"scoreboard__title\"]')[0].text\n",
      "IndexError: list index out of range\n"
     ]
    },
    {
     "name": "stdout",
     "output_type": "stream",
     "text": [
      "https://www.rottentomatoes.com/m/armin_2008\n"
     ]
    },
    {
     "name": "stderr",
     "output_type": "stream",
     "text": [
      "Traceback (most recent call last):\n",
      "  File \"C:\\Users\\Nguyen Quang Tu\\AppData\\Local\\Temp\\ipykernel_19676\\3074276906.py\", line 9, in <module>\n",
      "    element = WebDriverWait(driver, 30).until(EC.presence_of_element_located((By.CSS_SELECTOR, 'main[id=\"main_container\"]')))\n",
      "  File \"c:\\Users\\Nguyen Quang Tu\\AppData\\Local\\Programs\\Python\\Python39\\lib\\site-packages\\selenium\\webdriver\\support\\wait.py\", line 95, in until\n",
      "    raise TimeoutException(message, screen, stacktrace)\n",
      "selenium.common.exceptions.TimeoutException: Message: \n",
      "Stacktrace:\n",
      "Backtrace:\n",
      "\t(No symbol) [0x0096DCE3]\n",
      "\t(No symbol) [0x009039D1]\n",
      "\t(No symbol) [0x00814DA8]\n",
      "\t(No symbol) [0x0084019F]\n",
      "\t(No symbol) [0x008403AB]\n",
      "\t(No symbol) [0x0086EE62]\n",
      "\t(No symbol) [0x0085AF14]\n",
      "\t(No symbol) [0x0086D57C]\n",
      "\t(No symbol) [0x0085ACC6]\n",
      "\t(No symbol) [0x00836F68]\n",
      "\t(No symbol) [0x008380CD]\n",
      "\tGetHandleVerifier [0x00BE3832+2506274]\n",
      "\tGetHandleVerifier [0x00C19794+2727300]\n",
      "\tGetHandleVerifier [0x00C1E36C+2746716]\n",
      "\tGetHandleVerifier [0x00A16690+617600]\n",
      "\t(No symbol) [0x0090C712]\n",
      "\t(No symbol) [0x00911FF8]\n",
      "\t(No symbol) [0x009120DB]\n",
      "\t(No symbol) [0x0091C63B]\n",
      "\tBaseThreadInitThunk [0x7685FEF9+25]\n",
      "\tRtlGetAppContainerNamedObjectPath [0x77D77BBE+286]\n",
      "\tRtlGetAppContainerNamedObjectPath [0x77D77B8E+238]\n",
      "\n"
     ]
    },
    {
     "name": "stdout",
     "output_type": "stream",
     "text": [
      "https://www.rottentomatoes.com/m/american_chai\n"
     ]
    },
    {
     "name": "stderr",
     "output_type": "stream",
     "text": [
      "Traceback (most recent call last):\n",
      "  File \"C:\\Users\\Nguyen Quang Tu\\AppData\\Local\\Temp\\ipykernel_19676\\3074276906.py\", line 17, in <module>\n",
      "    dict_info_movie['Title'] = soup.select('h1[class=\"scoreboard__title\"]')[0].text\n",
      "IndexError: list index out of range\n"
     ]
    },
    {
     "name": "stdout",
     "output_type": "stream",
     "text": [
      "https://www.rottentomatoes.com/m/passion_and_paradise\n"
     ]
    },
    {
     "name": "stderr",
     "output_type": "stream",
     "text": [
      "Traceback (most recent call last):\n",
      "  File \"C:\\Users\\Nguyen Quang Tu\\AppData\\Local\\Temp\\ipykernel_19676\\3074276906.py\", line 17, in <module>\n",
      "    dict_info_movie['Title'] = soup.select('h1[class=\"scoreboard__title\"]')[0].text\n",
      "IndexError: list index out of range\n"
     ]
    },
    {
     "name": "stdout",
     "output_type": "stream",
     "text": [
      "https://www.rottentomatoes.com/m/green_mountain_film_festival\n"
     ]
    },
    {
     "name": "stderr",
     "output_type": "stream",
     "text": [
      "Traceback (most recent call last):\n",
      "  File \"C:\\Users\\Nguyen Quang Tu\\AppData\\Local\\Temp\\ipykernel_19676\\3074276906.py\", line 17, in <module>\n",
      "    dict_info_movie['Title'] = soup.select('h1[class=\"scoreboard__title\"]')[0].text\n",
      "IndexError: list index out of range\n"
     ]
    },
    {
     "name": "stdout",
     "output_type": "stream",
     "text": [
      "https://www.rottentomatoes.com/m/met_summer_encore_der_rosenkavalier\n"
     ]
    }
   ],
   "source": [
    "df_movie = []\n",
    "\n",
    "for url_movie in list_all_url_movie:\n",
    "    try:\n",
    "        # Mở url phim\n",
    "        driver.get(url_movie)\n",
    "        \n",
    "        # Đợi cho đến khi url load xong\n",
    "        element = WebDriverWait(driver, 30).until(EC.presence_of_element_located((By.CSS_SELECTOR, 'main[id=\"main_container\"]')))\n",
    "        html_of_interest = driver.execute_script('return arguments[0].innerHTML',element)\n",
    "        soup = BeautifulSoup(html_of_interest, 'lxml')\n",
    "\n",
    "        ## Tạo Dict chứa thông tin về phim\n",
    "        dict_info_movie = {}\n",
    "\n",
    "        # Tiêu đề phim\n",
    "        dict_info_movie['Title'] = soup.select('h1[class=\"scoreboard__title\"]')[0].text\n",
    "\n",
    "        # Điểm đánh giá của nhà phê bình\n",
    "        tomatometer = soup.select('score-board')[0].attrs['tomatometerscore']\n",
    "        # if tomatometer != '':\n",
    "        dict_info_movie['Tomatometer score'] = tomatometer\n",
    "\n",
    "        # Điểm đánh giá của khán giả\n",
    "        dict_info_movie['Audience score'] = soup.select('score-board')[0].attrs['audiencescore']\n",
    "\n",
    "        # Số lượt đánh giá của nhà phê bình\n",
    "        dict_info_movie['Tomatometer count'] = soup.select('a[slot=\"critics-count\"]')[0].text.strip()\n",
    "\n",
    "        # Số lượt đánh giá của khán giả\n",
    "        dict_info_movie['Audience count'] = soup.select('a[slot=\"audience-count\"]')[0].text.strip()\n",
    "\n",
    "        # Trạng thái đánh giá phim của nhà phê bình\n",
    "        dict_info_movie['Tomatometer state'] = soup.select('score-board')[0].attrs['tomatometerstate']\n",
    "\n",
    "        # Trạng thái đánh giá phim của khán giả\n",
    "        dict_info_movie['Audience state'] = soup.select('score-board')[0].attrs['audiencestate']\n",
    "\n",
    "        # Thông tin phim\n",
    "        list_name_info = soup.select('b[class=\"info-item-label\"]')\n",
    "        list_info = soup.select('span[data-qa=\"movie-info-item-value\"]')\n",
    "\n",
    "        for num_info in range(len(list_name_info)):\n",
    "            name_info = list_name_info[num_info].text.replace('  ', '').replace('\\n', '').replace(':', '')\n",
    "            info = list_info[num_info].text.replace('  ', '').replace('\\n', '').replace(':', '')\n",
    "            dict_info_movie[name_info] = info\n",
    "\n",
    "        # Tóm tắt nội dụng phim\n",
    "        dict_info_movie['Synopsis'] = soup.select('p[data-qa=\"movie-info-synopsis\"]')[0].text.strip()\n",
    "\n",
    "        # Diễn viên\n",
    "        list_raw_cast = soup.select('a[data-qa=\"cast-crew-item-link\"] > p')\n",
    "        list_cast = []\n",
    "\n",
    "        for c in range(len(list_raw_cast)):\n",
    "            list_cast.append(list_raw_cast[c].text)\n",
    "\n",
    "        dict_info_movie['Cast'] = ', '.join(list_cast)\n",
    "\n",
    "        df_movie.append(dict_info_movie)\n",
    "\n",
    "        # Reviews của nhà phê bình\n",
    "        driver.get(url_movie + '/reviews')\n",
    "\n",
    "        element_critic_review = WebDriverWait(driver, 30).until(EC.presence_of_element_located((By.CSS_SELECTOR, 'div[class=\"layout reviews-page-container\"]')))\n",
    "        html_of_interest = driver.execute_script('return arguments[0].innerHTML',element_critic_review)\n",
    "        soup_critic_review = BeautifulSoup(html_of_interest, 'lxml')\n",
    "\n",
    "        # Check có review của nhà phê bình không ?\n",
    "        check_critic_review = soup_critic_review.select('div[class=\"review_table\"]')[0].text.strip()\n",
    "\n",
    "        if check_critic_review != '':\n",
    "            list_critic_review = []\n",
    "            list_top_critic_review = []\n",
    "            \n",
    "            # Số lượng review trong 1 trang\n",
    "            num_rv = len(soup_critic_review.select('div[class=\"review-row\"]'))\n",
    "\n",
    "            for num in range(num_rv):\n",
    "                rv = soup_critic_review.select('div[class=\"review-row\"]')[num].find_all('p', {'class': 'review-text'})[0].text\n",
    "                list_critic_review.append(rv)\n",
    "\n",
    "                # Check top critic reviews\n",
    "                check_top_critic = soup_critic_review.select('div[class=\"review-row\"]')[num].find_all('rt-icon-top-critic')\n",
    "\n",
    "                if check_top_critic != []:\n",
    "                    list_top_critic_review.append(rv)\n",
    "            \n",
    "            while True:\n",
    "                sleep(1)\n",
    "                try:\n",
    "                    next_button = driver.find_element(By.CSS_SELECTOR, 'rt-button[class=\"js-prev-next-paging-next\"]')\n",
    "                    driver.execute_script(\"arguments[0].click();\", next_button)\n",
    "                    \n",
    "                    element_critic_review = WebDriverWait(driver, 30).until(EC.presence_of_element_located((By.CSS_SELECTOR, 'div[class=\"review_table\"]')))\n",
    "                    html_of_interest = driver.execute_script('return arguments[0].innerHTML',element_critic_review)\n",
    "                    soup_critic_review = BeautifulSoup(html_of_interest, 'lxml')\n",
    "\n",
    "                    num_rv = len(soup_critic_review.select('div[class=\"review-row\"]'))\n",
    "\n",
    "                    for num in range(num_rv):\n",
    "                        rv = soup_critic_review.select('div[class=\"review-row\"]')[num].find_all('p', {'class': 'review-text'})[0].text.strip()\n",
    "                        list_critic_review.append(rv)\n",
    "\n",
    "                        check_top_critic = soup_critic_review.select('div[class=\"review-row\"]')[num].find_all('rt-icon-top-critic')\n",
    "\n",
    "                        if check_top_critic != []:\n",
    "                            list_top_critic_review.append(rv)\n",
    "                    \n",
    "                except:\n",
    "                    break\n",
    "            dict_info_movie['Critic review'] = '<>'.join(list_critic_review)\n",
    "            if list_top_critic_review != []:\n",
    "                dict_info_movie['Top critic review'] = '<>'.join(list_top_critic_review)\n",
    "            else:\n",
    "                dict_info_movie['Top critic review'] = 'No top critic reviews'\n",
    "        elif check_critic_review == '':\n",
    "            dict_info_movie['Critic review'] = 'No critic reviews'\n",
    "            dict_info_movie['Top critic review'] = 'No top critic reviews'\n",
    "\n",
    "        # Reviews của khán giả\n",
    "        driver.get(url_movie + '/reviews?type=user')\n",
    "\n",
    "        element_audience_review = WebDriverWait(driver, 30).until(EC.presence_of_element_located((By.CSS_SELECTOR, 'div[data-qa=\"reviews-container\"]')))\n",
    "        html_of_interest = driver.execute_script('return arguments[0].innerHTML',element_audience_review)\n",
    "        soup_audience_review = BeautifulSoup(html_of_interest, 'lxml')\n",
    "\n",
    "        ## Check có review của khán giả không ?\n",
    "        check_audience_review = soup_audience_review.select('div[id=\"movieUserReviewsContent\"]')\n",
    "\n",
    "        if len(check_audience_review) != 0:\n",
    "            list_audience_review = []\n",
    "            list_verified_audience_review = []\n",
    "            \n",
    "            # Số lượng review trong 1 trang\n",
    "            num_audience_rv = len(soup_audience_review.select('div[class=\"audience-review-row\"]'))\n",
    "            \n",
    "            for num in range(num_audience_rv):\n",
    "                rv = soup_audience_review.select('div[class=\"audience-review-row\"]')[num].find_all('p', {'data-qa': 'review-text'})[0].text\n",
    "                list_audience_review.append(rv)\n",
    "\n",
    "                # Check verified audience review\n",
    "                check_verified_audience = soup_audience_review.select('div[class=\"audience-review-row\"]')[num].find_all('span', {'class': 'audience-reviews__verified'})\n",
    "\n",
    "                if check_verified_audience != []:\n",
    "                    list_verified_audience_review.append(rv)\n",
    "            \n",
    "            while True:\n",
    "                sleep(1)\n",
    "                try:\n",
    "                    next_button = driver.find_element(By.CSS_SELECTOR, 'rt-button[class=\"js-prev-next-paging-next\"]')\n",
    "                    driver.execute_script(\"arguments[0].click();\", next_button)\n",
    "                    \n",
    "                    element_audience_review = WebDriverWait(driver, 30).until(EC.presence_of_element_located((By.CSS_SELECTOR, 'div[id=\"movieUserReviewsContent\"]')))\n",
    "                    html_of_interest = driver.execute_script('return arguments[0].innerHTML',element_audience_review)\n",
    "                    soup_audience_review = BeautifulSoup(html_of_interest, 'lxml')\n",
    "\n",
    "                    # Số lượng review trong 1 trang\n",
    "                    num_audience_rv = len(soup_audience_review.select('div[class=\"audience-review-row\"]'))\n",
    "                    \n",
    "                    for num in range(num_audience_rv):\n",
    "                        rv = soup_audience_review.select('div[class=\"audience-review-row\"]')[num].find_all('p', {'data-qa': 'review-text'})[0].text\n",
    "                        list_audience_review.append(rv)\n",
    "\n",
    "                        # Check verified audience review\n",
    "                        check_verified_audience = soup_audience_review.select('div[class=\"audience-review-row\"]')[num].find_all('span', {'class': 'audience-reviews__verified'})\n",
    "\n",
    "                        if check_verified_audience != []:\n",
    "                            list_verified_audience_review.append(rv)\n",
    "                    \n",
    "                except:\n",
    "                    break\n",
    "            dict_info_movie['Audience review'] = '<>'.join(list_audience_review)\n",
    "            if list_verified_audience_review != []:\n",
    "                dict_info_movie['Verified audience review'] = '<>'.join(list_verified_audience_review)\n",
    "            else:\n",
    "                dict_info_movie['Verified audience review'] = 'No verified audience reviews'\n",
    "\n",
    "        else:\n",
    "            dict_info_movie['Audience review'] = 'No audience reviews'\n",
    "            dict_info_movie['Verified audience review'] = 'No verified audience reviews'\n",
    "\n",
    "        df_movie.append(dict_info_movie)\n",
    "\n",
    "    except Exception:\n",
    "        traceback.print_exc()\n",
    "        print(url_movie)\n",
    "        continue\n",
    "    \n",
    "df_movie = pd.DataFrame(df_movie)"
   ]
  },
  {
   "cell_type": "code",
   "execution_count": 15,
   "metadata": {},
   "outputs": [
    {
     "data": {
      "text/html": [
       "<div>\n",
       "<style scoped>\n",
       "    .dataframe tbody tr th:only-of-type {\n",
       "        vertical-align: middle;\n",
       "    }\n",
       "\n",
       "    .dataframe tbody tr th {\n",
       "        vertical-align: top;\n",
       "    }\n",
       "\n",
       "    .dataframe thead th {\n",
       "        text-align: right;\n",
       "    }\n",
       "</style>\n",
       "<table border=\"1\" class=\"dataframe\">\n",
       "  <thead>\n",
       "    <tr style=\"text-align: right;\">\n",
       "      <th></th>\n",
       "      <th>Title</th>\n",
       "      <th>Tomatometer score</th>\n",
       "      <th>Audience score</th>\n",
       "      <th>Tomatometer count</th>\n",
       "      <th>Audience count</th>\n",
       "      <th>Tomatometer state</th>\n",
       "      <th>Audience state</th>\n",
       "      <th>Genre</th>\n",
       "      <th>Original Language</th>\n",
       "      <th>Director</th>\n",
       "      <th>...</th>\n",
       "      <th>Synopsis</th>\n",
       "      <th>Cast</th>\n",
       "      <th>Release Date (Streaming)</th>\n",
       "      <th>Box Office (Gross USA)</th>\n",
       "      <th>Rating</th>\n",
       "      <th>Release Date (Theaters)</th>\n",
       "      <th>Distributor</th>\n",
       "      <th>Sound Mix</th>\n",
       "      <th>Aspect Ratio</th>\n",
       "      <th>View the collection</th>\n",
       "    </tr>\n",
       "  </thead>\n",
       "  <tbody>\n",
       "    <tr>\n",
       "      <th>0</th>\n",
       "      <td>Roaring 20's</td>\n",
       "      <td>89</td>\n",
       "      <td></td>\n",
       "      <td>9 Reviews</td>\n",
       "      <td>0 Ratings</td>\n",
       "      <td>fresh</td>\n",
       "      <td></td>\n",
       "      <td>Drama</td>\n",
       "      <td>French (France)</td>\n",
       "      <td>Elisabeth Vogler</td>\n",
       "      <td>...</td>\n",
       "      <td>On one beautiful afternoon in Paris during the...</td>\n",
       "      <td>Noémie Schmidt, Alice De Lencquesaing, Manuel ...</td>\n",
       "      <td>NaN</td>\n",
       "      <td>NaN</td>\n",
       "      <td>NaN</td>\n",
       "      <td>NaN</td>\n",
       "      <td>NaN</td>\n",
       "      <td>NaN</td>\n",
       "      <td>NaN</td>\n",
       "      <td>NaN</td>\n",
       "    </tr>\n",
       "    <tr>\n",
       "      <th>1</th>\n",
       "      <td>Baahubali: The Beginning</td>\n",
       "      <td>90</td>\n",
       "      <td>86</td>\n",
       "      <td>20 Reviews</td>\n",
       "      <td>1,000+ Ratings</td>\n",
       "      <td>fresh</td>\n",
       "      <td>upright</td>\n",
       "      <td>Adventure, Action, Drama</td>\n",
       "      <td>Telugu</td>\n",
       "      <td>S.S. Rajamouli</td>\n",
       "      <td>...</td>\n",
       "      <td>In the kingdom of Mahishmati, while pursuing h...</td>\n",
       "      <td>Prabhas, Rana Daggubati, Anushka Shetty, Taman...</td>\n",
       "      <td>Aug 18, 2016</td>\n",
       "      <td>$7.7M</td>\n",
       "      <td>NaN</td>\n",
       "      <td>NaN</td>\n",
       "      <td>NaN</td>\n",
       "      <td>NaN</td>\n",
       "      <td>NaN</td>\n",
       "      <td>NaN</td>\n",
       "    </tr>\n",
       "    <tr>\n",
       "      <th>2</th>\n",
       "      <td>One Floor Below</td>\n",
       "      <td>83</td>\n",
       "      <td>72</td>\n",
       "      <td>23 Reviews</td>\n",
       "      <td>Fewer than 50 Ratings</td>\n",
       "      <td>fresh</td>\n",
       "      <td>upright</td>\n",
       "      <td>Drama</td>\n",
       "      <td>Romanian</td>\n",
       "      <td>Radu Muntean</td>\n",
       "      <td>...</td>\n",
       "      <td>Patrascu finds himself at odds with two neighb...</td>\n",
       "      <td>Teo Corban, Maria Popistasu, Iulian Postelnicu...</td>\n",
       "      <td>NaN</td>\n",
       "      <td>NaN</td>\n",
       "      <td>NaN</td>\n",
       "      <td>NaN</td>\n",
       "      <td>NaN</td>\n",
       "      <td>NaN</td>\n",
       "      <td>NaN</td>\n",
       "      <td>NaN</td>\n",
       "    </tr>\n",
       "    <tr>\n",
       "      <th>3</th>\n",
       "      <td>Indian Summer</td>\n",
       "      <td>58</td>\n",
       "      <td>65</td>\n",
       "      <td>19 Reviews</td>\n",
       "      <td>5,000+ Ratings</td>\n",
       "      <td>rotten</td>\n",
       "      <td>upright</td>\n",
       "      <td>Comedy, Drama</td>\n",
       "      <td>English</td>\n",
       "      <td>Mike Binder</td>\n",
       "      <td>...</td>\n",
       "      <td>Unca Lou (Alan Arkin), the longtime director o...</td>\n",
       "      <td>Alan Arkin, Matt Craven, Diane Lane, Bill Paxt...</td>\n",
       "      <td>Sep 3, 2002</td>\n",
       "      <td>$14.7M</td>\n",
       "      <td>PG-13</td>\n",
       "      <td>Apr 23, 1993 wide</td>\n",
       "      <td>Touchstone Pictures, Buena Vista Pictures, BV ...</td>\n",
       "      <td>Surround</td>\n",
       "      <td>NaN</td>\n",
       "      <td>NaN</td>\n",
       "    </tr>\n",
       "    <tr>\n",
       "      <th>4</th>\n",
       "      <td>A Lion Returns</td>\n",
       "      <td>100</td>\n",
       "      <td></td>\n",
       "      <td>5 Reviews</td>\n",
       "      <td>0 Ratings</td>\n",
       "      <td>fresh</td>\n",
       "      <td></td>\n",
       "      <td>Drama</td>\n",
       "      <td>English</td>\n",
       "      <td>Serhat Caradee</td>\n",
       "      <td>...</td>\n",
       "      <td>Jamal has just returned to Australia after spe...</td>\n",
       "      <td>Serhat Caradee, Tyler De Nawi, Danny Elacci, B...</td>\n",
       "      <td>NaN</td>\n",
       "      <td>NaN</td>\n",
       "      <td>NaN</td>\n",
       "      <td>NaN</td>\n",
       "      <td>NaN</td>\n",
       "      <td>NaN</td>\n",
       "      <td>NaN</td>\n",
       "      <td>NaN</td>\n",
       "    </tr>\n",
       "    <tr>\n",
       "      <th>...</th>\n",
       "      <td>...</td>\n",
       "      <td>...</td>\n",
       "      <td>...</td>\n",
       "      <td>...</td>\n",
       "      <td>...</td>\n",
       "      <td>...</td>\n",
       "      <td>...</td>\n",
       "      <td>...</td>\n",
       "      <td>...</td>\n",
       "      <td>...</td>\n",
       "      <td>...</td>\n",
       "      <td>...</td>\n",
       "      <td>...</td>\n",
       "      <td>...</td>\n",
       "      <td>...</td>\n",
       "      <td>...</td>\n",
       "      <td>...</td>\n",
       "      <td>...</td>\n",
       "      <td>...</td>\n",
       "      <td>...</td>\n",
       "      <td>...</td>\n",
       "    </tr>\n",
       "    <tr>\n",
       "      <th>5136</th>\n",
       "      <td>Chromophobia</td>\n",
       "      <td>31</td>\n",
       "      <td>53</td>\n",
       "      <td>13 Reviews</td>\n",
       "      <td>500+ Ratings</td>\n",
       "      <td>rotten</td>\n",
       "      <td>spilled</td>\n",
       "      <td>Drama</td>\n",
       "      <td>English</td>\n",
       "      <td>Martha Fiennes</td>\n",
       "      <td>...</td>\n",
       "      <td>Encouraged by his editor to seek 'sexy stories...</td>\n",
       "      <td>Ralph Fiennes, Penélope Cruz, Kristin Scott Th...</td>\n",
       "      <td>NaN</td>\n",
       "      <td>NaN</td>\n",
       "      <td>NaN</td>\n",
       "      <td>NaN</td>\n",
       "      <td>NaN</td>\n",
       "      <td>NaN</td>\n",
       "      <td>NaN</td>\n",
       "      <td>NaN</td>\n",
       "    </tr>\n",
       "    <tr>\n",
       "      <th>5137</th>\n",
       "      <td>American Gun</td>\n",
       "      <td>40</td>\n",
       "      <td>41</td>\n",
       "      <td>20 Reviews</td>\n",
       "      <td>500+ Ratings</td>\n",
       "      <td>rotten</td>\n",
       "      <td>spilled</td>\n",
       "      <td>Drama</td>\n",
       "      <td>English</td>\n",
       "      <td>Alan Jacobs</td>\n",
       "      <td>...</td>\n",
       "      <td>A distraught man (James Coburn) embarks on a c...</td>\n",
       "      <td>James Coburn, Barbara Bain, Virginia Madsen, A...</td>\n",
       "      <td>Feb 17, 2004</td>\n",
       "      <td>NaN</td>\n",
       "      <td>R</td>\n",
       "      <td>NaN</td>\n",
       "      <td>NaN</td>\n",
       "      <td>Dolby Stereo, Dolby Digital, Dolby A, Surround...</td>\n",
       "      <td>Flat (1.851)</td>\n",
       "      <td>NaN</td>\n",
       "    </tr>\n",
       "    <tr>\n",
       "      <th>5138</th>\n",
       "      <td>Tchoupitoulas</td>\n",
       "      <td>83</td>\n",
       "      <td>68</td>\n",
       "      <td>18 Reviews</td>\n",
       "      <td>250+ Ratings</td>\n",
       "      <td>fresh</td>\n",
       "      <td>upright</td>\n",
       "      <td>Documentary</td>\n",
       "      <td>English</td>\n",
       "      <td>Bill Ross IV, Turner Ross</td>\n",
       "      <td>...</td>\n",
       "      <td>Three brothers discover the late-night scene o...</td>\n",
       "      <td>Bill Ross IV, Turner Ross, Bill Ross IV, Turne...</td>\n",
       "      <td>Oct 14, 2013</td>\n",
       "      <td>NaN</td>\n",
       "      <td>NaN</td>\n",
       "      <td>NaN</td>\n",
       "      <td>NaN</td>\n",
       "      <td>NaN</td>\n",
       "      <td>NaN</td>\n",
       "      <td>NaN</td>\n",
       "    </tr>\n",
       "    <tr>\n",
       "      <th>5139</th>\n",
       "      <td>Bag It</td>\n",
       "      <td>100</td>\n",
       "      <td>81</td>\n",
       "      <td>5 Reviews</td>\n",
       "      <td>100+ Ratings</td>\n",
       "      <td>fresh</td>\n",
       "      <td>upright</td>\n",
       "      <td>Documentary, Comedy, Drama</td>\n",
       "      <td>English</td>\n",
       "      <td>Suzan Beraza</td>\n",
       "      <td>...</td>\n",
       "      <td>Jeb Berrier, a regular American man, makes a p...</td>\n",
       "      <td>Suzan Beraza, Michelle Curry Wright`, Michelle...</td>\n",
       "      <td>Nov 18, 2016</td>\n",
       "      <td>NaN</td>\n",
       "      <td>NaN</td>\n",
       "      <td>Sep 1, 2011 original</td>\n",
       "      <td>APT Worldwide</td>\n",
       "      <td>NaN</td>\n",
       "      <td>NaN</td>\n",
       "      <td>NaN</td>\n",
       "    </tr>\n",
       "    <tr>\n",
       "      <th>5140</th>\n",
       "      <td>Northeast</td>\n",
       "      <td>20</td>\n",
       "      <td>17</td>\n",
       "      <td>5 Reviews</td>\n",
       "      <td>50+ Ratings</td>\n",
       "      <td>rotten</td>\n",
       "      <td>spilled</td>\n",
       "      <td>Drama</td>\n",
       "      <td>English</td>\n",
       "      <td>Gregory Kohn</td>\n",
       "      <td>...</td>\n",
       "      <td>Will, an aimless playboy living in Brooklyn, h...</td>\n",
       "      <td>David Call, Veronika Dominczyk, Tate Ellington...</td>\n",
       "      <td>Dec 10, 2012</td>\n",
       "      <td>NaN</td>\n",
       "      <td>NaN</td>\n",
       "      <td>NaN</td>\n",
       "      <td>NaN</td>\n",
       "      <td>NaN</td>\n",
       "      <td>NaN</td>\n",
       "      <td>NaN</td>\n",
       "    </tr>\n",
       "  </tbody>\n",
       "</table>\n",
       "<p>5141 rows × 23 columns</p>\n",
       "</div>"
      ],
      "text/plain": [
       "                         Title Tomatometer score Audience score  \\\n",
       "0                 Roaring 20's                89                  \n",
       "1     Baahubali: The Beginning                90             86   \n",
       "2              One Floor Below                83             72   \n",
       "3                Indian Summer                58             65   \n",
       "4               A Lion Returns               100                  \n",
       "...                        ...               ...            ...   \n",
       "5136              Chromophobia                31             53   \n",
       "5137              American Gun                40             41   \n",
       "5138             Tchoupitoulas                83             68   \n",
       "5139                    Bag It               100             81   \n",
       "5140                 Northeast                20             17   \n",
       "\n",
       "     Tomatometer count         Audience count Tomatometer state  \\\n",
       "0            9 Reviews              0 Ratings             fresh   \n",
       "1           20 Reviews         1,000+ Ratings             fresh   \n",
       "2           23 Reviews  Fewer than 50 Ratings             fresh   \n",
       "3           19 Reviews         5,000+ Ratings            rotten   \n",
       "4            5 Reviews              0 Ratings             fresh   \n",
       "...                ...                    ...               ...   \n",
       "5136        13 Reviews           500+ Ratings            rotten   \n",
       "5137        20 Reviews           500+ Ratings            rotten   \n",
       "5138        18 Reviews           250+ Ratings             fresh   \n",
       "5139         5 Reviews           100+ Ratings             fresh   \n",
       "5140         5 Reviews            50+ Ratings            rotten   \n",
       "\n",
       "     Audience state                       Genre Original Language  \\\n",
       "0                                         Drama   French (France)   \n",
       "1           upright    Adventure, Action, Drama            Telugu   \n",
       "2           upright                       Drama          Romanian   \n",
       "3           upright               Comedy, Drama           English   \n",
       "4                                         Drama           English   \n",
       "...             ...                         ...               ...   \n",
       "5136        spilled                       Drama           English   \n",
       "5137        spilled                       Drama           English   \n",
       "5138        upright                 Documentary           English   \n",
       "5139        upright  Documentary, Comedy, Drama           English   \n",
       "5140        spilled                       Drama           English   \n",
       "\n",
       "                       Director  ...  \\\n",
       "0              Elisabeth Vogler  ...   \n",
       "1                S.S. Rajamouli  ...   \n",
       "2                  Radu Muntean  ...   \n",
       "3                   Mike Binder  ...   \n",
       "4                Serhat Caradee  ...   \n",
       "...                         ...  ...   \n",
       "5136             Martha Fiennes  ...   \n",
       "5137                Alan Jacobs  ...   \n",
       "5138  Bill Ross IV, Turner Ross  ...   \n",
       "5139               Suzan Beraza  ...   \n",
       "5140               Gregory Kohn  ...   \n",
       "\n",
       "                                               Synopsis  \\\n",
       "0     On one beautiful afternoon in Paris during the...   \n",
       "1     In the kingdom of Mahishmati, while pursuing h...   \n",
       "2     Patrascu finds himself at odds with two neighb...   \n",
       "3     Unca Lou (Alan Arkin), the longtime director o...   \n",
       "4     Jamal has just returned to Australia after spe...   \n",
       "...                                                 ...   \n",
       "5136  Encouraged by his editor to seek 'sexy stories...   \n",
       "5137  A distraught man (James Coburn) embarks on a c...   \n",
       "5138  Three brothers discover the late-night scene o...   \n",
       "5139  Jeb Berrier, a regular American man, makes a p...   \n",
       "5140  Will, an aimless playboy living in Brooklyn, h...   \n",
       "\n",
       "                                                   Cast  \\\n",
       "0     Noémie Schmidt, Alice De Lencquesaing, Manuel ...   \n",
       "1     Prabhas, Rana Daggubati, Anushka Shetty, Taman...   \n",
       "2     Teo Corban, Maria Popistasu, Iulian Postelnicu...   \n",
       "3     Alan Arkin, Matt Craven, Diane Lane, Bill Paxt...   \n",
       "4     Serhat Caradee, Tyler De Nawi, Danny Elacci, B...   \n",
       "...                                                 ...   \n",
       "5136  Ralph Fiennes, Penélope Cruz, Kristin Scott Th...   \n",
       "5137  James Coburn, Barbara Bain, Virginia Madsen, A...   \n",
       "5138  Bill Ross IV, Turner Ross, Bill Ross IV, Turne...   \n",
       "5139  Suzan Beraza, Michelle Curry Wright`, Michelle...   \n",
       "5140  David Call, Veronika Dominczyk, Tate Ellington...   \n",
       "\n",
       "     Release Date (Streaming) Box Office (Gross USA) Rating  \\\n",
       "0                         NaN                    NaN    NaN   \n",
       "1                Aug 18, 2016                  $7.7M    NaN   \n",
       "2                         NaN                    NaN    NaN   \n",
       "3                 Sep 3, 2002                 $14.7M  PG-13   \n",
       "4                         NaN                    NaN    NaN   \n",
       "...                       ...                    ...    ...   \n",
       "5136                      NaN                    NaN    NaN   \n",
       "5137             Feb 17, 2004                    NaN      R   \n",
       "5138             Oct 14, 2013                    NaN    NaN   \n",
       "5139             Nov 18, 2016                    NaN    NaN   \n",
       "5140             Dec 10, 2012                    NaN    NaN   \n",
       "\n",
       "     Release Date (Theaters)  \\\n",
       "0                        NaN   \n",
       "1                        NaN   \n",
       "2                        NaN   \n",
       "3          Apr 23, 1993 wide   \n",
       "4                        NaN   \n",
       "...                      ...   \n",
       "5136                     NaN   \n",
       "5137                     NaN   \n",
       "5138                     NaN   \n",
       "5139    Sep 1, 2011 original   \n",
       "5140                     NaN   \n",
       "\n",
       "                                            Distributor  \\\n",
       "0                                                   NaN   \n",
       "1                                                   NaN   \n",
       "2                                                   NaN   \n",
       "3     Touchstone Pictures, Buena Vista Pictures, BV ...   \n",
       "4                                                   NaN   \n",
       "...                                                 ...   \n",
       "5136                                                NaN   \n",
       "5137                                                NaN   \n",
       "5138                                                NaN   \n",
       "5139                                      APT Worldwide   \n",
       "5140                                                NaN   \n",
       "\n",
       "                                              Sound Mix  Aspect Ratio  \\\n",
       "0                                                   NaN           NaN   \n",
       "1                                                   NaN           NaN   \n",
       "2                                                   NaN           NaN   \n",
       "3                                              Surround           NaN   \n",
       "4                                                   NaN           NaN   \n",
       "...                                                 ...           ...   \n",
       "5136                                                NaN           NaN   \n",
       "5137  Dolby Stereo, Dolby Digital, Dolby A, Surround...  Flat (1.851)   \n",
       "5138                                                NaN           NaN   \n",
       "5139                                                NaN           NaN   \n",
       "5140                                                NaN           NaN   \n",
       "\n",
       "     View the collection  \n",
       "0                    NaN  \n",
       "1                    NaN  \n",
       "2                    NaN  \n",
       "3                    NaN  \n",
       "4                    NaN  \n",
       "...                  ...  \n",
       "5136                 NaN  \n",
       "5137                 NaN  \n",
       "5138                 NaN  \n",
       "5139                 NaN  \n",
       "5140                 NaN  \n",
       "\n",
       "[5141 rows x 23 columns]"
      ]
     },
     "execution_count": 15,
     "metadata": {},
     "output_type": "execute_result"
    }
   ],
   "source": [
    "df_movie"
   ]
  },
  {
   "cell_type": "code",
   "execution_count": 16,
   "metadata": {},
   "outputs": [],
   "source": [
    "df_movie.to_csv('120000_end_movie_info.csv', index=False)"
   ]
  },
  {
   "cell_type": "code",
   "execution_count": null,
   "metadata": {},
   "outputs": [],
   "source": []
  }
 ],
 "metadata": {
  "kernelspec": {
   "display_name": "Python 3",
   "language": "python",
   "name": "python3"
  },
  "language_info": {
   "codemirror_mode": {
    "name": "ipython",
    "version": 3
   },
   "file_extension": ".py",
   "mimetype": "text/x-python",
   "name": "python",
   "nbconvert_exporter": "python",
   "pygments_lexer": "ipython3",
   "version": "3.9.0"
  }
 },
 "nbformat": 4,
 "nbformat_minor": 4
}
