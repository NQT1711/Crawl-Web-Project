{
 "cells": [
  {
   "cell_type": "code",
   "execution_count": 1,
   "id": "52bb5825",
   "metadata": {},
   "outputs": [],
   "source": [
    "# Read dataset\n",
    "import pandas as pd\n",
    "import numpy as np\n",
    "import matplotlib.pyplot as plt\n",
    "# Train test split\n",
    "from sklearn.model_selection import train_test_split\n",
    "# Build model\n",
    "from sklearn.feature_extraction.text import TfidfVectorizer\n",
    "import tensorflow as tf\n",
    "from keras.models import Sequential\n",
    "from keras.layers import Flatten, Dense, Softmax, Dropout\n",
    "from nltk.corpus import stopwords\n",
    "import re"
   ]
  },
  {
   "attachments": {},
   "cell_type": "markdown",
   "id": "e70b6c84",
   "metadata": {},
   "source": [
    "# Đọc dữ liệu"
   ]
  },
  {
   "cell_type": "code",
   "execution_count": 2,
   "id": "0eb03a0c",
   "metadata": {},
   "outputs": [],
   "source": [
    "data = pd.read_csv('E:\\Crawl_Web\\Rotten Tomatoes\\Preprocessing\\movie_cleaned.csv')[:20000]"
   ]
  },
  {
   "cell_type": "code",
   "execution_count": 3,
   "id": "804e5a86",
   "metadata": {},
   "outputs": [
    {
     "data": {
      "text/html": [
       "<div>\n",
       "<style scoped>\n",
       "    .dataframe tbody tr th:only-of-type {\n",
       "        vertical-align: middle;\n",
       "    }\n",
       "\n",
       "    .dataframe tbody tr th {\n",
       "        vertical-align: top;\n",
       "    }\n",
       "\n",
       "    .dataframe thead th {\n",
       "        text-align: right;\n",
       "    }\n",
       "</style>\n",
       "<table border=\"1\" class=\"dataframe\">\n",
       "  <thead>\n",
       "    <tr style=\"text-align: right;\">\n",
       "      <th></th>\n",
       "      <th>Title</th>\n",
       "      <th>Score</th>\n",
       "      <th>Review count</th>\n",
       "      <th>Genre</th>\n",
       "      <th>Rating</th>\n",
       "      <th>Synopsis</th>\n",
       "    </tr>\n",
       "  </thead>\n",
       "  <tbody>\n",
       "    <tr>\n",
       "      <th>0</th>\n",
       "      <td>Paa</td>\n",
       "      <td>58.5</td>\n",
       "      <td>1008</td>\n",
       "      <td>Drama</td>\n",
       "      <td>PG-13</td>\n",
       "      <td>A politician's 13-year-old son has a rare diso...</td>\n",
       "    </tr>\n",
       "    <tr>\n",
       "      <th>1</th>\n",
       "      <td>Small Town Wisconsin</td>\n",
       "      <td>85.5</td>\n",
       "      <td>62</td>\n",
       "      <td>Drama, Comedy</td>\n",
       "      <td>PG-13</td>\n",
       "      <td>After losing a custody battle, perpetual teena...</td>\n",
       "    </tr>\n",
       "    <tr>\n",
       "      <th>2</th>\n",
       "      <td>The 100-Year-Old Man Who Climbed Out the Windo...</td>\n",
       "      <td>68.5</td>\n",
       "      <td>2581</td>\n",
       "      <td>Comedy, Adventure</td>\n",
       "      <td>R</td>\n",
       "      <td>Allan Karlsson, a 100-year-old explosives expe...</td>\n",
       "    </tr>\n",
       "  </tbody>\n",
       "</table>\n",
       "</div>"
      ],
      "text/plain": [
       "                                               Title  Score  Review count  \\\n",
       "0                                                Paa   58.5          1008   \n",
       "1                               Small Town Wisconsin   85.5            62   \n",
       "2  The 100-Year-Old Man Who Climbed Out the Windo...   68.5          2581   \n",
       "\n",
       "               Genre Rating                                           Synopsis  \n",
       "0              Drama  PG-13  A politician's 13-year-old son has a rare diso...  \n",
       "1      Drama, Comedy  PG-13  After losing a custody battle, perpetual teena...  \n",
       "2  Comedy, Adventure      R  Allan Karlsson, a 100-year-old explosives expe...  "
      ]
     },
     "execution_count": 3,
     "metadata": {},
     "output_type": "execute_result"
    }
   ],
   "source": [
    "data.head(3)"
   ]
  },
  {
   "attachments": {},
   "cell_type": "markdown",
   "id": "57dcd84d",
   "metadata": {},
   "source": [
    "# Tiền xử lí dữ liệu"
   ]
  },
  {
   "cell_type": "code",
   "execution_count": 4,
   "id": "783fdb52",
   "metadata": {},
   "outputs": [],
   "source": [
    "# Drop các cột không dùng trong model\n",
    "data.drop(columns=['Title', 'Review count'], inplace=True)"
   ]
  },
  {
   "cell_type": "code",
   "execution_count": 5,
   "id": "dfdc2b27",
   "metadata": {},
   "outputs": [
    {
     "data": {
      "text/html": [
       "<div>\n",
       "<style scoped>\n",
       "    .dataframe tbody tr th:only-of-type {\n",
       "        vertical-align: middle;\n",
       "    }\n",
       "\n",
       "    .dataframe tbody tr th {\n",
       "        vertical-align: top;\n",
       "    }\n",
       "\n",
       "    .dataframe thead th {\n",
       "        text-align: right;\n",
       "    }\n",
       "</style>\n",
       "<table border=\"1\" class=\"dataframe\">\n",
       "  <thead>\n",
       "    <tr style=\"text-align: right;\">\n",
       "      <th></th>\n",
       "      <th>Score</th>\n",
       "      <th>Genre</th>\n",
       "      <th>Rating</th>\n",
       "      <th>Synopsis</th>\n",
       "    </tr>\n",
       "  </thead>\n",
       "  <tbody>\n",
       "    <tr>\n",
       "      <th>0</th>\n",
       "      <td>58.5</td>\n",
       "      <td>Drama</td>\n",
       "      <td>PG-13</td>\n",
       "      <td>A politician's 13-year-old son has a rare diso...</td>\n",
       "    </tr>\n",
       "    <tr>\n",
       "      <th>1</th>\n",
       "      <td>85.5</td>\n",
       "      <td>Drama, Comedy</td>\n",
       "      <td>PG-13</td>\n",
       "      <td>After losing a custody battle, perpetual teena...</td>\n",
       "    </tr>\n",
       "    <tr>\n",
       "      <th>2</th>\n",
       "      <td>68.5</td>\n",
       "      <td>Comedy, Adventure</td>\n",
       "      <td>R</td>\n",
       "      <td>Allan Karlsson, a 100-year-old explosives expe...</td>\n",
       "    </tr>\n",
       "    <tr>\n",
       "      <th>3</th>\n",
       "      <td>91.0</td>\n",
       "      <td>Drama, Mystery &amp; thriller, Action</td>\n",
       "      <td>PG</td>\n",
       "      <td>Frank Morris (Clint Eastwood), a hardened con ...</td>\n",
       "    </tr>\n",
       "    <tr>\n",
       "      <th>4</th>\n",
       "      <td>67.0</td>\n",
       "      <td>Drama, Adventure, Romance</td>\n",
       "      <td>PG-13</td>\n",
       "      <td>Tami Oldham and Richard Sharp couldn't anticip...</td>\n",
       "    </tr>\n",
       "    <tr>\n",
       "      <th>...</th>\n",
       "      <td>...</td>\n",
       "      <td>...</td>\n",
       "      <td>...</td>\n",
       "      <td>...</td>\n",
       "    </tr>\n",
       "    <tr>\n",
       "      <th>19995</th>\n",
       "      <td>69.5</td>\n",
       "      <td>Drama, Lgbtq+</td>\n",
       "      <td>PG-13</td>\n",
       "      <td>Ashraf (Yousef \"Joe\" Sweid), a Palestinian, me...</td>\n",
       "    </tr>\n",
       "    <tr>\n",
       "      <th>19996</th>\n",
       "      <td>84.0</td>\n",
       "      <td>Documentary</td>\n",
       "      <td>R</td>\n",
       "      <td>Terrorist suspect Abu Zubaydah becomes the fir...</td>\n",
       "    </tr>\n",
       "    <tr>\n",
       "      <th>19997</th>\n",
       "      <td>18.5</td>\n",
       "      <td>Comedy</td>\n",
       "      <td>PG</td>\n",
       "      <td>Two friends from Brooklyn (Jerry O'Connell), (...</td>\n",
       "    </tr>\n",
       "    <tr>\n",
       "      <th>19998</th>\n",
       "      <td>89.0</td>\n",
       "      <td>Drama, Comedy</td>\n",
       "      <td>R</td>\n",
       "      <td>A young Englishman dreams of escaping from his...</td>\n",
       "    </tr>\n",
       "    <tr>\n",
       "      <th>19999</th>\n",
       "      <td>100.0</td>\n",
       "      <td>Drama</td>\n",
       "      <td>PG-13</td>\n",
       "      <td>In a provincial Iranian town, the children wor...</td>\n",
       "    </tr>\n",
       "  </tbody>\n",
       "</table>\n",
       "<p>20000 rows × 4 columns</p>\n",
       "</div>"
      ],
      "text/plain": [
       "       Score                              Genre Rating  \\\n",
       "0       58.5                              Drama  PG-13   \n",
       "1       85.5                      Drama, Comedy  PG-13   \n",
       "2       68.5                  Comedy, Adventure      R   \n",
       "3       91.0  Drama, Mystery & thriller, Action     PG   \n",
       "4       67.0          Drama, Adventure, Romance  PG-13   \n",
       "...      ...                                ...    ...   \n",
       "19995   69.5                      Drama, Lgbtq+  PG-13   \n",
       "19996   84.0                        Documentary      R   \n",
       "19997   18.5                             Comedy     PG   \n",
       "19998   89.0                      Drama, Comedy      R   \n",
       "19999  100.0                              Drama  PG-13   \n",
       "\n",
       "                                                Synopsis  \n",
       "0      A politician's 13-year-old son has a rare diso...  \n",
       "1      After losing a custody battle, perpetual teena...  \n",
       "2      Allan Karlsson, a 100-year-old explosives expe...  \n",
       "3      Frank Morris (Clint Eastwood), a hardened con ...  \n",
       "4      Tami Oldham and Richard Sharp couldn't anticip...  \n",
       "...                                                  ...  \n",
       "19995  Ashraf (Yousef \"Joe\" Sweid), a Palestinian, me...  \n",
       "19996  Terrorist suspect Abu Zubaydah becomes the fir...  \n",
       "19997  Two friends from Brooklyn (Jerry O'Connell), (...  \n",
       "19998  A young Englishman dreams of escaping from his...  \n",
       "19999  In a provincial Iranian town, the children wor...  \n",
       "\n",
       "[20000 rows x 4 columns]"
      ]
     },
     "execution_count": 5,
     "metadata": {},
     "output_type": "execute_result"
    }
   ],
   "source": [
    "data"
   ]
  },
  {
   "cell_type": "code",
   "execution_count": 6,
   "id": "ea8c2d43",
   "metadata": {},
   "outputs": [],
   "source": [
    "data['Info'] = data['Genre'] + ' ' + data['Rating'] + ' ' + data['Synopsis']"
   ]
  },
  {
   "cell_type": "code",
   "execution_count": 7,
   "id": "9218f84d",
   "metadata": {},
   "outputs": [
    {
     "data": {
      "text/plain": [
       "0        Drama PG-13 A politician's 13-year-old son has...\n",
       "1        Drama, Comedy PG-13 After losing a custody bat...\n",
       "2        Comedy, Adventure R Allan Karlsson, a 100-year...\n",
       "3        Drama, Mystery & thriller, Action PG Frank Mor...\n",
       "4        Drama, Adventure, Romance PG-13 Tami Oldham an...\n",
       "                               ...                        \n",
       "19995    Drama, Lgbtq+ PG-13 Ashraf (Yousef \"Joe\" Sweid...\n",
       "19996    Documentary R Terrorist suspect Abu Zubaydah b...\n",
       "19997    Comedy PG Two friends from Brooklyn (Jerry O'C...\n",
       "19998    Drama, Comedy R A young Englishman dreams of e...\n",
       "19999    Drama PG-13 In a provincial Iranian town, the ...\n",
       "Name: Info, Length: 20000, dtype: object"
      ]
     },
     "execution_count": 7,
     "metadata": {},
     "output_type": "execute_result"
    }
   ],
   "source": [
    "data['Info']"
   ]
  },
  {
   "cell_type": "code",
   "execution_count": 8,
   "id": "eca8533b",
   "metadata": {},
   "outputs": [],
   "source": [
    "# Hàm tiền xử lí dữ liệu text\n",
    "def preprocess_text(text):\n",
    "    text = text.lower() # Chuyển văn bản thành chữ thường\n",
    "    text = re.sub(r'[^\\w\\s]',' ',text) # Xóa dấu câu\n",
    "    text = re.sub(\"\\d+\", \" \", text) # Xóa chữ số\n",
    "    stop = stopwords.words('english') # Xóa các từ không có nghĩa (Stop Words)\n",
    "    text = \" \".join(text for text in text.split() if text not in stop)\n",
    "    return text"
   ]
  },
  {
   "cell_type": "code",
   "execution_count": 9,
   "id": "39f07216",
   "metadata": {},
   "outputs": [],
   "source": [
    "data['Info'] = data['Info'].apply(preprocess_text)"
   ]
  },
  {
   "cell_type": "code",
   "execution_count": 10,
   "id": "ff7329ad",
   "metadata": {},
   "outputs": [],
   "source": [
    "data['Score'] = data['Score']/10"
   ]
  },
  {
   "attachments": {},
   "cell_type": "markdown",
   "id": "4711feb7",
   "metadata": {},
   "source": [
    "# Xây dựng mô hình"
   ]
  },
  {
   "attachments": {},
   "cell_type": "markdown",
   "id": "f2454a8d",
   "metadata": {},
   "source": [
    "## Vector hóa dữ liệu đầu vào bằng TF-IDF"
   ]
  },
  {
   "cell_type": "code",
   "execution_count": 11,
   "id": "06d9e4dc",
   "metadata": {},
   "outputs": [],
   "source": [
    "vectorizer = TfidfVectorizer()\n",
    "features = vectorizer.fit_transform(data['Info'])"
   ]
  },
  {
   "attachments": {},
   "cell_type": "markdown",
   "id": "dfafea5a",
   "metadata": {},
   "source": [
    "# Chọn biến X và Y"
   ]
  },
  {
   "cell_type": "code",
   "execution_count": 12,
   "id": "ded1a459",
   "metadata": {},
   "outputs": [],
   "source": [
    "X = features\n",
    "Y = data['Score']"
   ]
  },
  {
   "attachments": {},
   "cell_type": "markdown",
   "id": "32a5e0fb",
   "metadata": {},
   "source": [
    "# Chia tập dữ liệu thành 2 tập train(80%) và test(20%)"
   ]
  },
  {
   "cell_type": "code",
   "execution_count": 13,
   "id": "192c508f",
   "metadata": {},
   "outputs": [],
   "source": [
    "x_train, x_test, y_train, y_test = train_test_split(X, Y, test_size = 0.2, random_state = 42)"
   ]
  },
  {
   "attachments": {},
   "cell_type": "markdown",
   "id": "5a02c796",
   "metadata": {},
   "source": [
    "# Build model"
   ]
  },
  {
   "cell_type": "code",
   "execution_count": 14,
   "id": "b7d3da77",
   "metadata": {},
   "outputs": [],
   "source": [
    "model = Sequential()\n",
    "model.add(Dense(64, input_dim = x_train.shape[1], activation = 'relu'))\n",
    "model.add(Dropout(0.15))\n",
    "model.add(Dense(64, activation = 'relu'))\n",
    "model.add(Dropout(0.2))\n",
    "model.add(Dense(40, activation = 'relu'))\n",
    "model.add(Dropout(0.15))\n",
    "model.add(Dense(54, activation = 'relu'))\n",
    "model.add(Dropout(0.18))\n",
    "model.add(Dense(1))"
   ]
  },
  {
   "cell_type": "code",
   "execution_count": 15,
   "id": "97c8dbeb",
   "metadata": {},
   "outputs": [],
   "source": [
    "model.compile(optimizer = 'adam', loss = 'mean_squared_error', metrics = ['mse', 'mae'])"
   ]
  },
  {
   "cell_type": "code",
   "execution_count": 16,
   "id": "982b91c3",
   "metadata": {},
   "outputs": [
    {
     "name": "stdout",
     "output_type": "stream",
     "text": [
      "Model: \"sequential\"\n",
      "_________________________________________________________________\n",
      " Layer (type)                Output Shape              Param #   \n",
      "=================================================================\n",
      " dense (Dense)               (None, 64)                3002880   \n",
      "                                                                 \n",
      " dropout (Dropout)           (None, 64)                0         \n",
      "                                                                 \n",
      " dense_1 (Dense)             (None, 64)                4160      \n",
      "                                                                 \n",
      " dropout_1 (Dropout)         (None, 64)                0         \n",
      "                                                                 \n",
      " dense_2 (Dense)             (None, 40)                2600      \n",
      "                                                                 \n",
      " dropout_2 (Dropout)         (None, 40)                0         \n",
      "                                                                 \n",
      " dense_3 (Dense)             (None, 54)                2214      \n",
      "                                                                 \n",
      " dropout_3 (Dropout)         (None, 54)                0         \n",
      "                                                                 \n",
      " dense_4 (Dense)             (None, 1)                 55        \n",
      "                                                                 \n",
      "=================================================================\n",
      "Total params: 3,011,909\n",
      "Trainable params: 3,011,909\n",
      "Non-trainable params: 0\n",
      "_________________________________________________________________\n"
     ]
    }
   ],
   "source": [
    "model.summary()"
   ]
  },
  {
   "cell_type": "code",
   "execution_count": 17,
   "id": "84e51a0e",
   "metadata": {},
   "outputs": [
    {
     "name": "stdout",
     "output_type": "stream",
     "text": [
      "Epoch 1/20\n",
      "450/450 [==============================] - 14s 29ms/step - loss: 8.9196 - mse: 8.9196 - mae: 2.3400 - val_loss: 4.3076 - val_mse: 4.3076 - val_mae: 1.7296\n",
      "Epoch 2/20\n",
      "450/450 [==============================] - 13s 28ms/step - loss: 3.5682 - mse: 3.5682 - mae: 1.5208 - val_loss: 4.1799 - val_mse: 4.1799 - val_mae: 1.6575\n",
      "Epoch 3/20\n",
      "450/450 [==============================] - 12s 28ms/step - loss: 2.4186 - mse: 2.4186 - mae: 1.2298 - val_loss: 4.4642 - val_mse: 4.4642 - val_mae: 1.7085\n",
      "Epoch 4/20\n",
      "450/450 [==============================] - 13s 28ms/step - loss: 1.7573 - mse: 1.7573 - mae: 1.0379 - val_loss: 4.8783 - val_mse: 4.8783 - val_mae: 1.7804\n",
      "Epoch 5/20\n",
      "450/450 [==============================] - 13s 28ms/step - loss: 1.3531 - mse: 1.3531 - mae: 0.9122 - val_loss: 5.0127 - val_mse: 5.0127 - val_mae: 1.7819\n",
      "Epoch 6/20\n",
      "450/450 [==============================] - 14s 30ms/step - loss: 1.1457 - mse: 1.1457 - mae: 0.8443 - val_loss: 5.1800 - val_mse: 5.1800 - val_mae: 1.8072\n",
      "Epoch 7/20\n",
      "450/450 [==============================] - 13s 29ms/step - loss: 1.0074 - mse: 1.0074 - mae: 0.7904 - val_loss: 5.2421 - val_mse: 5.2421 - val_mae: 1.8338\n",
      "Epoch 8/20\n",
      "450/450 [==============================] - 13s 28ms/step - loss: 0.9191 - mse: 0.9191 - mae: 0.7587 - val_loss: 5.1213 - val_mse: 5.1213 - val_mae: 1.8011\n",
      "Epoch 9/20\n",
      "450/450 [==============================] - 12s 28ms/step - loss: 0.8604 - mse: 0.8604 - mae: 0.7278 - val_loss: 5.2118 - val_mse: 5.2118 - val_mae: 1.8266\n",
      "Epoch 10/20\n",
      "450/450 [==============================] - 12s 27ms/step - loss: 0.7744 - mse: 0.7744 - mae: 0.6953 - val_loss: 5.2365 - val_mse: 5.2365 - val_mae: 1.8281\n",
      "Epoch 11/20\n",
      "450/450 [==============================] - 12s 27ms/step - loss: 0.7106 - mse: 0.7106 - mae: 0.6625 - val_loss: 5.2300 - val_mse: 5.2300 - val_mae: 1.8275\n",
      "Epoch 12/20\n",
      "450/450 [==============================] - 12s 28ms/step - loss: 0.6750 - mse: 0.6750 - mae: 0.6446 - val_loss: 5.0890 - val_mse: 5.0890 - val_mae: 1.8160\n",
      "Epoch 13/20\n",
      "450/450 [==============================] - 12s 27ms/step - loss: 0.6576 - mse: 0.6576 - mae: 0.6346 - val_loss: 5.1159 - val_mse: 5.1159 - val_mae: 1.8067\n",
      "Epoch 14/20\n",
      "450/450 [==============================] - 13s 30ms/step - loss: 0.6160 - mse: 0.6160 - mae: 0.6170 - val_loss: 5.0449 - val_mse: 5.0449 - val_mae: 1.8063\n",
      "Epoch 15/20\n",
      "450/450 [==============================] - 13s 28ms/step - loss: 0.5966 - mse: 0.5966 - mae: 0.6068 - val_loss: 5.0458 - val_mse: 5.0458 - val_mae: 1.8009\n",
      "Epoch 16/20\n",
      "450/450 [==============================] - 12s 28ms/step - loss: 0.5592 - mse: 0.5592 - mae: 0.5842 - val_loss: 4.9045 - val_mse: 4.9045 - val_mae: 1.7867\n",
      "Epoch 17/20\n",
      "450/450 [==============================] - 12s 27ms/step - loss: 0.5505 - mse: 0.5505 - mae: 0.5821 - val_loss: 5.2164 - val_mse: 5.2164 - val_mae: 1.8249\n",
      "Epoch 18/20\n",
      "450/450 [==============================] - 12s 27ms/step - loss: 0.5235 - mse: 0.5235 - mae: 0.5664 - val_loss: 5.0270 - val_mse: 5.0270 - val_mae: 1.7907\n",
      "Epoch 19/20\n",
      "450/450 [==============================] - 13s 29ms/step - loss: 0.4939 - mse: 0.4939 - mae: 0.5487 - val_loss: 5.1287 - val_mse: 5.1287 - val_mae: 1.8091\n",
      "Epoch 20/20\n",
      "450/450 [==============================] - 12s 28ms/step - loss: 0.4722 - mse: 0.4722 - mae: 0.5379 - val_loss: 5.1079 - val_mse: 5.1079 - val_mae: 1.8086\n"
     ]
    },
    {
     "data": {
      "text/plain": [
       "<keras.callbacks.History at 0x1ea72433580>"
      ]
     },
     "execution_count": 17,
     "metadata": {},
     "output_type": "execute_result"
    }
   ],
   "source": [
    "model.fit(x_train.todense(), y_train, validation_split=0.1, epochs=20)"
   ]
  },
  {
   "attachments": {},
   "cell_type": "markdown",
   "id": "03b7c6fd",
   "metadata": {},
   "source": [
    "# Dự đoán điểm phim"
   ]
  },
  {
   "cell_type": "code",
   "execution_count": 31,
   "id": "2153d9dd",
   "metadata": {},
   "outputs": [],
   "source": [
    "# Thể loại phim\n",
    "genre = input('Thể loại phim:')\n",
    "genre_vector = []\n",
    "\n",
    "# Rating phim\n",
    "rating = input('Rating phim:')\n",
    "\n",
    "\n",
    "# Tóm tắt phim\n",
    "synopsis = input('Tóm tắt phim:')"
   ]
  },
  {
   "cell_type": "code",
   "execution_count": 32,
   "id": "fd649564",
   "metadata": {},
   "outputs": [
    {
     "name": "stdout",
     "output_type": "stream",
     "text": [
      "1/1 [==============================] - 0s 17ms/step\n",
      "[[9.206136]]\n"
     ]
    }
   ],
   "source": [
    "# Dự đoán\n",
    "text = genre + ' ' + rating + ' ' + synopsis\n",
    "info_vector = vectorizer.transform([preprocess_text(text)])\n",
    "\n",
    "predict = model.predict(info_vector.todense())\n",
    "print(predict)"
   ]
  },
  {
   "cell_type": "code",
   "execution_count": null,
   "id": "c076a497",
   "metadata": {},
   "outputs": [],
   "source": []
  }
 ],
 "metadata": {
  "kernelspec": {
   "display_name": "Python 3 (ipykernel)",
   "language": "python",
   "name": "python3"
  },
  "language_info": {
   "codemirror_mode": {
    "name": "ipython",
    "version": 3
   },
   "file_extension": ".py",
   "mimetype": "text/x-python",
   "name": "python",
   "nbconvert_exporter": "python",
   "pygments_lexer": "ipython3",
   "version": "3.9.0"
  }
 },
 "nbformat": 4,
 "nbformat_minor": 5
}
