{
 "cells": [
  {
   "cell_type": "code",
   "execution_count": 2,
   "metadata": {},
   "outputs": [],
   "source": [
    "from selenium import webdriver\n",
    "from requests import get\n",
    "from bs4 import BeautifulSoup\n",
    "import pandas as pd\n",
    "import numpy as np\n",
    "from time import sleep\n",
    "from selenium import webdriver\n",
    "from selenium.webdriver.common.keys import Keys\n",
    "from selenium.webdriver.support.ui import WebDriverWait\n",
    "from selenium.webdriver.support import expected_conditions as EC\n",
    "from selenium.webdriver.common.by import By\n",
    "from selenium.webdriver.common.action_chains import ActionChains\n",
    "import re"
   ]
  },
  {
   "cell_type": "code",
   "execution_count": 2,
   "metadata": {},
   "outputs": [
    {
     "name": "stderr",
     "output_type": "stream",
     "text": [
      "C:\\Users\\Nguyen Quang Tu\\AppData\\Local\\Temp\\ipykernel_14952\\397742964.py:6: DeprecationWarning: executable_path has been deprecated, please pass in a Service object\n",
      "  driver = webdriver.Chrome(executable_path='C:\\chromedriver', options=options)\n"
     ]
    }
   ],
   "source": [
    "# Mở trình duyệt Google Chrome ở trang thái Tab ẩn danh\n",
    "options = webdriver.ChromeOptions()\n",
    "options.add_argument('--ignore-certificate-errors')\n",
    "# options.add_argument('--incognito')\n",
    "options.add_argument(\"--start-maximized\")\n",
    "driver = webdriver.Chrome(executable_path='C:\\chromedriver', options=options)\n",
    "driver.implicitly_wait(0)\n",
    "actions = ActionChains(driver)"
   ]
  },
  {
   "cell_type": "code",
   "execution_count": 3,
   "metadata": {},
   "outputs": [],
   "source": [
    "url = \"https://twitter.com/login\"\n",
    "driver.get(url)"
   ]
  },
  {
   "cell_type": "code",
   "execution_count": 4,
   "metadata": {},
   "outputs": [],
   "source": [
    "element = WebDriverWait(driver, 600).until(EC.presence_of_element_located((By.CSS_SELECTOR, 'input[autocomplete=\"username\"]')))\n",
    "html_of_interest = driver.execute_script('return arguments[0].innerHTML',element)\n",
    "soup = BeautifulSoup(html_of_interest, 'lxml')\n",
    "\n",
    "sleep(1)\n",
    "driver.find_element(By.CSS_SELECTOR, 'input[autocomplete=\"username\"]').send_keys('cap246k291@gmail.com')\n",
    "actions.send_keys(Keys.ENTER)\n",
    "actions.perform()\n",
    "\n",
    "sleep(5)\n",
    "try:\n",
    "    driver.find_element(By.CSS_SELECTOR, 'input[autocapitalize=\"none\"]').send_keys('@cap246k291')\n",
    "    actions.send_keys(Keys.ENTER)\n",
    "    actions.perform()\n",
    "except:\n",
    "    pass\n",
    "\n",
    "sleep(5)\n",
    "\n",
    "driver.find_element(By.CSS_SELECTOR, 'input[autocomplete=\"current-password\"]').send_keys('cap2@2023')\n",
    "actions.send_keys(Keys.ENTER)\n",
    "actions.perform()\n",
    "\n",
    "sleep(5)"
   ]
  },
  {
   "cell_type": "code",
   "execution_count": 5,
   "metadata": {},
   "outputs": [
    {
     "name": "stdout",
     "output_type": "stream",
     "text": [
      "GUARDIANSOFTHEGALAXYVOL.3\n"
     ]
    }
   ],
   "source": [
    "name_film = input('Nhập tên phim:').replace(' ', '')\n",
    "print(name_film)\n",
    "\n",
    "\n",
    "driver.find_element(By.CSS_SELECTOR, 'input[aria-label=\"Search query\"]').send_keys('(#%s) lang:en'%name_film)\n",
    "actions.send_keys(Keys.ENTER)\n",
    "actions.perform()\n",
    "\n",
    "list_tweet = []\n",
    "\n",
    "while len(list(set(list_tweet))) < 100:\n",
    "    element = WebDriverWait(driver, 600).until(EC.presence_of_element_located((By.CSS_SELECTOR, 'div[aria-label=\"Timeline: Search timeline\"]')))\n",
    "    html_of_interest = driver.execute_script('return arguments[0].innerHTML',element)\n",
    "    soup = BeautifulSoup(html_of_interest, 'lxml')\n",
    "\n",
    "    rv = soup.select('div[data-testid=\"tweetText\"]')\n",
    "    for i in rv:\n",
    "        list_tweet.append(i.text)\n",
    "    \n",
    "    a = driver.find_elements(By.CSS_SELECTOR, 'div[data-testid=\"tweetText\"]')\n",
    "    a[-1].location_once_scrolled_into_view\n",
    "\n",
    "    sleep(3)"
   ]
  },
  {
   "cell_type": "code",
   "execution_count": 6,
   "metadata": {},
   "outputs": [
    {
     "data": {
      "text/html": [
       "<div>\n",
       "<style scoped>\n",
       "    .dataframe tbody tr th:only-of-type {\n",
       "        vertical-align: middle;\n",
       "    }\n",
       "\n",
       "    .dataframe tbody tr th {\n",
       "        vertical-align: top;\n",
       "    }\n",
       "\n",
       "    .dataframe thead th {\n",
       "        text-align: right;\n",
       "    }\n",
       "</style>\n",
       "<table border=\"1\" class=\"dataframe\">\n",
       "  <thead>\n",
       "    <tr style=\"text-align: right;\">\n",
       "      <th></th>\n",
       "      <th>Tweet</th>\n",
       "    </tr>\n",
       "  </thead>\n",
       "  <tbody>\n",
       "    <tr>\n",
       "      <th>0</th>\n",
       "      <td>#GuardiansoftheGalaxyVol.3 is an upcoming #Ame...</td>\n",
       "    </tr>\n",
       "    <tr>\n",
       "      <th>1</th>\n",
       "      <td>Guardians 3: Kraglin's Story Ain't Done Yet......</td>\n",
       "    </tr>\n",
       "    <tr>\n",
       "      <th>2</th>\n",
       "      <td>COMING SOON \\n\\n Title: Guardians of the Gala...</td>\n",
       "    </tr>\n",
       "    <tr>\n",
       "      <th>3</th>\n",
       "      <td>Bumblebee Helmer Travis Knight Shoots Down Gua...</td>\n",
       "    </tr>\n",
       "    <tr>\n",
       "      <th>4</th>\n",
       "      <td>#GuardiansOfTheGalaxyVol 3 will be \"just gigan...</td>\n",
       "    </tr>\n",
       "    <tr>\n",
       "      <th>...</th>\n",
       "      <td>...</td>\n",
       "    </tr>\n",
       "    <tr>\n",
       "      <th>95</th>\n",
       "      <td>Theatrical Release Schedule 2023: MISSION IMPO...</td>\n",
       "    </tr>\n",
       "    <tr>\n",
       "      <th>96</th>\n",
       "      <td>Chris Hemsworth Could Make $15M To $20M Per Mo...</td>\n",
       "    </tr>\n",
       "    <tr>\n",
       "      <th>97</th>\n",
       "      <td>9 - Guardians of the Galaxy Volume 3: Will Pou...</td>\n",
       "    </tr>\n",
       "    <tr>\n",
       "      <th>98</th>\n",
       "      <td>RUMOR: Marvel Eyeing Bumblebee Helmer For Guar...</td>\n",
       "    </tr>\n",
       "    <tr>\n",
       "      <th>99</th>\n",
       "      <td>#GuardiansOfTheGalaxy was so clearly well plot...</td>\n",
       "    </tr>\n",
       "  </tbody>\n",
       "</table>\n",
       "<p>100 rows × 1 columns</p>\n",
       "</div>"
      ],
      "text/plain": [
       "                                                Tweet\n",
       "0   #GuardiansoftheGalaxyVol.3 is an upcoming #Ame...\n",
       "1   Guardians 3: Kraglin's Story Ain't Done Yet......\n",
       "2    COMING SOON \\n\\n Title: Guardians of the Gala...\n",
       "3   Bumblebee Helmer Travis Knight Shoots Down Gua...\n",
       "4   #GuardiansOfTheGalaxyVol 3 will be \"just gigan...\n",
       "..                                                ...\n",
       "95  Theatrical Release Schedule 2023: MISSION IMPO...\n",
       "96  Chris Hemsworth Could Make $15M To $20M Per Mo...\n",
       "97  9 - Guardians of the Galaxy Volume 3: Will Pou...\n",
       "98  RUMOR: Marvel Eyeing Bumblebee Helmer For Guar...\n",
       "99  #GuardiansOfTheGalaxy was so clearly well plot...\n",
       "\n",
       "[100 rows x 1 columns]"
      ]
     },
     "execution_count": 6,
     "metadata": {},
     "output_type": "execute_result"
    }
   ],
   "source": [
    "df = pd.DataFrame(list(set(list_tweet)), columns=['Tweet'])\n",
    "df"
   ]
  },
  {
   "cell_type": "code",
   "execution_count": 7,
   "metadata": {},
   "outputs": [],
   "source": [
    "df.to_csv('rv.csv', index=False)"
   ]
  },
  {
   "cell_type": "code",
   "execution_count": null,
   "metadata": {},
   "outputs": [],
   "source": []
  }
 ],
 "metadata": {
  "kernelspec": {
   "display_name": "Python 3",
   "language": "python",
   "name": "python3"
  },
  "language_info": {
   "codemirror_mode": {
    "name": "ipython",
    "version": 3
   },
   "file_extension": ".py",
   "mimetype": "text/x-python",
   "name": "python",
   "nbconvert_exporter": "python",
   "pygments_lexer": "ipython3",
   "version": "3.9.0"
  },
  "orig_nbformat": 4
 },
 "nbformat": 4,
 "nbformat_minor": 2
}
