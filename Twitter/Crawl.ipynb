{
 "cells": [
  {
   "cell_type": "code",
   "execution_count": 179,
   "metadata": {},
   "outputs": [],
   "source": [
    "from selenium import webdriver\n",
    "from requests import get\n",
    "from bs4 import BeautifulSoup\n",
    "import bs4\n",
    "import pandas as pd\n",
    "import numpy as np\n",
    "from time import sleep\n",
    "from random import randint\n",
    "from time import time\n",
    "from warnings import warn\n",
    "from datetime import datetime\n",
    "from datetime import timedelta\n",
    "from pytz import timezone\n",
    "from IPython.display import clear_output\n",
    "from selenium import webdriver\n",
    "from selenium.webdriver.common.keys import Keys\n",
    "from selenium.webdriver.support.ui import WebDriverWait\n",
    "from selenium.webdriver.support import expected_conditions as EC\n",
    "from selenium.webdriver.common.by import By\n",
    "from selenium.common.exceptions import TimeoutException\n",
    "from selenium.common.exceptions import StaleElementReferenceException\n",
    "from selenium.webdriver.common.action_chains import ActionChains\n",
    "import re\n",
    "import os\n",
    "import sys\n",
    "import glob\n",
    "import shutil\n",
    "from pathlib import Path\n",
    "import re"
   ]
  },
  {
   "cell_type": "code",
   "execution_count": 180,
   "metadata": {},
   "outputs": [
    {
     "name": "stderr",
     "output_type": "stream",
     "text": [
      "C:\\Users\\Nguyen Quang Tu\\AppData\\Local\\Temp\\ipykernel_15652\\397742964.py:6: DeprecationWarning: executable_path has been deprecated, please pass in a Service object\n",
      "  driver = webdriver.Chrome(executable_path='C:\\chromedriver', options=options)\n"
     ]
    }
   ],
   "source": [
    "# Mở trình duyệt Google Chrome ở trang thái Tab ẩn danh\n",
    "options = webdriver.ChromeOptions()\n",
    "options.add_argument('--ignore-certificate-errors')\n",
    "# options.add_argument('--incognito')\n",
    "options.add_argument(\"--start-maximized\")\n",
    "driver = webdriver.Chrome(executable_path='C:\\chromedriver', options=options)\n",
    "driver.implicitly_wait(0)\n",
    "actions = ActionChains(driver)"
   ]
  },
  {
   "cell_type": "code",
   "execution_count": 181,
   "metadata": {},
   "outputs": [],
   "source": [
    "url = \"https://twitter.com/login\"\n",
    "driver.get(url)"
   ]
  },
  {
   "cell_type": "code",
   "execution_count": 182,
   "metadata": {},
   "outputs": [],
   "source": [
    "element = WebDriverWait(driver, 600).until(EC.presence_of_element_located((By.CSS_SELECTOR, 'input[autocomplete=\"username\"]')))\n",
    "html_of_interest = driver.execute_script('return arguments[0].innerHTML',element)\n",
    "soup = BeautifulSoup(html_of_interest, 'lxml')\n",
    "\n",
    "driver.find_element(By.CSS_SELECTOR, 'input[autocomplete=\"username\"]').send_keys('tupro1711@gmail.com')\n",
    "actions.send_keys(Keys.ENTER)\n",
    "actions.perform()\n",
    "\n",
    "sleep(5)\n",
    "\n",
    "driver.find_element(By.CSS_SELECTOR, 'input[autocomplete=\"current-password\"]').send_keys('tu17112002')\n",
    "actions.send_keys(Keys.ENTER)\n",
    "actions.perform()\n",
    "\n",
    "sleep(5)\n",
    "\n",
    "driver.find_element(By.CSS_SELECTOR, 'input[aria-label=\"Search query\"]').send_keys('(#johnwick4) lang:en')\n",
    "actions.send_keys(Keys.ENTER)\n",
    "actions.perform()"
   ]
  },
  {
   "cell_type": "code",
   "execution_count": null,
   "metadata": {},
   "outputs": [],
   "source": [
    "element = WebDriverWait(driver, 600).until(EC.presence_of_element_located((By.CSS_SELECTOR, 'input[autocomplete=\"username\"]')))\n",
    "html_of_interest = driver.execute_script('return arguments[0].innerHTML',element)\n",
    "soup = BeautifulSoup(html_of_interest, 'lxml')"
   ]
  }
 ],
 "metadata": {
  "kernelspec": {
   "display_name": "Python 3",
   "language": "python",
   "name": "python3"
  },
  "language_info": {
   "codemirror_mode": {
    "name": "ipython",
    "version": 3
   },
   "file_extension": ".py",
   "mimetype": "text/x-python",
   "name": "python",
   "nbconvert_exporter": "python",
   "pygments_lexer": "ipython3",
   "version": "3.9.0"
  },
  "orig_nbformat": 4
 },
 "nbformat": 4,
 "nbformat_minor": 2
}
