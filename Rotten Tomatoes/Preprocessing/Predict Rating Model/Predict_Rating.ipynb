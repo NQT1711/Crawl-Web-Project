{
 "cells": [
  {
   "cell_type": "code",
   "execution_count": 1,
   "metadata": {},
   "outputs": [],
   "source": [
    "import pandas as pd\n",
    "import numpy as np\n",
    "import tensorflow as tf\n",
    "import regex as re\n",
    "from nltk.corpus import stopwords"
   ]
  },
  {
   "cell_type": "code",
   "execution_count": 2,
   "metadata": {},
   "outputs": [],
   "source": [
    "movie = pd.read_csv('..\\Data\\movie_info.csv')"
   ]
  },
  {
   "cell_type": "code",
   "execution_count": 3,
   "metadata": {},
   "outputs": [],
   "source": [
    "movie = movie[['Rating', 'Synopsis']].dropna().reset_index(drop=True)"
   ]
  },
  {
   "cell_type": "code",
   "execution_count": 4,
   "metadata": {},
   "outputs": [],
   "source": [
    "for i in range(len(movie)):\n",
    "    movie['Rating'].iloc[i] = movie['Rating'].iloc[i].split(' ')[0]"
   ]
  },
  {
   "cell_type": "code",
   "execution_count": 5,
   "metadata": {},
   "outputs": [],
   "source": [
    "for i in range(len(movie)):\n",
    "    text = movie['Synopsis'].iloc[i]\n",
    "\n",
    "    text = text.lower()\n",
    "    text = re.sub(r'[^\\w\\s]',' ',text)\n",
    "    text = re.sub(\"\\d+\", \" \", text)\n",
    "    stop = stopwords.words('english')\n",
    "    text = \" \".join(text for text in text.split() if text not in stop)\n",
    "\n",
    "    movie['Synopsis'].iloc[i] = text"
   ]
  },
  {
   "cell_type": "code",
   "execution_count": 6,
   "metadata": {},
   "outputs": [
    {
     "data": {
      "text/html": [
       "<div>\n",
       "<style scoped>\n",
       "    .dataframe tbody tr th:only-of-type {\n",
       "        vertical-align: middle;\n",
       "    }\n",
       "\n",
       "    .dataframe tbody tr th {\n",
       "        vertical-align: top;\n",
       "    }\n",
       "\n",
       "    .dataframe thead th {\n",
       "        text-align: right;\n",
       "    }\n",
       "</style>\n",
       "<table border=\"1\" class=\"dataframe\">\n",
       "  <thead>\n",
       "    <tr style=\"text-align: right;\">\n",
       "      <th></th>\n",
       "      <th>Rating</th>\n",
       "      <th>Synopsis</th>\n",
       "    </tr>\n",
       "  </thead>\n",
       "  <tbody>\n",
       "    <tr>\n",
       "      <th>0</th>\n",
       "      <td>R</td>\n",
       "      <td>allan karlsson year old explosives expert esca...</td>\n",
       "    </tr>\n",
       "    <tr>\n",
       "      <th>1</th>\n",
       "      <td>PG</td>\n",
       "      <td>frank morris clint eastwood hardened con histo...</td>\n",
       "    </tr>\n",
       "    <tr>\n",
       "      <th>2</th>\n",
       "      <td>PG-13</td>\n",
       "      <td>tami oldham richard sharp anticipate would sai...</td>\n",
       "    </tr>\n",
       "    <tr>\n",
       "      <th>3</th>\n",
       "      <td>PG</td>\n",
       "      <td>billy crystal stars sammy agitated agent lost ...</td>\n",
       "    </tr>\n",
       "    <tr>\n",
       "      <th>4</th>\n",
       "      <td>PG-13</td>\n",
       "      <td>challenges impending parenthood turn lives fiv...</td>\n",
       "    </tr>\n",
       "    <tr>\n",
       "      <th>...</th>\n",
       "      <td>...</td>\n",
       "      <td>...</td>\n",
       "    </tr>\n",
       "    <tr>\n",
       "      <th>15654</th>\n",
       "      <td>PG-13</td>\n",
       "      <td>last summer middle school comes close four bes...</td>\n",
       "    </tr>\n",
       "    <tr>\n",
       "      <th>15655</th>\n",
       "      <td>PG-13</td>\n",
       "      <td>buffy summers kristy swanson nothing meets mer...</td>\n",
       "    </tr>\n",
       "    <tr>\n",
       "      <th>15656</th>\n",
       "      <td>R</td>\n",
       "      <td>clown killed party mishap comes back dead seek...</td>\n",
       "    </tr>\n",
       "    <tr>\n",
       "      <th>15657</th>\n",
       "      <td>PG</td>\n",
       "      <td>sequel dreamworks animation oscar nominated bl...</td>\n",
       "    </tr>\n",
       "    <tr>\n",
       "      <th>15658</th>\n",
       "      <td>R</td>\n",
       "      <td>distraught man james coburn embarks cross coun...</td>\n",
       "    </tr>\n",
       "  </tbody>\n",
       "</table>\n",
       "<p>15659 rows × 2 columns</p>\n",
       "</div>"
      ],
      "text/plain": [
       "      Rating                                           Synopsis\n",
       "0          R  allan karlsson year old explosives expert esca...\n",
       "1         PG  frank morris clint eastwood hardened con histo...\n",
       "2      PG-13  tami oldham richard sharp anticipate would sai...\n",
       "3         PG  billy crystal stars sammy agitated agent lost ...\n",
       "4      PG-13  challenges impending parenthood turn lives fiv...\n",
       "...      ...                                                ...\n",
       "15654  PG-13  last summer middle school comes close four bes...\n",
       "15655  PG-13  buffy summers kristy swanson nothing meets mer...\n",
       "15656      R  clown killed party mishap comes back dead seek...\n",
       "15657     PG  sequel dreamworks animation oscar nominated bl...\n",
       "15658      R  distraught man james coburn embarks cross coun...\n",
       "\n",
       "[15659 rows x 2 columns]"
      ]
     },
     "execution_count": 6,
     "metadata": {},
     "output_type": "execute_result"
    }
   ],
   "source": [
    "movie"
   ]
  },
  {
   "cell_type": "code",
   "execution_count": 7,
   "metadata": {},
   "outputs": [
    {
     "data": {
      "text/plain": [
       "array([4, 2, 3, ..., 4, 2, 4])"
      ]
     },
     "execution_count": 7,
     "metadata": {},
     "output_type": "execute_result"
    }
   ],
   "source": [
    "from sklearn.preprocessing import LabelEncoder\n",
    "\n",
    "encoder = LabelEncoder()\n",
    "labels = encoder.fit_transform(movie['Rating'].values)\n",
    "labels"
   ]
  },
  {
   "cell_type": "code",
   "execution_count": 8,
   "metadata": {},
   "outputs": [
    {
     "data": {
      "text/plain": [
       "array(['G', 'NC-17', 'PG', 'PG-13', 'R', 'TV14', 'TVG', 'TVMA', 'TVPG',\n",
       "       'TVY7'], dtype=object)"
      ]
     },
     "execution_count": 8,
     "metadata": {},
     "output_type": "execute_result"
    }
   ],
   "source": [
    "encoder.classes_"
   ]
  },
  {
   "cell_type": "code",
   "execution_count": 9,
   "metadata": {},
   "outputs": [
    {
     "data": {
      "text/html": [
       "<div>\n",
       "<style scoped>\n",
       "    .dataframe tbody tr th:only-of-type {\n",
       "        vertical-align: middle;\n",
       "    }\n",
       "\n",
       "    .dataframe tbody tr th {\n",
       "        vertical-align: top;\n",
       "    }\n",
       "\n",
       "    .dataframe thead th {\n",
       "        text-align: right;\n",
       "    }\n",
       "</style>\n",
       "<table border=\"1\" class=\"dataframe\">\n",
       "  <thead>\n",
       "    <tr style=\"text-align: right;\">\n",
       "      <th></th>\n",
       "      <th>Rating</th>\n",
       "      <th>Synopsis</th>\n",
       "      <th>label</th>\n",
       "    </tr>\n",
       "  </thead>\n",
       "  <tbody>\n",
       "    <tr>\n",
       "      <th>0</th>\n",
       "      <td>R</td>\n",
       "      <td>allan karlsson year old explosives expert esca...</td>\n",
       "      <td>4</td>\n",
       "    </tr>\n",
       "    <tr>\n",
       "      <th>1</th>\n",
       "      <td>PG</td>\n",
       "      <td>frank morris clint eastwood hardened con histo...</td>\n",
       "      <td>2</td>\n",
       "    </tr>\n",
       "    <tr>\n",
       "      <th>2</th>\n",
       "      <td>PG-13</td>\n",
       "      <td>tami oldham richard sharp anticipate would sai...</td>\n",
       "      <td>3</td>\n",
       "    </tr>\n",
       "    <tr>\n",
       "      <th>3</th>\n",
       "      <td>PG</td>\n",
       "      <td>billy crystal stars sammy agitated agent lost ...</td>\n",
       "      <td>2</td>\n",
       "    </tr>\n",
       "    <tr>\n",
       "      <th>4</th>\n",
       "      <td>PG-13</td>\n",
       "      <td>challenges impending parenthood turn lives fiv...</td>\n",
       "      <td>3</td>\n",
       "    </tr>\n",
       "    <tr>\n",
       "      <th>...</th>\n",
       "      <td>...</td>\n",
       "      <td>...</td>\n",
       "      <td>...</td>\n",
       "    </tr>\n",
       "    <tr>\n",
       "      <th>15654</th>\n",
       "      <td>PG-13</td>\n",
       "      <td>last summer middle school comes close four bes...</td>\n",
       "      <td>3</td>\n",
       "    </tr>\n",
       "    <tr>\n",
       "      <th>15655</th>\n",
       "      <td>PG-13</td>\n",
       "      <td>buffy summers kristy swanson nothing meets mer...</td>\n",
       "      <td>3</td>\n",
       "    </tr>\n",
       "    <tr>\n",
       "      <th>15656</th>\n",
       "      <td>R</td>\n",
       "      <td>clown killed party mishap comes back dead seek...</td>\n",
       "      <td>4</td>\n",
       "    </tr>\n",
       "    <tr>\n",
       "      <th>15657</th>\n",
       "      <td>PG</td>\n",
       "      <td>sequel dreamworks animation oscar nominated bl...</td>\n",
       "      <td>2</td>\n",
       "    </tr>\n",
       "    <tr>\n",
       "      <th>15658</th>\n",
       "      <td>R</td>\n",
       "      <td>distraught man james coburn embarks cross coun...</td>\n",
       "      <td>4</td>\n",
       "    </tr>\n",
       "  </tbody>\n",
       "</table>\n",
       "<p>15659 rows × 3 columns</p>\n",
       "</div>"
      ],
      "text/plain": [
       "      Rating                                           Synopsis  label\n",
       "0          R  allan karlsson year old explosives expert esca...      4\n",
       "1         PG  frank morris clint eastwood hardened con histo...      2\n",
       "2      PG-13  tami oldham richard sharp anticipate would sai...      3\n",
       "3         PG  billy crystal stars sammy agitated agent lost ...      2\n",
       "4      PG-13  challenges impending parenthood turn lives fiv...      3\n",
       "...      ...                                                ...    ...\n",
       "15654  PG-13  last summer middle school comes close four bes...      3\n",
       "15655  PG-13  buffy summers kristy swanson nothing meets mer...      3\n",
       "15656      R  clown killed party mishap comes back dead seek...      4\n",
       "15657     PG  sequel dreamworks animation oscar nominated bl...      2\n",
       "15658      R  distraught man james coburn embarks cross coun...      4\n",
       "\n",
       "[15659 rows x 3 columns]"
      ]
     },
     "execution_count": 9,
     "metadata": {},
     "output_type": "execute_result"
    }
   ],
   "source": [
    "movie['label'] = labels\n",
    "movie"
   ]
  },
  {
   "attachments": {},
   "cell_type": "markdown",
   "metadata": {},
   "source": [
    "## Chia tập train và test"
   ]
  },
  {
   "cell_type": "code",
   "execution_count": 10,
   "metadata": {},
   "outputs": [],
   "source": [
    "from sklearn.model_selection import train_test_split\n",
    "\n",
    "x_train, x_test, y_train, y_test = train_test_split(movie['Synopsis'].values, movie['label'].values, test_size = 0.3, random_state = 0)"
   ]
  },
  {
   "cell_type": "code",
   "execution_count": 11,
   "metadata": {},
   "outputs": [],
   "source": [
    "from sklearn.feature_extraction.text import TfidfVectorizer\n",
    "\n",
    "vectorizer = TfidfVectorizer()\n",
    "features = vectorizer.fit_transform(x_train) # training vector TF-IDF pada tiap data\n",
    "features_test = vectorizer.transform(x_test)"
   ]
  },
  {
   "cell_type": "code",
   "execution_count": 12,
   "metadata": {},
   "outputs": [],
   "source": [
    "from keras.models import Sequential\n",
    "from keras.layers import Flatten, Dense, Softmax, Dropout\n",
    "\n",
    "model = Sequential()\n",
    "model.add(Dense(256, input_shape = (features.shape[1],), activation = 'relu'))\n",
    "model.add(Dense(128, activation = 'relu'))\n",
    "model.add(Dense(128, activation = 'sigmoid'))\n",
    "model.add(Dense(128, activation = 'relu'))\n",
    "model.add(Dense(128, activation = 'sigmoid'))\n",
    "model.add(Dropout(0.2))\n",
    "model.add(Dense(19))\n",
    "model.add(Softmax())"
   ]
  },
  {
   "cell_type": "code",
   "execution_count": 13,
   "metadata": {},
   "outputs": [],
   "source": [
    "callback = tf.keras.callbacks.EarlyStopping(monitor='accuracy', min_delta=0.2, patience=2, restore_best_weights=True)\n",
    "\n",
    "model.compile(optimizer = 'adam',\n",
    "              loss='sparse_categorical_crossentropy',\n",
    "              metrics=['accuracy'])"
   ]
  },
  {
   "cell_type": "code",
   "execution_count": 14,
   "metadata": {},
   "outputs": [
    {
     "name": "stdout",
     "output_type": "stream",
     "text": [
      "Model: \"sequential\"\n",
      "_________________________________________________________________\n",
      " Layer (type)                Output Shape              Param #   \n",
      "=================================================================\n",
      " dense (Dense)               (None, 256)               9199104   \n",
      "                                                                 \n",
      " dense_1 (Dense)             (None, 128)               32896     \n",
      "                                                                 \n",
      " dense_2 (Dense)             (None, 128)               16512     \n",
      "                                                                 \n",
      " dense_3 (Dense)             (None, 128)               16512     \n",
      "                                                                 \n",
      " dense_4 (Dense)             (None, 128)               16512     \n",
      "                                                                 \n",
      " dropout (Dropout)           (None, 128)               0         \n",
      "                                                                 \n",
      " dense_5 (Dense)             (None, 19)                2451      \n",
      "                                                                 \n",
      " softmax (Softmax)           (None, 19)                0         \n",
      "                                                                 \n",
      "=================================================================\n",
      "Total params: 9,283,987\n",
      "Trainable params: 9,283,987\n",
      "Non-trainable params: 0\n",
      "_________________________________________________________________\n"
     ]
    }
   ],
   "source": [
    "model.summary()"
   ]
  },
  {
   "cell_type": "code",
   "execution_count": 15,
   "metadata": {},
   "outputs": [
    {
     "name": "stdout",
     "output_type": "stream",
     "text": [
      "Epoch 1/10\n",
      "343/343 [==============================] - 27s 76ms/step - loss: 1.2501 - accuracy: 0.5239 - val_loss: 1.0958 - val_accuracy: 0.5802\n",
      "Epoch 2/10\n",
      "343/343 [==============================] - 26s 77ms/step - loss: 0.8370 - accuracy: 0.6857 - val_loss: 1.2235 - val_accuracy: 0.5200\n",
      "Epoch 3/10\n",
      "343/343 [==============================] - 28s 80ms/step - loss: 0.5108 - accuracy: 0.8425 - val_loss: 1.6177 - val_accuracy: 0.5130\n",
      "Epoch 4/10\n",
      "343/343 [==============================] - 27s 78ms/step - loss: 0.3300 - accuracy: 0.9103 - val_loss: 1.9791 - val_accuracy: 0.5264\n",
      "Epoch 5/10\n",
      "343/343 [==============================] - 27s 80ms/step - loss: 0.2236 - accuracy: 0.9496 - val_loss: 2.3618 - val_accuracy: 0.5068\n"
     ]
    },
    {
     "data": {
      "text/plain": [
       "<keras.callbacks.History at 0x1bf4e431df0>"
      ]
     },
     "execution_count": 15,
     "metadata": {},
     "output_type": "execute_result"
    }
   ],
   "source": [
    "model.fit(features.todense(), y_train, validation_data = (features_test.todense(), y_test), epochs = 10, callbacks=[callback])"
   ]
  },
  {
   "cell_type": "code",
   "execution_count": 16,
   "metadata": {},
   "outputs": [
    {
     "data": {
      "text/plain": [
       "'simu liu shang chi legend ten rings phillipa soo hamilton luke bracey point break star modern twist classic love story ny times bestselling author taylor jenkins reid emma jesse living perfect life together jesse disappears tragic helicopter crash first wedding anniversary four years later emma found happiness marry best friend jesse resurfaces turning world upside leaving torn two great loves'"
      ]
     },
     "execution_count": 16,
     "metadata": {},
     "output_type": "execute_result"
    }
   ],
   "source": [
    "t = \"\"\"Simu Liu (Shang-Chi And The Legend Of The Ten Rings), Phillipa Soo (Hamilton), and Luke Bracey (Point Break) star in this modern twist on a classic love story from NY Times bestselling author Taylor Jenkins Reid. Emma and Jesse are living the perfect life together, until Jesse disappears in a tragic helicopter crash on their first wedding anniversary. Four years later, Emma has found happiness again and is about to marry her best friend when Jesse resurfaces, turning her world upside down and leaving her torn between two great loves.\"\"\"\n",
    "\n",
    "text = t.lower()\n",
    "text = re.sub(r'[^\\w\\s]',' ',text)\n",
    "text = re.sub(\"\\d+\", \" \", text)\n",
    "stop = stopwords.words('english')\n",
    "text = \" \".join(text for text in text.split() if text not in stop)\n",
    "text"
   ]
  },
  {
   "cell_type": "code",
   "execution_count": 17,
   "metadata": {},
   "outputs": [
    {
     "name": "stdout",
     "output_type": "stream",
     "text": [
      "1/1 [==============================] - 0s 86ms/step\n"
     ]
    },
    {
     "data": {
      "text/plain": [
       "'PG-13'"
      ]
     },
     "execution_count": 17,
     "metadata": {},
     "output_type": "execute_result"
    }
   ],
   "source": [
    "t = vectorizer.transform([text])\n",
    "pre_class = np.argmax(model.predict(t.todense()),axis=1)\n",
    "encoder.classes_[pre_class][0]"
   ]
  },
  {
   "cell_type": "code",
   "execution_count": 18,
   "metadata": {},
   "outputs": [],
   "source": [
    "model_json = model.to_json()\n",
    "\n",
    "with open(\"predict_rating.json\", \"w\") as json_file:\n",
    "    json_file.write(model_json)\n",
    "\n",
    "model.save_weights(\"predict_rating.h5\")"
   ]
  }
 ],
 "metadata": {
  "kernelspec": {
   "display_name": "Python 3",
   "language": "python",
   "name": "python3"
  },
  "language_info": {
   "codemirror_mode": {
    "name": "ipython",
    "version": 3
   },
   "file_extension": ".py",
   "mimetype": "text/x-python",
   "name": "python",
   "nbconvert_exporter": "python",
   "pygments_lexer": "ipython3",
   "version": "3.9.0"
  },
  "orig_nbformat": 4
 },
 "nbformat": 4,
 "nbformat_minor": 2
}
