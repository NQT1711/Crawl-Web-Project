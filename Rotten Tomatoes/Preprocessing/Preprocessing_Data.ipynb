{
 "cells": [
  {
   "attachments": {},
   "cell_type": "markdown",
   "metadata": {},
   "source": [
    "# Import thư viện"
   ]
  },
  {
   "cell_type": "code",
   "execution_count": 12,
   "metadata": {},
   "outputs": [],
   "source": [
    "import pandas as pd\n",
    "import numpy as np\n",
    "import tensorflow as tf\n",
    "import regex as re\n",
    "from nltk.corpus import stopwords\n",
    "from keras.models import model_from_json\n",
    "from keras.models import load_model\n",
    "from sklearn.model_selection import train_test_split\n",
    "from sklearn.feature_extraction.text import TfidfVectorizer\n",
    "from keras.models import Sequential\n",
    "from keras.layers import Flatten, Dense, Softmax, Dropout"
   ]
  },
  {
   "cell_type": "code",
   "execution_count": 3,
   "metadata": {},
   "outputs": [],
   "source": [
    "movie = pd.read_csv('..\\Data\\movie_info.csv')"
   ]
  },
  {
   "cell_type": "code",
   "execution_count": 4,
   "metadata": {},
   "outputs": [
    {
     "data": {
      "text/plain": [
       "(33838, 23)"
      ]
     },
     "execution_count": 4,
     "metadata": {},
     "output_type": "execute_result"
    }
   ],
   "source": [
    "movie.shape"
   ]
  },
  {
   "cell_type": "code",
   "execution_count": 6,
   "metadata": {},
   "outputs": [
    {
     "name": "stdout",
     "output_type": "stream",
     "text": [
      "<class 'pandas.core.frame.DataFrame'>\n",
      "RangeIndex: 33838 entries, 0 to 33837\n",
      "Data columns (total 23 columns):\n",
      " #   Column                    Non-Null Count  Dtype  \n",
      "---  ------                    --------------  -----  \n",
      " 0   Title                     33838 non-null  object \n",
      " 1   Tomatometer score         33838 non-null  int64  \n",
      " 2   Audience score            30302 non-null  float64\n",
      " 3   Tomatometer count         33838 non-null  object \n",
      " 4   Audience count            33838 non-null  object \n",
      " 5   Tomatometer state         33838 non-null  object \n",
      " 6   Audience state            30302 non-null  object \n",
      " 7   Genre                     33016 non-null  object \n",
      " 8   Original Language         32682 non-null  object \n",
      " 9   Director                  33678 non-null  object \n",
      " 10  Producer                  28287 non-null  object \n",
      " 11  Writer                    26653 non-null  object \n",
      " 12  Release Date (Theaters)   19694 non-null  object \n",
      " 13  Box Office (Gross USA)    13216 non-null  object \n",
      " 14  Runtime                   32608 non-null  object \n",
      " 15  Distributor               17399 non-null  object \n",
      " 16  Synopsis                  32569 non-null  object \n",
      " 17  Cast                      33689 non-null  object \n",
      " 18  Release Date (Streaming)  28635 non-null  object \n",
      " 19  Rating                    15667 non-null  object \n",
      " 20  Aspect Ratio              5400 non-null   object \n",
      " 21  Sound Mix                 9746 non-null   object \n",
      " 22  View the collection       505 non-null    object \n",
      "dtypes: float64(1), int64(1), object(21)\n",
      "memory usage: 5.9+ MB\n"
     ]
    }
   ],
   "source": [
    "movie.info()"
   ]
  },
  {
   "cell_type": "code",
   "execution_count": 10,
   "metadata": {},
   "outputs": [
    {
     "data": {
      "text/plain": [
       "Title                           0\n",
       "Tomatometer score               0\n",
       "Tomatometer count               0\n",
       "Audience count                  0\n",
       "Tomatometer state               0\n",
       "Cast                          149\n",
       "Director                      160\n",
       "Genre                         822\n",
       "Original Language            1156\n",
       "Runtime                      1230\n",
       "Synopsis                     1269\n",
       "Audience score               3536\n",
       "Audience state               3536\n",
       "Release Date (Streaming)     5203\n",
       "Producer                     5551\n",
       "Writer                       7185\n",
       "Release Date (Theaters)     14144\n",
       "Distributor                 16439\n",
       "Rating                      18171\n",
       "Box Office (Gross USA)      20622\n",
       "Sound Mix                   24092\n",
       "Aspect Ratio                28438\n",
       "View the collection         33333\n",
       "dtype: int64"
      ]
     },
     "execution_count": 10,
     "metadata": {},
     "output_type": "execute_result"
    }
   ],
   "source": [
    "movie.isnull().sum().sort_values()"
   ]
  },
  {
   "attachments": {},
   "cell_type": "markdown",
   "metadata": {},
   "source": [
    "# Tiền xử lí dữ liệu"
   ]
  },
  {
   "attachments": {},
   "cell_type": "markdown",
   "metadata": {},
   "source": [
    "## Tiền xử lí \"Rating\" và \"Genre\" bằng mô hình dự báo"
   ]
  },
  {
   "cell_type": "code",
   "execution_count": 17,
   "metadata": {},
   "outputs": [],
   "source": [
    "def preprocess_text(text):\n",
    "    text = text.lower() # Chuyển văn bản thành chữ thường\n",
    "    text = re.sub(r'[^\\w\\s]',' ',text) # Xóa dấu câu\n",
    "    text = re.sub(\"\\d+\", \" \", text) # Xóa chữ số\n",
    "    stop = stopwords.words('english') # Xóa các từ không có nghĩa (Stop Words)\n",
    "    text = \" \".join(text for text in text.split() if text not in stop)\n",
    "    return text"
   ]
  },
  {
   "cell_type": "code",
   "execution_count": null,
   "metadata": {},
   "outputs": [],
   "source": []
  },
  {
   "cell_type": "code",
   "execution_count": 19,
   "metadata": {},
   "outputs": [
    {
     "name": "stderr",
     "output_type": "stream",
     "text": [
      "C:\\Users\\Nguyen Quang Tu\\AppData\\Local\\Temp\\ipykernel_12904\\889473171.py:3: SettingWithCopyWarning: \n",
      "A value is trying to be set on a copy of a slice from a DataFrame\n",
      "\n",
      "See the caveats in the documentation: https://pandas.pydata.org/pandas-docs/stable/user_guide/indexing.html#returning-a-view-versus-a-copy\n",
      "  movie['Synopsis'].iloc[i] = preprocess_text(movie['Synopsis'].iloc[i])\n"
     ]
    },
    {
     "ename": "AttributeError",
     "evalue": "'float' object has no attribute 'lower'",
     "output_type": "error",
     "traceback": [
      "\u001b[1;31m---------------------------------------------------------------------------\u001b[0m",
      "\u001b[1;31mAttributeError\u001b[0m                            Traceback (most recent call last)",
      "Cell \u001b[1;32mIn[19], line 3\u001b[0m\n\u001b[0;32m      1\u001b[0m \u001b[39m# Tiền xử lí cột \"Synopsis\" để đưa vào mô hình\u001b[39;00m\n\u001b[0;32m      2\u001b[0m \u001b[39mfor\u001b[39;00m i \u001b[39min\u001b[39;00m \u001b[39mrange\u001b[39m(\u001b[39mlen\u001b[39m(movie)):\n\u001b[1;32m----> 3\u001b[0m     movie[\u001b[39m'\u001b[39m\u001b[39mSynopsis\u001b[39m\u001b[39m'\u001b[39m]\u001b[39m.\u001b[39miloc[i] \u001b[39m=\u001b[39m preprocess_text(movie[\u001b[39m'\u001b[39;49m\u001b[39mSynopsis\u001b[39;49m\u001b[39m'\u001b[39;49m]\u001b[39m.\u001b[39;49miloc[i])\n",
      "Cell \u001b[1;32mIn[17], line 2\u001b[0m, in \u001b[0;36mpreprocess_text\u001b[1;34m(text)\u001b[0m\n\u001b[0;32m      1\u001b[0m \u001b[39mdef\u001b[39;00m \u001b[39mpreprocess_text\u001b[39m(text):\n\u001b[1;32m----> 2\u001b[0m     text \u001b[39m=\u001b[39m text\u001b[39m.\u001b[39;49mlower() \u001b[39m# Chuyển văn bản thành chữ thường\u001b[39;00m\n\u001b[0;32m      3\u001b[0m     text \u001b[39m=\u001b[39m re\u001b[39m.\u001b[39msub(\u001b[39mr\u001b[39m\u001b[39m'\u001b[39m\u001b[39m[^\u001b[39m\u001b[39m\\\u001b[39m\u001b[39mw\u001b[39m\u001b[39m\\\u001b[39m\u001b[39ms]\u001b[39m\u001b[39m'\u001b[39m,\u001b[39m'\u001b[39m\u001b[39m \u001b[39m\u001b[39m'\u001b[39m,text) \u001b[39m# Xóa dấu câu\u001b[39;00m\n\u001b[0;32m      4\u001b[0m     text \u001b[39m=\u001b[39m re\u001b[39m.\u001b[39msub(\u001b[39m\"\u001b[39m\u001b[39m\\\u001b[39m\u001b[39md+\u001b[39m\u001b[39m\"\u001b[39m, \u001b[39m\"\u001b[39m\u001b[39m \u001b[39m\u001b[39m\"\u001b[39m, text) \u001b[39m# Xóa chữ số\u001b[39;00m\n",
      "\u001b[1;31mAttributeError\u001b[0m: 'float' object has no attribute 'lower'"
     ]
    }
   ],
   "source": [
    "# Tiền xử lí cột \"Synopsis\" để đưa vào mô hình\n",
    "for i in range(len(movie)):\n",
    "    movie['Synopsis'].iloc[i] = preprocess_text(movie['Synopsis'].iloc[i])"
   ]
  },
  {
   "attachments": {},
   "cell_type": "markdown",
   "metadata": {},
   "source": [
    "### Tiền xử lí cột \"Rating\""
   ]
  },
  {
   "cell_type": "code",
   "execution_count": 14,
   "metadata": {},
   "outputs": [],
   "source": [
    "# Load model predict Rating đã train\n",
    "json_file = open('Predict Rating Model\\predict_rating.json', 'r')\n",
    "\n",
    "loaded_model_json = json_file.read()\n",
    "json_file.close()\n",
    "loaded_model = model_from_json(loaded_model_json)\n",
    "\n",
    "loaded_model.load_weights(\"Predict Rating Model\\predict_rating.h5\")"
   ]
  },
  {
   "cell_type": "code",
   "execution_count": 16,
   "metadata": {},
   "outputs": [
    {
     "ename": "NameError",
     "evalue": "name 'genre' is not defined",
     "output_type": "error",
     "traceback": [
      "\u001b[1;31m---------------------------------------------------------------------------\u001b[0m",
      "\u001b[1;31mNameError\u001b[0m                                 Traceback (most recent call last)",
      "Cell \u001b[1;32mIn[16], line 5\u001b[0m\n\u001b[0;32m      1\u001b[0m t \u001b[39m=\u001b[39m \u001b[39m\"\"\"\u001b[39m\n\u001b[0;32m      2\u001b[0m \u001b[39mIn 1974, after years of civil war, the Portuguese and their descendants fled the colony of Angola where independentist groups gradually claimed their territory back. TOMMY GUNS gives a dual perspective on this struggle: a tribal girl who discovers love and death when her path crosses that of a young Portuguese soldier; and a group of Portuguese soldiers who are barracked inside an infinite wall from which they will have to escape once the past comes out of the grave to claim its long awaited justice.\u001b[39m\n\u001b[0;32m      3\u001b[0m \u001b[39m\"\"\"\u001b[39m\n\u001b[1;32m----> 5\u001b[0m x_train, x_test, y_train, y_test \u001b[39m=\u001b[39m train_test_split(movie[\u001b[39m'\u001b[39m\u001b[39mSynopsis\u001b[39m\u001b[39m'\u001b[39m]\u001b[39m.\u001b[39mvalues, movie[genre]\u001b[39m.\u001b[39mvalues, test_size \u001b[39m=\u001b[39m \u001b[39m0.2\u001b[39m, random_state \u001b[39m=\u001b[39m \u001b[39m0\u001b[39m)\n\u001b[0;32m      6\u001b[0m vectorizer \u001b[39m=\u001b[39m TfidfVectorizer()\u001b[39m.\u001b[39mfit(x_train)\n\u001b[0;32m      8\u001b[0m t \u001b[39m=\u001b[39m vectorizer\u001b[39m.\u001b[39mtransform([preprocess_text(t)])\n",
      "\u001b[1;31mNameError\u001b[0m: name 'genre' is not defined"
     ]
    }
   ],
   "source": [
    "t = \"\"\"\n",
    "In 1974, after years of civil war, the Portuguese and their descendants fled the colony of Angola where independentist groups gradually claimed their territory back. TOMMY GUNS gives a dual perspective on this struggle: a tribal girl who discovers love and death when her path crosses that of a young Portuguese soldier; and a group of Portuguese soldiers who are barracked inside an infinite wall from which they will have to escape once the past comes out of the grave to claim its long awaited justice.\n",
    "\"\"\"\n",
    "\n",
    "x_train, x_test, y_train, y_test = train_test_split(movie['Synopsis'].values, movie['Rating'].values, test_size = 0.2, random_state = 0)\n",
    "vectorizer = TfidfVectorizer().fit(x_train)\n",
    "\n",
    "t = vectorizer.transform([preprocess_text(t)])\n",
    "np.argmax(loaded_model.predict(t.todense()),axis=1)"
   ]
  },
  {
   "cell_type": "code",
   "execution_count": null,
   "metadata": {},
   "outputs": [],
   "source": []
  }
 ],
 "metadata": {
  "kernelspec": {
   "display_name": "Python 3",
   "language": "python",
   "name": "python3"
  },
  "language_info": {
   "codemirror_mode": {
    "name": "ipython",
    "version": 3
   },
   "file_extension": ".py",
   "mimetype": "text/x-python",
   "name": "python",
   "nbconvert_exporter": "python",
   "pygments_lexer": "ipython3",
   "version": "3.9.0"
  },
  "orig_nbformat": 4
 },
 "nbformat": 4,
 "nbformat_minor": 2
}
