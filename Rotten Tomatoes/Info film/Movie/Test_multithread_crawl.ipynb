{
 "cells": [
  {
   "cell_type": "code",
   "execution_count": 1,
   "metadata": {},
   "outputs": [],
   "source": [
    "from selenium import webdriver\n",
    "from selenium.webdriver.chrome.service import Service\n",
    "from bs4 import BeautifulSoup\n",
    "import pandas as pd\n",
    "from time import sleep\n",
    "from selenium import webdriver\n",
    "from selenium.webdriver.support.ui import WebDriverWait\n",
    "from selenium.webdriver.support import expected_conditions as EC\n",
    "from selenium.webdriver.common.by import By\n",
    "import traceback\n",
    "import threading\n",
    "from queue import Queue"
   ]
  },
  {
   "cell_type": "code",
   "execution_count": 5,
   "metadata": {},
   "outputs": [],
   "source": [
    "list_all_url_movie = pd.read_csv('E:/Crawl_Web/Rotten Tomatoes/Crawl URL/URL_movie.csv').squeeze('columns').tolist()"
   ]
  },
  {
   "cell_type": "code",
   "execution_count": 24,
   "metadata": {},
   "outputs": [],
   "source": [
    "def openMultiChrome(n):\n",
    "    list_driver = []\n",
    "    for i in range(n):\n",
    "        options = webdriver.ChromeOptions()\n",
    "        options.add_argument('--ignore-certificate-errors')\n",
    "        options.add_argument('--incognito')\n",
    "        options.add_argument(\"--start-maximized\")\n",
    "        s = Service('C:\\chromedriver')\n",
    "        driver = webdriver.Chrome(service=s, options=options)\n",
    "        driver.implicitly_wait(0)\n",
    "\n",
    "        list_driver.append(driver)\n",
    "    return list_driver"
   ]
  },
  {
   "cell_type": "code",
   "execution_count": 3,
   "metadata": {},
   "outputs": [],
   "source": [
    "def getUrl(driver, url):\n",
    "    driver.get(url)"
   ]
  },
  {
   "cell_type": "code",
   "execution_count": 4,
   "metadata": {},
   "outputs": [],
   "source": [
    "def loadMultiUrl(list_driver, list_url):\n",
    "    num = 0\n",
    "    for driver in list_driver:\n",
    "        t = threading.Thread(target=getUrl, args=(driver, list_url[num]))\n",
    "        t.start()\n",
    "        num+=1"
   ]
  },
  {
   "cell_type": "code",
   "execution_count": null,
   "metadata": {},
   "outputs": [],
   "source": [
    "def getData(driver):\n",
    "    try:\n",
    "        element = WebDriverWait(driver, 30).until(EC.presence_of_element_located((By.CSS_SELECTOR, 'div[id=\"main_container\"]')))\n",
    "        html_of_interest = driver.execute_script('return arguments[0].innerHTML',element)\n",
    "        soup = BeautifulSoup(html_of_interest, 'lxml')\n",
    "\n",
    "        dict_info_movie = {}\n",
    "\n",
    "        # Tiêu đề phim\n",
    "        dict_info_movie['Title'] = soup.select('h1[class=\"scoreboard__title\"]')[0].text\n",
    "\n",
    "        # Điểm đánh giá của nhà phê bình\n",
    "        dict_info_movie['Tomatometer score'] = soup.select('score-board')[0].attrs['tomatometerscore']\n",
    "\n",
    "        \n"
   ]
  },
  {
   "cell_type": "code",
   "execution_count": 25,
   "metadata": {},
   "outputs": [
    {
     "name": "stdout",
     "output_type": "stream",
     "text": [
      "Crawl xong https://www.rottentomatoes.com/m/beg1994\n",
      "Crawl xong https://www.rottentomatoes.com/m/limo\n"
     ]
    }
   ],
   "source": [
    "num_thread = 2\n",
    "drivers = openMultiChrome(num_thread)\n",
    "\n",
    "num = 0\n",
    "for i in range(round(len(list_all_url_movie)/num_thread)):\n",
    "    url = list_all_url_movie[num : num+num_thread]\n",
    "    loadMultiUrl(drivers, url)\n",
    "    \n",
    "    num += num_thread\n",
    "    sleep(5)\n",
    "\n",
    "\n",
    "\n",
    "\n",
    "    break"
   ]
  },
  {
   "cell_type": "code",
   "execution_count": null,
   "metadata": {},
   "outputs": [],
   "source": []
  }
 ],
 "metadata": {
  "kernelspec": {
   "display_name": "Python 3",
   "language": "python",
   "name": "python3"
  },
  "language_info": {
   "codemirror_mode": {
    "name": "ipython",
    "version": 3
   },
   "file_extension": ".py",
   "mimetype": "text/x-python",
   "name": "python",
   "nbconvert_exporter": "python",
   "pygments_lexer": "ipython3",
   "version": "3.9.0"
  },
  "orig_nbformat": 4
 },
 "nbformat": 4,
 "nbformat_minor": 2
}
